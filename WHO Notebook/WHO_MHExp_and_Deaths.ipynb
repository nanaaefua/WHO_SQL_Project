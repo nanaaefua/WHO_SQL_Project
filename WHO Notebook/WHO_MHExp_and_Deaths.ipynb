{
 "cells": [
  {
   "cell_type": "markdown",
   "metadata": {},
   "source": []
  },
  {
   "cell_type": "markdown",
   "metadata": {},
   "source": [
    "#import libraries"
   ]
  },
  {
   "cell_type": "code",
   "execution_count": 346,
   "metadata": {},
   "outputs": [],
   "source": [
    "import pandas as pd \n",
    "import numpy as np\n",
    "from scipy import stats #for outlier detection based on standard deviations\n",
    "import matplotlib.pyplot as plt #likley won't be used much as i'm experimenting with plotly \n",
    "import plotly.graph_objects as go #you will be learning how go and px work with me! \n",
    "import plotly.express as px \n",
    "import seaborn as sns"
   ]
  },
  {
   "cell_type": "markdown",
   "metadata": {},
   "source": [
    "#Import data, describe,preview; and check nulls"
   ]
  },
  {
   "cell_type": "code",
   "execution_count": 347,
   "metadata": {},
   "outputs": [
    {
     "data": {
      "text/plain": [
       "(531, 9)"
      ]
     },
     "execution_count": 347,
     "metadata": {},
     "output_type": "execute_result"
    }
   ],
   "source": [
    "#current directory Users\\GDA\\Portfolio\\WHO_Stats\n",
    "df = pd.read_csv('WHO_MHExp_and_Deaths.csv')\n",
    "df.shape\n"
   ]
  },
  {
   "cell_type": "code",
   "execution_count": 348,
   "metadata": {},
   "outputs": [
    {
     "data": {
      "text/html": [
       "<div>\n",
       "<style scoped>\n",
       "    .dataframe tbody tr th:only-of-type {\n",
       "        vertical-align: middle;\n",
       "    }\n",
       "\n",
       "    .dataframe tbody tr th {\n",
       "        vertical-align: top;\n",
       "    }\n",
       "\n",
       "    .dataframe thead th {\n",
       "        text-align: right;\n",
       "    }\n",
       "</style>\n",
       "<table border=\"1\" class=\"dataframe\">\n",
       "  <thead>\n",
       "    <tr style=\"text-align: right;\">\n",
       "      <th></th>\n",
       "      <th>Year</th>\n",
       "      <th>Population</th>\n",
       "      <th>Deaths_All_Types</th>\n",
       "      <th>Deaths_Suicides</th>\n",
       "      <th>HExp_Pctage_Y</th>\n",
       "      <th>MHExp_Pctage_2011</th>\n",
       "      <th>Dep_Num_2015</th>\n",
       "      <th>Suicide_p100</th>\n",
       "    </tr>\n",
       "  </thead>\n",
       "  <tbody>\n",
       "    <tr>\n",
       "      <th>count</th>\n",
       "      <td>531.000000</td>\n",
       "      <td>5.310000e+02</td>\n",
       "      <td>5.310000e+02</td>\n",
       "      <td>531.000000</td>\n",
       "      <td>531.000000</td>\n",
       "      <td>531.000000</td>\n",
       "      <td>531.000000</td>\n",
       "      <td>531.000000</td>\n",
       "    </tr>\n",
       "    <tr>\n",
       "      <th>mean</th>\n",
       "      <td>2009.694915</td>\n",
       "      <td>2.535148e+07</td>\n",
       "      <td>4.322763e+05</td>\n",
       "      <td>259.659134</td>\n",
       "      <td>7.555631</td>\n",
       "      <td>5.731205</td>\n",
       "      <td>4.890603</td>\n",
       "      <td>10.832768</td>\n",
       "    </tr>\n",
       "    <tr>\n",
       "      <th>std</th>\n",
       "      <td>5.572266</td>\n",
       "      <td>3.285463e+07</td>\n",
       "      <td>5.856799e+05</td>\n",
       "      <td>1075.051391</td>\n",
       "      <td>2.103642</td>\n",
       "      <td>2.952330</td>\n",
       "      <td>0.605882</td>\n",
       "      <td>5.491425</td>\n",
       "    </tr>\n",
       "    <tr>\n",
       "      <th>min</th>\n",
       "      <td>2000.000000</td>\n",
       "      <td>2.811540e+05</td>\n",
       "      <td>8.360000e+02</td>\n",
       "      <td>0.000000</td>\n",
       "      <td>1.990000</td>\n",
       "      <td>0.390000</td>\n",
       "      <td>2.900000</td>\n",
       "      <td>0.820000</td>\n",
       "    </tr>\n",
       "    <tr>\n",
       "      <th>25%</th>\n",
       "      <td>2005.000000</td>\n",
       "      <td>3.553031e+06</td>\n",
       "      <td>5.733600e+04</td>\n",
       "      <td>0.000000</td>\n",
       "      <td>6.100000</td>\n",
       "      <td>3.860000</td>\n",
       "      <td>4.570000</td>\n",
       "      <td>6.415000</td>\n",
       "    </tr>\n",
       "    <tr>\n",
       "      <th>50%</th>\n",
       "      <td>2010.000000</td>\n",
       "      <td>9.696110e+06</td>\n",
       "      <td>1.841500e+05</td>\n",
       "      <td>2.000000</td>\n",
       "      <td>7.900000</td>\n",
       "      <td>5.080000</td>\n",
       "      <td>5.060000</td>\n",
       "      <td>10.240000</td>\n",
       "    </tr>\n",
       "    <tr>\n",
       "      <th>75%</th>\n",
       "      <td>2014.000000</td>\n",
       "      <td>3.811594e+07</td>\n",
       "      <td>7.411640e+05</td>\n",
       "      <td>42.500000</td>\n",
       "      <td>9.070000</td>\n",
       "      <td>7.640000</td>\n",
       "      <td>5.190000</td>\n",
       "      <td>14.495000</td>\n",
       "    </tr>\n",
       "    <tr>\n",
       "      <th>max</th>\n",
       "      <td>2019.000000</td>\n",
       "      <td>2.101471e+08</td>\n",
       "      <td>2.762186e+06</td>\n",
       "      <td>20031.000000</td>\n",
       "      <td>13.680000</td>\n",
       "      <td>12.910000</td>\n",
       "      <td>5.940000</td>\n",
       "      <td>29.630000</td>\n",
       "    </tr>\n",
       "  </tbody>\n",
       "</table>\n",
       "</div>"
      ],
      "text/plain": [
       "              Year    Population  Deaths_All_Types  Deaths_Suicides  \\\n",
       "count   531.000000  5.310000e+02      5.310000e+02       531.000000   \n",
       "mean   2009.694915  2.535148e+07      4.322763e+05       259.659134   \n",
       "std       5.572266  3.285463e+07      5.856799e+05      1075.051391   \n",
       "min    2000.000000  2.811540e+05      8.360000e+02         0.000000   \n",
       "25%    2005.000000  3.553031e+06      5.733600e+04         0.000000   \n",
       "50%    2010.000000  9.696110e+06      1.841500e+05         2.000000   \n",
       "75%    2014.000000  3.811594e+07      7.411640e+05        42.500000   \n",
       "max    2019.000000  2.101471e+08      2.762186e+06     20031.000000   \n",
       "\n",
       "       HExp_Pctage_Y  MHExp_Pctage_2011  Dep_Num_2015  Suicide_p100  \n",
       "count     531.000000         531.000000    531.000000    531.000000  \n",
       "mean        7.555631           5.731205      4.890603     10.832768  \n",
       "std         2.103642           2.952330      0.605882      5.491425  \n",
       "min         1.990000           0.390000      2.900000      0.820000  \n",
       "25%         6.100000           3.860000      4.570000      6.415000  \n",
       "50%         7.900000           5.080000      5.060000     10.240000  \n",
       "75%         9.070000           7.640000      5.190000     14.495000  \n",
       "max        13.680000          12.910000      5.940000     29.630000  "
      ]
     },
     "execution_count": 348,
     "metadata": {},
     "output_type": "execute_result"
    }
   ],
   "source": [
    "df.describe()\n",
    "#df.dtypes"
   ]
  },
  {
   "cell_type": "code",
   "execution_count": 349,
   "metadata": {},
   "outputs": [
    {
     "data": {
      "text/html": [
       "<div>\n",
       "<style scoped>\n",
       "    .dataframe tbody tr th:only-of-type {\n",
       "        vertical-align: middle;\n",
       "    }\n",
       "\n",
       "    .dataframe tbody tr th {\n",
       "        vertical-align: top;\n",
       "    }\n",
       "\n",
       "    .dataframe thead th {\n",
       "        text-align: right;\n",
       "    }\n",
       "</style>\n",
       "<table border=\"1\" class=\"dataframe\">\n",
       "  <thead>\n",
       "    <tr style=\"text-align: right;\">\n",
       "      <th></th>\n",
       "      <th>Country_Name</th>\n",
       "      <th>Year</th>\n",
       "      <th>Population</th>\n",
       "      <th>Deaths_All_Types</th>\n",
       "      <th>Deaths_Suicides</th>\n",
       "      <th>HExp_Pctage_Y</th>\n",
       "      <th>MHExp_Pctage_2011</th>\n",
       "      <th>Dep_Num_2015</th>\n",
       "      <th>Suicide_p100</th>\n",
       "    </tr>\n",
       "  </thead>\n",
       "  <tbody>\n",
       "    <tr>\n",
       "      <th>0</th>\n",
       "      <td>Armenia</td>\n",
       "      <td>2006</td>\n",
       "      <td>3219235.0</td>\n",
       "      <td>54404</td>\n",
       "      <td>78</td>\n",
       "      <td>5.85</td>\n",
       "      <td>3.38</td>\n",
       "      <td>4.99</td>\n",
       "      <td>5.36</td>\n",
       "    </tr>\n",
       "    <tr>\n",
       "      <th>1</th>\n",
       "      <td>Armenia</td>\n",
       "      <td>2007</td>\n",
       "      <td>3107395.5</td>\n",
       "      <td>53660</td>\n",
       "      <td>0</td>\n",
       "      <td>5.50</td>\n",
       "      <td>3.38</td>\n",
       "      <td>4.99</td>\n",
       "      <td>5.02</td>\n",
       "    </tr>\n",
       "    <tr>\n",
       "      <th>2</th>\n",
       "      <td>Armenia</td>\n",
       "      <td>2008</td>\n",
       "      <td>3234031.0</td>\n",
       "      <td>54824</td>\n",
       "      <td>63</td>\n",
       "      <td>6.64</td>\n",
       "      <td>3.38</td>\n",
       "      <td>4.99</td>\n",
       "      <td>4.23</td>\n",
       "    </tr>\n",
       "    <tr>\n",
       "      <th>3</th>\n",
       "      <td>Armenia</td>\n",
       "      <td>2009</td>\n",
       "      <td>3066044.0</td>\n",
       "      <td>55120</td>\n",
       "      <td>53</td>\n",
       "      <td>8.44</td>\n",
       "      <td>3.38</td>\n",
       "      <td>4.99</td>\n",
       "      <td>4.06</td>\n",
       "    </tr>\n",
       "    <tr>\n",
       "      <th>4</th>\n",
       "      <td>Armenia</td>\n",
       "      <td>2012</td>\n",
       "      <td>3024127.0</td>\n",
       "      <td>55200</td>\n",
       "      <td>79</td>\n",
       "      <td>9.13</td>\n",
       "      <td>3.38</td>\n",
       "      <td>4.99</td>\n",
       "      <td>6.39</td>\n",
       "    </tr>\n",
       "  </tbody>\n",
       "</table>\n",
       "</div>"
      ],
      "text/plain": [
       "  Country_Name  Year  Population  Deaths_All_Types  Deaths_Suicides  \\\n",
       "0      Armenia  2006   3219235.0             54404               78   \n",
       "1      Armenia  2007   3107395.5             53660                0   \n",
       "2      Armenia  2008   3234031.0             54824               63   \n",
       "3      Armenia  2009   3066044.0             55120               53   \n",
       "4      Armenia  2012   3024127.0             55200               79   \n",
       "\n",
       "   HExp_Pctage_Y  MHExp_Pctage_2011  Dep_Num_2015  Suicide_p100  \n",
       "0           5.85               3.38          4.99          5.36  \n",
       "1           5.50               3.38          4.99          5.02  \n",
       "2           6.64               3.38          4.99          4.23  \n",
       "3           8.44               3.38          4.99          4.06  \n",
       "4           9.13               3.38          4.99          6.39  "
      ]
     },
     "execution_count": 349,
     "metadata": {},
     "output_type": "execute_result"
    }
   ],
   "source": [
    "df.head()"
   ]
  },
  {
   "cell_type": "code",
   "execution_count": 350,
   "metadata": {},
   "outputs": [
    {
     "data": {
      "text/plain": [
       "Country_Name         0.0\n",
       "Year                 0.0\n",
       "Population           0.0\n",
       "Deaths_All_Types     0.0\n",
       "Deaths_Suicides      0.0\n",
       "HExp_Pctage_Y        0.0\n",
       "MHExp_Pctage_2011    0.0\n",
       "Dep_Num_2015         0.0\n",
       "Suicide_p100         0.0\n",
       "dtype: float64"
      ]
     },
     "execution_count": 350,
     "metadata": {},
     "output_type": "execute_result"
    }
   ],
   "source": [
    "#check for percentage of nulls\n",
    "df.isnull().sum() /df.shape[0]"
   ]
  },
  {
   "cell_type": "markdown",
   "metadata": {},
   "source": [
    "#Plotly and Graphs"
   ]
  },
  {
   "cell_type": "code",
   "execution_count": 413,
   "metadata": {},
   "outputs": [
    {
     "data": {
      "application/vnd.plotly.v1+json": {
       "config": {
        "plotlyServerURL": "https://plot.ly"
       },
       "data": [
        {
         "histfunc": "avg",
         "name": "MHExp_2011",
         "opacity": 0.75,
         "type": "histogram",
         "x": [
          "Malaysia",
          "Malaysia",
          "Malaysia",
          "Malaysia",
          "Malaysia",
          "Malaysia",
          "Malaysia",
          "Malaysia",
          "Tajikistan",
          "Solomon Islands",
          "Solomon Islands",
          "Bulgaria",
          "Bulgaria",
          "Bulgaria",
          "Bulgaria",
          "Bulgaria",
          "Bulgaria",
          "Bulgaria",
          "Bulgaria",
          "Bulgaria",
          "Bulgaria",
          "Bulgaria",
          "Bulgaria",
          "Bulgaria",
          "Bulgaria",
          "Bulgaria",
          "Fiji",
          "Syrian Arab Republic",
          "Syrian Arab Republic",
          "Syrian Arab Republic",
          "Syrian Arab Republic",
          "Syrian Arab Republic",
          "Syrian Arab Republic",
          "Syrian Arab Republic",
          "Syrian Arab Republic",
          "Syrian Arab Republic",
          "Syrian Arab Republic",
          "Mongolia",
          "Syrian Arab Republic",
          "Egypt",
          "Egypt",
          "Egypt",
          "Egypt",
          "Egypt",
          "Egypt",
          "Egypt",
          "Egypt",
          "Egypt",
          "Egypt",
          "Egypt",
          "Egypt",
          "Egypt",
          "Egypt",
          "Egypt",
          "Egypt",
          "Egypt",
          "Egypt",
          "Egypt",
          "Uzbekistan",
          "Uzbekistan",
          "Uzbekistan",
          "Uzbekistan",
          "Uzbekistan",
          "Uzbekistan",
          "Uzbekistan",
          "Uzbekistan",
          "Uzbekistan",
          "Uzbekistan",
          "Uzbekistan",
          "Uzbekistan",
          "Uzbekistan",
          "Brazil",
          "Azerbaijan",
          "Azerbaijan",
          "Azerbaijan",
          "Azerbaijan",
          "Azerbaijan",
          "Georgia",
          "Georgia",
          "Georgia",
          "Georgia",
          "Georgia",
          "Georgia",
          "Georgia",
          "Georgia",
          "Georgia",
          "Georgia",
          "Georgia",
          "Georgia",
          "Georgia",
          "Georgia",
          "Georgia",
          "Georgia",
          "Georgia",
          "Costa Rica",
          "Republic of Moldova",
          "Republic of Moldova",
          "Republic of Moldova",
          "Republic of Moldova",
          "Republic of Moldova",
          "Republic of Moldova",
          "Republic of Moldova",
          "Republic of Moldova",
          "Republic of Moldova",
          "Republic of Moldova",
          "Republic of Moldova",
          "Republic of Moldova",
          "Republic of Moldova",
          "Republic of Moldova",
          "Republic of Moldova",
          "Republic of Moldova",
          "Republic of Moldova",
          "Republic of Moldova",
          "Republic of Moldova",
          "Armenia",
          "Armenia",
          "Armenia",
          "Armenia",
          "Armenia",
          "Armenia",
          "Armenia",
          "Armenia",
          "Armenia",
          "Armenia",
          "Armenia",
          "Armenia",
          "Iran (Islamic Republic of)",
          "Finland",
          "Finland",
          "Finland",
          "Finland",
          "Finland",
          "Finland",
          "Finland",
          "Finland",
          "Finland",
          "Finland",
          "Finland",
          "Finland",
          "Finland",
          "Finland",
          "Finland",
          "Finland",
          "Finland",
          "Finland",
          "Kyrgyzstan",
          "Kyrgyzstan",
          "Kyrgyzstan",
          "Kyrgyzstan",
          "Kyrgyzstan",
          "Kyrgyzstan",
          "Kyrgyzstan",
          "Kyrgyzstan",
          "Kyrgyzstan",
          "Thailand",
          "Thailand",
          "Thailand",
          "Thailand",
          "Thailand",
          "Thailand",
          "Thailand",
          "Thailand",
          "Thailand",
          "Thailand",
          "Thailand",
          "Thailand",
          "Thailand",
          "Kyrgyzstan",
          "Kyrgyzstan",
          "Thailand",
          "Kyrgyzstan",
          "Kyrgyzstan",
          "Kyrgyzstan",
          "Kyrgyzstan",
          "Kyrgyzstan",
          "Kyrgyzstan",
          "Kyrgyzstan",
          "Kyrgyzstan",
          "Kyrgyzstan",
          "Singapore",
          "Singapore",
          "Singapore",
          "Singapore",
          "Singapore",
          "Singapore",
          "Singapore",
          "Singapore",
          "Greece",
          "Greece",
          "Greece",
          "Greece",
          "Greece",
          "Greece",
          "Lebanon",
          "Cyprus",
          "Cyprus",
          "Cyprus",
          "Cyprus",
          "Cyprus",
          "Cyprus",
          "Cyprus",
          "Cyprus",
          "Cyprus",
          "Cyprus",
          "Cyprus",
          "Cyprus",
          "Cyprus",
          "Cyprus",
          "Cyprus",
          "Cyprus",
          "Japan",
          "Japan",
          "Japan",
          "Japan",
          "Japan",
          "Japan",
          "Japan",
          "Japan",
          "Japan",
          "Japan",
          "Japan",
          "Japan",
          "Japan",
          "Japan",
          "Japan",
          "Japan",
          "Japan",
          "Japan",
          "Japan",
          "Japan",
          "Tunisia",
          "Spain",
          "Spain",
          "Spain",
          "Spain",
          "Spain",
          "Spain",
          "Spain",
          "Spain",
          "Spain",
          "Spain",
          "Spain",
          "Spain",
          "Spain",
          "Spain",
          "Spain",
          "Italy",
          "Italy",
          "Italy",
          "Italy",
          "Italy",
          "Italy",
          "Italy",
          "Italy",
          "Italy",
          "Italy",
          "Italy",
          "Italy",
          "Italy",
          "Italy",
          "Italy",
          "Spain",
          "Spain",
          "Spain",
          "Spain",
          "Poland",
          "Poland",
          "Poland",
          "Poland",
          "Poland",
          "Poland",
          "Poland",
          "Poland",
          "Poland",
          "Poland",
          "Poland",
          "Poland",
          "Poland",
          "Poland",
          "Poland",
          "Poland",
          "Poland",
          "Poland",
          "Poland",
          "Poland",
          "Hungary",
          "Hungary",
          "Hungary",
          "Hungary",
          "Hungary",
          "Hungary",
          "Hungary",
          "Hungary",
          "Hungary",
          "Hungary",
          "Hungary",
          "Hungary",
          "Hungary",
          "Hungary",
          "Hungary",
          "Hungary",
          "Hungary",
          "Hungary",
          "Hungary",
          "Hungary",
          "Portugal",
          "Portugal",
          "Portugal",
          "Portugal",
          "Portugal",
          "Portugal",
          "Portugal",
          "Portugal",
          "Portugal",
          "Portugal",
          "Portugal",
          "Portugal",
          "Portugal",
          "Portugal",
          "Portugal",
          "Portugal",
          "Estonia",
          "Estonia",
          "Estonia",
          "Estonia",
          "Estonia",
          "Estonia",
          "Estonia",
          "Estonia",
          "Estonia",
          "Estonia",
          "Estonia",
          "Estonia",
          "Estonia",
          "Estonia",
          "Estonia",
          "Estonia",
          "Estonia",
          "Latvia",
          "Latvia",
          "Latvia",
          "Latvia",
          "Latvia",
          "Latvia",
          "Latvia",
          "Latvia",
          "Latvia",
          "Latvia",
          "Latvia",
          "Latvia",
          "Latvia",
          "Latvia",
          "Latvia",
          "Latvia",
          "Latvia",
          "Latvia",
          "Latvia",
          "Latvia",
          "Malta",
          "Malta",
          "Malta",
          "Malta",
          "Malta",
          "Malta",
          "Malta",
          "Malta",
          "Malta",
          "Malta",
          "Malta",
          "Malta",
          "Malta",
          "Malta",
          "Malta",
          "Malta",
          "Malta",
          "Malta",
          "Canada",
          "Canada",
          "Canada",
          "Canada",
          "Canada",
          "Canada",
          "Australia",
          "Australia",
          "Australia",
          "Australia",
          "Australia",
          "Australia",
          "Australia",
          "Australia",
          "Australia",
          "Australia",
          "Australia",
          "Australia",
          "Australia",
          "Australia",
          "Australia",
          "Australia",
          "Australia",
          "Australia",
          "Australia",
          "Slovenia",
          "Slovenia",
          "Slovenia",
          "Slovenia",
          "Slovenia",
          "Slovenia",
          "Slovenia",
          "Slovenia",
          "Slovenia",
          "Slovenia",
          "Slovenia",
          "Slovenia",
          "Slovenia",
          "Slovenia",
          "Slovenia",
          "Slovenia",
          "Slovenia",
          "Slovenia",
          "Slovenia",
          "Slovenia",
          "Iceland",
          "Iceland",
          "Iceland",
          "Iceland",
          "Iceland",
          "Iceland",
          "Iceland",
          "Iceland",
          "Iceland",
          "Iceland",
          "Iceland",
          "Iceland",
          "Iceland",
          "Iceland",
          "Iceland",
          "Iceland",
          "Iceland",
          "Iceland",
          "Iceland",
          "Iceland",
          "Sweden",
          "New Zealand",
          "Sweden",
          "Sweden",
          "Sweden",
          "Sweden",
          "Sweden",
          "Sweden",
          "Sweden",
          "Sweden",
          "Sweden",
          "Sweden",
          "Sweden",
          "Sweden",
          "Sweden",
          "Sweden",
          "Sweden",
          "Sweden",
          "Sweden",
          "New Zealand",
          "Sweden",
          "New Zealand",
          "New Zealand",
          "New Zealand",
          "New Zealand",
          "New Zealand",
          "New Zealand",
          "New Zealand",
          "New Zealand",
          "New Zealand",
          "New Zealand",
          "New Zealand",
          "New Zealand",
          "New Zealand",
          "New Zealand",
          "Netherlands",
          "Netherlands",
          "Netherlands",
          "Netherlands",
          "Netherlands",
          "Netherlands",
          "Netherlands",
          "Netherlands",
          "Netherlands",
          "Netherlands",
          "Netherlands",
          "Netherlands",
          "Netherlands",
          "Netherlands",
          "Netherlands",
          "Netherlands",
          "Netherlands",
          "Netherlands",
          "Netherlands",
          "Netherlands",
          "Germany",
          "Germany",
          "Germany",
          "Germany",
          "Germany",
          "Germany",
          "Germany",
          "Germany",
          "Germany",
          "Germany",
          "Germany",
          "Germany",
          "Germany",
          "Germany",
          "Germany",
          "Germany",
          "Germany",
          "Germany",
          "Germany",
          "Germany",
          "France",
          "France",
          "France",
          "France",
          "France",
          "France",
          "France",
          "France",
          "France",
          "France",
          "France",
          "France",
          "France",
          "France",
          "France"
         ],
         "y": [
          0.39,
          0.39,
          0.39,
          0.39,
          0.39,
          0.39,
          0.39,
          0.39,
          1.22,
          1.3,
          1.3,
          1.4,
          1.4,
          1.4,
          1.4,
          1.4,
          1.4,
          1.4,
          1.4,
          1.4,
          1.4,
          1.4,
          1.4,
          1.4,
          1.4,
          1.4,
          1.9,
          2,
          2,
          2,
          2,
          2,
          2,
          2,
          2,
          2,
          2,
          2,
          2,
          2.29,
          2.29,
          2.29,
          2.29,
          2.29,
          2.29,
          2.29,
          2.29,
          2.29,
          2.29,
          2.29,
          2.29,
          2.29,
          2.29,
          2.29,
          2.29,
          2.29,
          2.29,
          2.29,
          2.32,
          2.32,
          2.32,
          2.32,
          2.32,
          2.32,
          2.32,
          2.32,
          2.32,
          2.32,
          2.32,
          2.32,
          2.32,
          2.38,
          2.5,
          2.5,
          2.5,
          2.5,
          2.5,
          2.83,
          2.83,
          2.83,
          2.83,
          2.83,
          2.83,
          2.83,
          2.83,
          2.83,
          2.83,
          2.83,
          2.83,
          2.83,
          2.83,
          2.83,
          2.83,
          2.83,
          2.91,
          3.24,
          3.24,
          3.24,
          3.24,
          3.24,
          3.24,
          3.24,
          3.24,
          3.24,
          3.24,
          3.24,
          3.24,
          3.24,
          3.24,
          3.24,
          3.24,
          3.24,
          3.24,
          3.24,
          3.38,
          3.38,
          3.38,
          3.38,
          3.38,
          3.38,
          3.38,
          3.38,
          3.38,
          3.38,
          3.38,
          3.38,
          3.6,
          3.86,
          3.86,
          3.86,
          3.86,
          3.86,
          3.86,
          3.86,
          3.86,
          3.86,
          3.86,
          3.86,
          3.86,
          3.86,
          3.86,
          3.86,
          3.86,
          3.86,
          3.86,
          4,
          4,
          4,
          4,
          4,
          4,
          4,
          4,
          4,
          4,
          4,
          4,
          4,
          4,
          4,
          4,
          4,
          4,
          4,
          4,
          4,
          4,
          4,
          4,
          4,
          4,
          4,
          4,
          4,
          4,
          4,
          4,
          4,
          4,
          4.14,
          4.14,
          4.14,
          4.14,
          4.14,
          4.14,
          4.14,
          4.14,
          4.43,
          4.43,
          4.43,
          4.43,
          4.43,
          4.43,
          4.8,
          4.82,
          4.82,
          4.82,
          4.82,
          4.82,
          4.82,
          4.82,
          4.82,
          4.82,
          4.82,
          4.82,
          4.82,
          4.82,
          4.82,
          4.82,
          4.82,
          4.94,
          4.94,
          4.94,
          4.94,
          4.94,
          4.94,
          4.94,
          4.94,
          4.94,
          4.94,
          4.94,
          4.94,
          4.94,
          4.94,
          4.94,
          4.94,
          4.94,
          4.94,
          4.94,
          4.94,
          4.95,
          5,
          5,
          5,
          5,
          5,
          5,
          5,
          5,
          5,
          5,
          5,
          5,
          5,
          5,
          5,
          5,
          5,
          5,
          5,
          5,
          5,
          5,
          5,
          5,
          5,
          5,
          5,
          5,
          5,
          5,
          5,
          5,
          5,
          5,
          5.08,
          5.08,
          5.08,
          5.08,
          5.08,
          5.08,
          5.08,
          5.08,
          5.08,
          5.08,
          5.08,
          5.08,
          5.08,
          5.08,
          5.08,
          5.08,
          5.08,
          5.08,
          5.08,
          5.08,
          5.1,
          5.1,
          5.1,
          5.1,
          5.1,
          5.1,
          5.1,
          5.1,
          5.1,
          5.1,
          5.1,
          5.1,
          5.1,
          5.1,
          5.1,
          5.1,
          5.1,
          5.1,
          5.1,
          5.1,
          5.24,
          5.24,
          5.24,
          5.24,
          5.24,
          5.24,
          5.24,
          5.24,
          5.24,
          5.24,
          5.24,
          5.24,
          5.24,
          5.24,
          5.24,
          5.24,
          5.78,
          5.78,
          5.78,
          5.78,
          5.78,
          5.78,
          5.78,
          5.78,
          5.78,
          5.78,
          5.78,
          5.78,
          5.78,
          5.78,
          5.78,
          5.78,
          5.78,
          5.9,
          5.9,
          5.9,
          5.9,
          5.9,
          5.9,
          5.9,
          5.9,
          5.9,
          5.9,
          5.9,
          5.9,
          5.9,
          5.9,
          5.9,
          5.9,
          5.9,
          5.9,
          5.9,
          5.9,
          6.71,
          6.71,
          6.71,
          6.71,
          6.71,
          6.71,
          6.71,
          6.71,
          6.71,
          6.71,
          6.71,
          6.71,
          6.71,
          6.71,
          6.71,
          6.71,
          6.71,
          6.71,
          7.2,
          7.2,
          7.2,
          7.2,
          7.2,
          7.2,
          7.64,
          7.64,
          7.64,
          7.64,
          7.64,
          7.64,
          7.64,
          7.64,
          7.64,
          7.64,
          7.64,
          7.64,
          7.64,
          7.64,
          7.64,
          7.64,
          7.64,
          7.64,
          7.64,
          8,
          8,
          8,
          8,
          8,
          8,
          8,
          8,
          8,
          8,
          8,
          8,
          8,
          8,
          8,
          8,
          8,
          8,
          8,
          8,
          8.69,
          8.69,
          8.69,
          8.69,
          8.69,
          8.69,
          8.69,
          8.69,
          8.69,
          8.69,
          8.69,
          8.69,
          8.69,
          8.69,
          8.69,
          8.69,
          8.69,
          8.69,
          8.69,
          8.69,
          10,
          10,
          10,
          10,
          10,
          10,
          10,
          10,
          10,
          10,
          10,
          10,
          10,
          10,
          10,
          10,
          10,
          10,
          10,
          10,
          10,
          10,
          10,
          10,
          10,
          10,
          10,
          10,
          10,
          10,
          10,
          10,
          10,
          10,
          10,
          10.65,
          10.65,
          10.65,
          10.65,
          10.65,
          10.65,
          10.65,
          10.65,
          10.65,
          10.65,
          10.65,
          10.65,
          10.65,
          10.65,
          10.65,
          10.65,
          10.65,
          10.65,
          10.65,
          10.65,
          11,
          11,
          11,
          11,
          11,
          11,
          11,
          11,
          11,
          11,
          11,
          11,
          11,
          11,
          11,
          11,
          11,
          11,
          11,
          11,
          12.91,
          12.91,
          12.91,
          12.91,
          12.91,
          12.91,
          12.91,
          12.91,
          12.91,
          12.91,
          12.91,
          12.91,
          12.91,
          12.91,
          12.91
         ]
        },
        {
         "histfunc": "avg",
         "name": "Dep_Prev_2015",
         "opacity": 0.75,
         "type": "histogram",
         "x": [
          "Malaysia",
          "Malaysia",
          "Malaysia",
          "Malaysia",
          "Malaysia",
          "Malaysia",
          "Malaysia",
          "Malaysia",
          "Tajikistan",
          "Solomon Islands",
          "Solomon Islands",
          "Bulgaria",
          "Bulgaria",
          "Bulgaria",
          "Bulgaria",
          "Bulgaria",
          "Bulgaria",
          "Bulgaria",
          "Bulgaria",
          "Bulgaria",
          "Bulgaria",
          "Bulgaria",
          "Bulgaria",
          "Bulgaria",
          "Bulgaria",
          "Bulgaria",
          "Fiji",
          "Syrian Arab Republic",
          "Syrian Arab Republic",
          "Syrian Arab Republic",
          "Syrian Arab Republic",
          "Syrian Arab Republic",
          "Syrian Arab Republic",
          "Syrian Arab Republic",
          "Syrian Arab Republic",
          "Syrian Arab Republic",
          "Syrian Arab Republic",
          "Mongolia",
          "Syrian Arab Republic",
          "Egypt",
          "Egypt",
          "Egypt",
          "Egypt",
          "Egypt",
          "Egypt",
          "Egypt",
          "Egypt",
          "Egypt",
          "Egypt",
          "Egypt",
          "Egypt",
          "Egypt",
          "Egypt",
          "Egypt",
          "Egypt",
          "Egypt",
          "Egypt",
          "Egypt",
          "Uzbekistan",
          "Uzbekistan",
          "Uzbekistan",
          "Uzbekistan",
          "Uzbekistan",
          "Uzbekistan",
          "Uzbekistan",
          "Uzbekistan",
          "Uzbekistan",
          "Uzbekistan",
          "Uzbekistan",
          "Uzbekistan",
          "Uzbekistan",
          "Brazil",
          "Azerbaijan",
          "Azerbaijan",
          "Azerbaijan",
          "Azerbaijan",
          "Azerbaijan",
          "Georgia",
          "Georgia",
          "Georgia",
          "Georgia",
          "Georgia",
          "Georgia",
          "Georgia",
          "Georgia",
          "Georgia",
          "Georgia",
          "Georgia",
          "Georgia",
          "Georgia",
          "Georgia",
          "Georgia",
          "Georgia",
          "Georgia",
          "Costa Rica",
          "Republic of Moldova",
          "Republic of Moldova",
          "Republic of Moldova",
          "Republic of Moldova",
          "Republic of Moldova",
          "Republic of Moldova",
          "Republic of Moldova",
          "Republic of Moldova",
          "Republic of Moldova",
          "Republic of Moldova",
          "Republic of Moldova",
          "Republic of Moldova",
          "Republic of Moldova",
          "Republic of Moldova",
          "Republic of Moldova",
          "Republic of Moldova",
          "Republic of Moldova",
          "Republic of Moldova",
          "Republic of Moldova",
          "Armenia",
          "Armenia",
          "Armenia",
          "Armenia",
          "Armenia",
          "Armenia",
          "Armenia",
          "Armenia",
          "Armenia",
          "Armenia",
          "Armenia",
          "Armenia",
          "Iran (Islamic Republic of)",
          "Finland",
          "Finland",
          "Finland",
          "Finland",
          "Finland",
          "Finland",
          "Finland",
          "Finland",
          "Finland",
          "Finland",
          "Finland",
          "Finland",
          "Finland",
          "Finland",
          "Finland",
          "Finland",
          "Finland",
          "Finland",
          "Kyrgyzstan",
          "Kyrgyzstan",
          "Kyrgyzstan",
          "Kyrgyzstan",
          "Kyrgyzstan",
          "Kyrgyzstan",
          "Kyrgyzstan",
          "Kyrgyzstan",
          "Kyrgyzstan",
          "Thailand",
          "Thailand",
          "Thailand",
          "Thailand",
          "Thailand",
          "Thailand",
          "Thailand",
          "Thailand",
          "Thailand",
          "Thailand",
          "Thailand",
          "Thailand",
          "Thailand",
          "Kyrgyzstan",
          "Kyrgyzstan",
          "Thailand",
          "Kyrgyzstan",
          "Kyrgyzstan",
          "Kyrgyzstan",
          "Kyrgyzstan",
          "Kyrgyzstan",
          "Kyrgyzstan",
          "Kyrgyzstan",
          "Kyrgyzstan",
          "Kyrgyzstan",
          "Singapore",
          "Singapore",
          "Singapore",
          "Singapore",
          "Singapore",
          "Singapore",
          "Singapore",
          "Singapore",
          "Greece",
          "Greece",
          "Greece",
          "Greece",
          "Greece",
          "Greece",
          "Lebanon",
          "Cyprus",
          "Cyprus",
          "Cyprus",
          "Cyprus",
          "Cyprus",
          "Cyprus",
          "Cyprus",
          "Cyprus",
          "Cyprus",
          "Cyprus",
          "Cyprus",
          "Cyprus",
          "Cyprus",
          "Cyprus",
          "Cyprus",
          "Cyprus",
          "Japan",
          "Japan",
          "Japan",
          "Japan",
          "Japan",
          "Japan",
          "Japan",
          "Japan",
          "Japan",
          "Japan",
          "Japan",
          "Japan",
          "Japan",
          "Japan",
          "Japan",
          "Japan",
          "Japan",
          "Japan",
          "Japan",
          "Japan",
          "Tunisia",
          "Spain",
          "Spain",
          "Spain",
          "Spain",
          "Spain",
          "Spain",
          "Spain",
          "Spain",
          "Spain",
          "Spain",
          "Spain",
          "Spain",
          "Spain",
          "Spain",
          "Spain",
          "Italy",
          "Italy",
          "Italy",
          "Italy",
          "Italy",
          "Italy",
          "Italy",
          "Italy",
          "Italy",
          "Italy",
          "Italy",
          "Italy",
          "Italy",
          "Italy",
          "Italy",
          "Spain",
          "Spain",
          "Spain",
          "Spain",
          "Poland",
          "Poland",
          "Poland",
          "Poland",
          "Poland",
          "Poland",
          "Poland",
          "Poland",
          "Poland",
          "Poland",
          "Poland",
          "Poland",
          "Poland",
          "Poland",
          "Poland",
          "Poland",
          "Poland",
          "Poland",
          "Poland",
          "Poland",
          "Hungary",
          "Hungary",
          "Hungary",
          "Hungary",
          "Hungary",
          "Hungary",
          "Hungary",
          "Hungary",
          "Hungary",
          "Hungary",
          "Hungary",
          "Hungary",
          "Hungary",
          "Hungary",
          "Hungary",
          "Hungary",
          "Hungary",
          "Hungary",
          "Hungary",
          "Hungary",
          "Portugal",
          "Portugal",
          "Portugal",
          "Portugal",
          "Portugal",
          "Portugal",
          "Portugal",
          "Portugal",
          "Portugal",
          "Portugal",
          "Portugal",
          "Portugal",
          "Portugal",
          "Portugal",
          "Portugal",
          "Portugal",
          "Estonia",
          "Estonia",
          "Estonia",
          "Estonia",
          "Estonia",
          "Estonia",
          "Estonia",
          "Estonia",
          "Estonia",
          "Estonia",
          "Estonia",
          "Estonia",
          "Estonia",
          "Estonia",
          "Estonia",
          "Estonia",
          "Estonia",
          "Latvia",
          "Latvia",
          "Latvia",
          "Latvia",
          "Latvia",
          "Latvia",
          "Latvia",
          "Latvia",
          "Latvia",
          "Latvia",
          "Latvia",
          "Latvia",
          "Latvia",
          "Latvia",
          "Latvia",
          "Latvia",
          "Latvia",
          "Latvia",
          "Latvia",
          "Latvia",
          "Malta",
          "Malta",
          "Malta",
          "Malta",
          "Malta",
          "Malta",
          "Malta",
          "Malta",
          "Malta",
          "Malta",
          "Malta",
          "Malta",
          "Malta",
          "Malta",
          "Malta",
          "Malta",
          "Malta",
          "Malta",
          "Canada",
          "Canada",
          "Canada",
          "Canada",
          "Canada",
          "Canada",
          "Australia",
          "Australia",
          "Australia",
          "Australia",
          "Australia",
          "Australia",
          "Australia",
          "Australia",
          "Australia",
          "Australia",
          "Australia",
          "Australia",
          "Australia",
          "Australia",
          "Australia",
          "Australia",
          "Australia",
          "Australia",
          "Australia",
          "Slovenia",
          "Slovenia",
          "Slovenia",
          "Slovenia",
          "Slovenia",
          "Slovenia",
          "Slovenia",
          "Slovenia",
          "Slovenia",
          "Slovenia",
          "Slovenia",
          "Slovenia",
          "Slovenia",
          "Slovenia",
          "Slovenia",
          "Slovenia",
          "Slovenia",
          "Slovenia",
          "Slovenia",
          "Slovenia",
          "Iceland",
          "Iceland",
          "Iceland",
          "Iceland",
          "Iceland",
          "Iceland",
          "Iceland",
          "Iceland",
          "Iceland",
          "Iceland",
          "Iceland",
          "Iceland",
          "Iceland",
          "Iceland",
          "Iceland",
          "Iceland",
          "Iceland",
          "Iceland",
          "Iceland",
          "Iceland",
          "Sweden",
          "New Zealand",
          "Sweden",
          "Sweden",
          "Sweden",
          "Sweden",
          "Sweden",
          "Sweden",
          "Sweden",
          "Sweden",
          "Sweden",
          "Sweden",
          "Sweden",
          "Sweden",
          "Sweden",
          "Sweden",
          "Sweden",
          "Sweden",
          "Sweden",
          "New Zealand",
          "Sweden",
          "New Zealand",
          "New Zealand",
          "New Zealand",
          "New Zealand",
          "New Zealand",
          "New Zealand",
          "New Zealand",
          "New Zealand",
          "New Zealand",
          "New Zealand",
          "New Zealand",
          "New Zealand",
          "New Zealand",
          "New Zealand",
          "Netherlands",
          "Netherlands",
          "Netherlands",
          "Netherlands",
          "Netherlands",
          "Netherlands",
          "Netherlands",
          "Netherlands",
          "Netherlands",
          "Netherlands",
          "Netherlands",
          "Netherlands",
          "Netherlands",
          "Netherlands",
          "Netherlands",
          "Netherlands",
          "Netherlands",
          "Netherlands",
          "Netherlands",
          "Netherlands",
          "Germany",
          "Germany",
          "Germany",
          "Germany",
          "Germany",
          "Germany",
          "Germany",
          "Germany",
          "Germany",
          "Germany",
          "Germany",
          "Germany",
          "Germany",
          "Germany",
          "Germany",
          "Germany",
          "Germany",
          "Germany",
          "Germany",
          "Germany",
          "France",
          "France",
          "France",
          "France",
          "France",
          "France",
          "France",
          "France",
          "France",
          "France",
          "France",
          "France",
          "France",
          "France",
          "France"
         ],
         "y": [
          3.81,
          3.81,
          3.81,
          3.81,
          3.81,
          3.81,
          3.81,
          3.81,
          3.81,
          2.9,
          2.9,
          5.16,
          5.16,
          5.16,
          5.16,
          5.16,
          5.16,
          5.16,
          5.16,
          5.16,
          5.16,
          5.16,
          5.16,
          5.16,
          5.16,
          5.16,
          3.5,
          3.95,
          3.95,
          3.95,
          3.95,
          3.95,
          3.95,
          3.95,
          3.95,
          3.95,
          3.95,
          4.25,
          3.95,
          3.46,
          3.46,
          3.46,
          3.46,
          3.46,
          3.46,
          3.46,
          3.46,
          3.46,
          3.46,
          3.46,
          3.46,
          3.46,
          3.46,
          3.46,
          3.46,
          3.46,
          3.46,
          3.46,
          4.23,
          4.23,
          4.23,
          4.23,
          4.23,
          4.23,
          4.23,
          4.23,
          4.23,
          4.23,
          4.23,
          4.23,
          4.23,
          5.76,
          4.64,
          4.64,
          4.64,
          4.64,
          4.64,
          4.96,
          4.96,
          4.96,
          4.96,
          4.96,
          4.96,
          4.96,
          4.96,
          4.96,
          4.96,
          4.96,
          4.96,
          4.96,
          4.96,
          4.96,
          4.96,
          4.96,
          4.7,
          5.37,
          5.37,
          5.37,
          5.37,
          5.37,
          5.37,
          5.37,
          5.37,
          5.37,
          5.37,
          5.37,
          5.37,
          5.37,
          5.37,
          5.37,
          5.37,
          5.37,
          5.37,
          5.37,
          4.99,
          4.99,
          4.99,
          4.99,
          4.99,
          4.99,
          4.99,
          4.99,
          4.99,
          4.99,
          4.99,
          4.99,
          4.86,
          5.61,
          5.61,
          5.61,
          5.61,
          5.61,
          5.61,
          5.61,
          5.61,
          5.61,
          5.61,
          5.61,
          5.61,
          5.61,
          5.61,
          5.61,
          5.61,
          5.61,
          5.61,
          4.1,
          4.1,
          4.1,
          4.1,
          4.1,
          4.1,
          4.1,
          4.1,
          4.1,
          4.39,
          4.39,
          4.39,
          4.39,
          4.39,
          4.39,
          4.39,
          4.39,
          4.39,
          4.39,
          4.39,
          4.39,
          4.39,
          4.1,
          4.1,
          4.39,
          4.1,
          4.1,
          4.1,
          4.1,
          4.1,
          4.1,
          4.1,
          4.1,
          4.1,
          4.57,
          4.57,
          4.57,
          4.57,
          4.57,
          4.57,
          4.57,
          4.57,
          5.74,
          5.74,
          5.74,
          5.74,
          5.74,
          5.74,
          4.67,
          5.06,
          5.06,
          5.06,
          5.06,
          5.06,
          5.06,
          5.06,
          5.06,
          5.06,
          5.06,
          5.06,
          5.06,
          5.06,
          5.06,
          5.06,
          5.06,
          4.24,
          4.24,
          4.24,
          4.24,
          4.24,
          4.24,
          4.24,
          4.24,
          4.24,
          4.24,
          4.24,
          4.24,
          4.24,
          4.24,
          4.24,
          4.24,
          4.24,
          4.24,
          4.24,
          4.24,
          4.85,
          5.21,
          5.21,
          5.21,
          5.21,
          5.21,
          5.21,
          5.21,
          5.21,
          5.21,
          5.21,
          5.21,
          5.21,
          5.21,
          5.21,
          5.21,
          5.14,
          5.14,
          5.14,
          5.14,
          5.14,
          5.14,
          5.14,
          5.14,
          5.14,
          5.14,
          5.14,
          5.14,
          5.14,
          5.14,
          5.14,
          5.21,
          5.21,
          5.21,
          5.21,
          5.07,
          5.07,
          5.07,
          5.07,
          5.07,
          5.07,
          5.07,
          5.07,
          5.07,
          5.07,
          5.07,
          5.07,
          5.07,
          5.07,
          5.07,
          5.07,
          5.07,
          5.07,
          5.07,
          5.07,
          5.1,
          5.1,
          5.1,
          5.1,
          5.1,
          5.1,
          5.1,
          5.1,
          5.1,
          5.1,
          5.1,
          5.1,
          5.1,
          5.1,
          5.1,
          5.1,
          5.1,
          5.1,
          5.1,
          5.1,
          5.67,
          5.67,
          5.67,
          5.67,
          5.67,
          5.67,
          5.67,
          5.67,
          5.67,
          5.67,
          5.67,
          5.67,
          5.67,
          5.67,
          5.67,
          5.67,
          5.91,
          5.91,
          5.91,
          5.91,
          5.91,
          5.91,
          5.91,
          5.91,
          5.91,
          5.91,
          5.91,
          5.91,
          5.91,
          5.91,
          5.91,
          5.91,
          5.91,
          4.86,
          4.86,
          4.86,
          4.86,
          4.86,
          4.86,
          4.86,
          4.86,
          4.86,
          4.86,
          4.86,
          4.86,
          4.86,
          4.86,
          4.86,
          4.86,
          4.86,
          4.86,
          4.86,
          4.86,
          5.07,
          5.07,
          5.07,
          5.07,
          5.07,
          5.07,
          5.07,
          5.07,
          5.07,
          5.07,
          5.07,
          5.07,
          5.07,
          5.07,
          5.07,
          5.07,
          5.07,
          5.07,
          4.65,
          4.65,
          4.65,
          4.65,
          4.65,
          4.65,
          5.94,
          5.94,
          5.94,
          5.94,
          5.94,
          5.94,
          5.94,
          5.94,
          5.94,
          5.94,
          5.94,
          5.94,
          5.94,
          5.94,
          5.94,
          5.94,
          5.94,
          5.94,
          5.94,
          5.09,
          5.09,
          5.09,
          5.09,
          5.09,
          5.09,
          5.09,
          5.09,
          5.09,
          5.09,
          5.09,
          5.09,
          5.09,
          5.09,
          5.09,
          5.09,
          5.09,
          5.09,
          5.09,
          5.09,
          4.09,
          4.09,
          4.09,
          4.09,
          4.09,
          4.09,
          4.09,
          4.09,
          4.09,
          4.09,
          4.09,
          4.09,
          4.09,
          4.09,
          4.09,
          4.09,
          4.09,
          4.09,
          4.09,
          4.09,
          4.88,
          5.35,
          4.88,
          4.88,
          4.88,
          4.88,
          4.88,
          4.88,
          4.88,
          4.88,
          4.88,
          4.88,
          4.88,
          4.88,
          4.88,
          4.88,
          4.88,
          4.88,
          4.88,
          5.35,
          4.88,
          5.35,
          5.35,
          5.35,
          5.35,
          5.35,
          5.35,
          5.35,
          5.35,
          5.35,
          5.35,
          5.35,
          5.35,
          5.35,
          5.35,
          4.69,
          4.69,
          4.69,
          4.69,
          4.69,
          4.69,
          4.69,
          4.69,
          4.69,
          4.69,
          4.69,
          4.69,
          4.69,
          4.69,
          4.69,
          4.69,
          4.69,
          4.69,
          4.69,
          4.69,
          5.19,
          5.19,
          5.19,
          5.19,
          5.19,
          5.19,
          5.19,
          5.19,
          5.19,
          5.19,
          5.19,
          5.19,
          5.19,
          5.19,
          5.19,
          5.19,
          5.19,
          5.19,
          5.19,
          5.19,
          4.84,
          4.84,
          4.84,
          4.84,
          4.84,
          4.84,
          4.84,
          4.84,
          4.84,
          4.84,
          4.84,
          4.84,
          4.84,
          4.84,
          4.84
         ]
        }
       ],
       "layout": {
        "barmode": "overlay",
        "template": {
         "data": {
          "bar": [
           {
            "error_x": {
             "color": "#2a3f5f"
            },
            "error_y": {
             "color": "#2a3f5f"
            },
            "marker": {
             "line": {
              "color": "#E5ECF6",
              "width": 0.5
             },
             "pattern": {
              "fillmode": "overlay",
              "size": 10,
              "solidity": 0.2
             }
            },
            "type": "bar"
           }
          ],
          "barpolar": [
           {
            "marker": {
             "line": {
              "color": "#E5ECF6",
              "width": 0.5
             },
             "pattern": {
              "fillmode": "overlay",
              "size": 10,
              "solidity": 0.2
             }
            },
            "type": "barpolar"
           }
          ],
          "carpet": [
           {
            "aaxis": {
             "endlinecolor": "#2a3f5f",
             "gridcolor": "white",
             "linecolor": "white",
             "minorgridcolor": "white",
             "startlinecolor": "#2a3f5f"
            },
            "baxis": {
             "endlinecolor": "#2a3f5f",
             "gridcolor": "white",
             "linecolor": "white",
             "minorgridcolor": "white",
             "startlinecolor": "#2a3f5f"
            },
            "type": "carpet"
           }
          ],
          "choropleth": [
           {
            "colorbar": {
             "outlinewidth": 0,
             "ticks": ""
            },
            "type": "choropleth"
           }
          ],
          "contour": [
           {
            "colorbar": {
             "outlinewidth": 0,
             "ticks": ""
            },
            "colorscale": [
             [
              0,
              "#0d0887"
             ],
             [
              0.1111111111111111,
              "#46039f"
             ],
             [
              0.2222222222222222,
              "#7201a8"
             ],
             [
              0.3333333333333333,
              "#9c179e"
             ],
             [
              0.4444444444444444,
              "#bd3786"
             ],
             [
              0.5555555555555556,
              "#d8576b"
             ],
             [
              0.6666666666666666,
              "#ed7953"
             ],
             [
              0.7777777777777778,
              "#fb9f3a"
             ],
             [
              0.8888888888888888,
              "#fdca26"
             ],
             [
              1,
              "#f0f921"
             ]
            ],
            "type": "contour"
           }
          ],
          "contourcarpet": [
           {
            "colorbar": {
             "outlinewidth": 0,
             "ticks": ""
            },
            "type": "contourcarpet"
           }
          ],
          "heatmap": [
           {
            "colorbar": {
             "outlinewidth": 0,
             "ticks": ""
            },
            "colorscale": [
             [
              0,
              "#0d0887"
             ],
             [
              0.1111111111111111,
              "#46039f"
             ],
             [
              0.2222222222222222,
              "#7201a8"
             ],
             [
              0.3333333333333333,
              "#9c179e"
             ],
             [
              0.4444444444444444,
              "#bd3786"
             ],
             [
              0.5555555555555556,
              "#d8576b"
             ],
             [
              0.6666666666666666,
              "#ed7953"
             ],
             [
              0.7777777777777778,
              "#fb9f3a"
             ],
             [
              0.8888888888888888,
              "#fdca26"
             ],
             [
              1,
              "#f0f921"
             ]
            ],
            "type": "heatmap"
           }
          ],
          "heatmapgl": [
           {
            "colorbar": {
             "outlinewidth": 0,
             "ticks": ""
            },
            "colorscale": [
             [
              0,
              "#0d0887"
             ],
             [
              0.1111111111111111,
              "#46039f"
             ],
             [
              0.2222222222222222,
              "#7201a8"
             ],
             [
              0.3333333333333333,
              "#9c179e"
             ],
             [
              0.4444444444444444,
              "#bd3786"
             ],
             [
              0.5555555555555556,
              "#d8576b"
             ],
             [
              0.6666666666666666,
              "#ed7953"
             ],
             [
              0.7777777777777778,
              "#fb9f3a"
             ],
             [
              0.8888888888888888,
              "#fdca26"
             ],
             [
              1,
              "#f0f921"
             ]
            ],
            "type": "heatmapgl"
           }
          ],
          "histogram": [
           {
            "marker": {
             "pattern": {
              "fillmode": "overlay",
              "size": 10,
              "solidity": 0.2
             }
            },
            "type": "histogram"
           }
          ],
          "histogram2d": [
           {
            "colorbar": {
             "outlinewidth": 0,
             "ticks": ""
            },
            "colorscale": [
             [
              0,
              "#0d0887"
             ],
             [
              0.1111111111111111,
              "#46039f"
             ],
             [
              0.2222222222222222,
              "#7201a8"
             ],
             [
              0.3333333333333333,
              "#9c179e"
             ],
             [
              0.4444444444444444,
              "#bd3786"
             ],
             [
              0.5555555555555556,
              "#d8576b"
             ],
             [
              0.6666666666666666,
              "#ed7953"
             ],
             [
              0.7777777777777778,
              "#fb9f3a"
             ],
             [
              0.8888888888888888,
              "#fdca26"
             ],
             [
              1,
              "#f0f921"
             ]
            ],
            "type": "histogram2d"
           }
          ],
          "histogram2dcontour": [
           {
            "colorbar": {
             "outlinewidth": 0,
             "ticks": ""
            },
            "colorscale": [
             [
              0,
              "#0d0887"
             ],
             [
              0.1111111111111111,
              "#46039f"
             ],
             [
              0.2222222222222222,
              "#7201a8"
             ],
             [
              0.3333333333333333,
              "#9c179e"
             ],
             [
              0.4444444444444444,
              "#bd3786"
             ],
             [
              0.5555555555555556,
              "#d8576b"
             ],
             [
              0.6666666666666666,
              "#ed7953"
             ],
             [
              0.7777777777777778,
              "#fb9f3a"
             ],
             [
              0.8888888888888888,
              "#fdca26"
             ],
             [
              1,
              "#f0f921"
             ]
            ],
            "type": "histogram2dcontour"
           }
          ],
          "mesh3d": [
           {
            "colorbar": {
             "outlinewidth": 0,
             "ticks": ""
            },
            "type": "mesh3d"
           }
          ],
          "parcoords": [
           {
            "line": {
             "colorbar": {
              "outlinewidth": 0,
              "ticks": ""
             }
            },
            "type": "parcoords"
           }
          ],
          "pie": [
           {
            "automargin": true,
            "type": "pie"
           }
          ],
          "scatter": [
           {
            "marker": {
             "colorbar": {
              "outlinewidth": 0,
              "ticks": ""
             }
            },
            "type": "scatter"
           }
          ],
          "scatter3d": [
           {
            "line": {
             "colorbar": {
              "outlinewidth": 0,
              "ticks": ""
             }
            },
            "marker": {
             "colorbar": {
              "outlinewidth": 0,
              "ticks": ""
             }
            },
            "type": "scatter3d"
           }
          ],
          "scattercarpet": [
           {
            "marker": {
             "colorbar": {
              "outlinewidth": 0,
              "ticks": ""
             }
            },
            "type": "scattercarpet"
           }
          ],
          "scattergeo": [
           {
            "marker": {
             "colorbar": {
              "outlinewidth": 0,
              "ticks": ""
             }
            },
            "type": "scattergeo"
           }
          ],
          "scattergl": [
           {
            "marker": {
             "colorbar": {
              "outlinewidth": 0,
              "ticks": ""
             }
            },
            "type": "scattergl"
           }
          ],
          "scattermapbox": [
           {
            "marker": {
             "colorbar": {
              "outlinewidth": 0,
              "ticks": ""
             }
            },
            "type": "scattermapbox"
           }
          ],
          "scatterpolar": [
           {
            "marker": {
             "colorbar": {
              "outlinewidth": 0,
              "ticks": ""
             }
            },
            "type": "scatterpolar"
           }
          ],
          "scatterpolargl": [
           {
            "marker": {
             "colorbar": {
              "outlinewidth": 0,
              "ticks": ""
             }
            },
            "type": "scatterpolargl"
           }
          ],
          "scatterternary": [
           {
            "marker": {
             "colorbar": {
              "outlinewidth": 0,
              "ticks": ""
             }
            },
            "type": "scatterternary"
           }
          ],
          "surface": [
           {
            "colorbar": {
             "outlinewidth": 0,
             "ticks": ""
            },
            "colorscale": [
             [
              0,
              "#0d0887"
             ],
             [
              0.1111111111111111,
              "#46039f"
             ],
             [
              0.2222222222222222,
              "#7201a8"
             ],
             [
              0.3333333333333333,
              "#9c179e"
             ],
             [
              0.4444444444444444,
              "#bd3786"
             ],
             [
              0.5555555555555556,
              "#d8576b"
             ],
             [
              0.6666666666666666,
              "#ed7953"
             ],
             [
              0.7777777777777778,
              "#fb9f3a"
             ],
             [
              0.8888888888888888,
              "#fdca26"
             ],
             [
              1,
              "#f0f921"
             ]
            ],
            "type": "surface"
           }
          ],
          "table": [
           {
            "cells": {
             "fill": {
              "color": "#EBF0F8"
             },
             "line": {
              "color": "white"
             }
            },
            "header": {
             "fill": {
              "color": "#C8D4E3"
             },
             "line": {
              "color": "white"
             }
            },
            "type": "table"
           }
          ]
         },
         "layout": {
          "annotationdefaults": {
           "arrowcolor": "#2a3f5f",
           "arrowhead": 0,
           "arrowwidth": 1
          },
          "autotypenumbers": "strict",
          "coloraxis": {
           "colorbar": {
            "outlinewidth": 0,
            "ticks": ""
           }
          },
          "colorscale": {
           "diverging": [
            [
             0,
             "#8e0152"
            ],
            [
             0.1,
             "#c51b7d"
            ],
            [
             0.2,
             "#de77ae"
            ],
            [
             0.3,
             "#f1b6da"
            ],
            [
             0.4,
             "#fde0ef"
            ],
            [
             0.5,
             "#f7f7f7"
            ],
            [
             0.6,
             "#e6f5d0"
            ],
            [
             0.7,
             "#b8e186"
            ],
            [
             0.8,
             "#7fbc41"
            ],
            [
             0.9,
             "#4d9221"
            ],
            [
             1,
             "#276419"
            ]
           ],
           "sequential": [
            [
             0,
             "#0d0887"
            ],
            [
             0.1111111111111111,
             "#46039f"
            ],
            [
             0.2222222222222222,
             "#7201a8"
            ],
            [
             0.3333333333333333,
             "#9c179e"
            ],
            [
             0.4444444444444444,
             "#bd3786"
            ],
            [
             0.5555555555555556,
             "#d8576b"
            ],
            [
             0.6666666666666666,
             "#ed7953"
            ],
            [
             0.7777777777777778,
             "#fb9f3a"
            ],
            [
             0.8888888888888888,
             "#fdca26"
            ],
            [
             1,
             "#f0f921"
            ]
           ],
           "sequentialminus": [
            [
             0,
             "#0d0887"
            ],
            [
             0.1111111111111111,
             "#46039f"
            ],
            [
             0.2222222222222222,
             "#7201a8"
            ],
            [
             0.3333333333333333,
             "#9c179e"
            ],
            [
             0.4444444444444444,
             "#bd3786"
            ],
            [
             0.5555555555555556,
             "#d8576b"
            ],
            [
             0.6666666666666666,
             "#ed7953"
            ],
            [
             0.7777777777777778,
             "#fb9f3a"
            ],
            [
             0.8888888888888888,
             "#fdca26"
            ],
            [
             1,
             "#f0f921"
            ]
           ]
          },
          "colorway": [
           "#636efa",
           "#EF553B",
           "#00cc96",
           "#ab63fa",
           "#FFA15A",
           "#19d3f3",
           "#FF6692",
           "#B6E880",
           "#FF97FF",
           "#FECB52"
          ],
          "font": {
           "color": "#2a3f5f"
          },
          "geo": {
           "bgcolor": "white",
           "lakecolor": "white",
           "landcolor": "#E5ECF6",
           "showlakes": true,
           "showland": true,
           "subunitcolor": "white"
          },
          "hoverlabel": {
           "align": "left"
          },
          "hovermode": "closest",
          "mapbox": {
           "style": "light"
          },
          "paper_bgcolor": "white",
          "plot_bgcolor": "#E5ECF6",
          "polar": {
           "angularaxis": {
            "gridcolor": "white",
            "linecolor": "white",
            "ticks": ""
           },
           "bgcolor": "#E5ECF6",
           "radialaxis": {
            "gridcolor": "white",
            "linecolor": "white",
            "ticks": ""
           }
          },
          "scene": {
           "xaxis": {
            "backgroundcolor": "#E5ECF6",
            "gridcolor": "white",
            "gridwidth": 2,
            "linecolor": "white",
            "showbackground": true,
            "ticks": "",
            "zerolinecolor": "white"
           },
           "yaxis": {
            "backgroundcolor": "#E5ECF6",
            "gridcolor": "white",
            "gridwidth": 2,
            "linecolor": "white",
            "showbackground": true,
            "ticks": "",
            "zerolinecolor": "white"
           },
           "zaxis": {
            "backgroundcolor": "#E5ECF6",
            "gridcolor": "white",
            "gridwidth": 2,
            "linecolor": "white",
            "showbackground": true,
            "ticks": "",
            "zerolinecolor": "white"
           }
          },
          "shapedefaults": {
           "line": {
            "color": "#2a3f5f"
           }
          },
          "ternary": {
           "aaxis": {
            "gridcolor": "white",
            "linecolor": "white",
            "ticks": ""
           },
           "baxis": {
            "gridcolor": "white",
            "linecolor": "white",
            "ticks": ""
           },
           "bgcolor": "#E5ECF6",
           "caxis": {
            "gridcolor": "white",
            "linecolor": "white",
            "ticks": ""
           }
          },
          "title": {
           "x": 0.05
          },
          "xaxis": {
           "automargin": true,
           "gridcolor": "white",
           "linecolor": "white",
           "ticks": "",
           "title": {
            "standoff": 15
           },
           "zerolinecolor": "white",
           "zerolinewidth": 2
          },
          "yaxis": {
           "automargin": true,
           "gridcolor": "white",
           "linecolor": "white",
           "ticks": "",
           "title": {
            "standoff": 15
           },
           "zerolinecolor": "white",
           "zerolinewidth": 2
          }
         }
        }
       }
      }
     },
     "metadata": {},
     "output_type": "display_data"
    },
    {
     "data": {
      "application/vnd.plotly.v1+json": {
       "config": {
        "plotlyServerURL": "https://plot.ly"
       },
       "data": [
        {
         "histfunc": "avg",
         "name": "MHExp_2011",
         "opacity": 0.75,
         "type": "histogram",
         "x": [
          "Malaysia",
          "Malaysia",
          "Malaysia",
          "Malaysia",
          "Malaysia",
          "Malaysia",
          "Malaysia",
          "Malaysia",
          "Tajikistan",
          "Solomon Islands",
          "Solomon Islands",
          "Bulgaria",
          "Bulgaria",
          "Bulgaria",
          "Bulgaria",
          "Bulgaria",
          "Bulgaria",
          "Bulgaria",
          "Bulgaria",
          "Bulgaria",
          "Bulgaria",
          "Bulgaria",
          "Bulgaria",
          "Bulgaria",
          "Bulgaria",
          "Bulgaria",
          "Fiji",
          "Syrian Arab Republic",
          "Syrian Arab Republic",
          "Syrian Arab Republic",
          "Syrian Arab Republic",
          "Syrian Arab Republic",
          "Syrian Arab Republic",
          "Syrian Arab Republic",
          "Syrian Arab Republic",
          "Syrian Arab Republic",
          "Syrian Arab Republic",
          "Mongolia",
          "Syrian Arab Republic",
          "Egypt",
          "Egypt",
          "Egypt",
          "Egypt",
          "Egypt",
          "Egypt",
          "Egypt",
          "Egypt",
          "Egypt",
          "Egypt",
          "Egypt",
          "Egypt",
          "Egypt",
          "Egypt",
          "Egypt",
          "Egypt",
          "Egypt",
          "Egypt",
          "Egypt",
          "Uzbekistan",
          "Uzbekistan",
          "Uzbekistan",
          "Uzbekistan",
          "Uzbekistan",
          "Uzbekistan",
          "Uzbekistan",
          "Uzbekistan",
          "Uzbekistan",
          "Uzbekistan",
          "Uzbekistan",
          "Uzbekistan",
          "Uzbekistan",
          "Brazil",
          "Azerbaijan",
          "Azerbaijan",
          "Azerbaijan",
          "Azerbaijan",
          "Azerbaijan",
          "Georgia",
          "Georgia",
          "Georgia",
          "Georgia",
          "Georgia",
          "Georgia",
          "Georgia",
          "Georgia",
          "Georgia",
          "Georgia",
          "Georgia",
          "Georgia",
          "Georgia",
          "Georgia",
          "Georgia",
          "Georgia",
          "Georgia",
          "Costa Rica",
          "Republic of Moldova",
          "Republic of Moldova",
          "Republic of Moldova",
          "Republic of Moldova",
          "Republic of Moldova",
          "Republic of Moldova",
          "Republic of Moldova",
          "Republic of Moldova",
          "Republic of Moldova",
          "Republic of Moldova",
          "Republic of Moldova",
          "Republic of Moldova",
          "Republic of Moldova",
          "Republic of Moldova",
          "Republic of Moldova",
          "Republic of Moldova",
          "Republic of Moldova",
          "Republic of Moldova",
          "Republic of Moldova",
          "Armenia",
          "Armenia",
          "Armenia",
          "Armenia",
          "Armenia",
          "Armenia",
          "Armenia",
          "Armenia",
          "Armenia",
          "Armenia",
          "Armenia",
          "Armenia",
          "Iran (Islamic Republic of)",
          "Finland",
          "Finland",
          "Finland",
          "Finland",
          "Finland",
          "Finland",
          "Finland",
          "Finland",
          "Finland",
          "Finland",
          "Finland",
          "Finland",
          "Finland",
          "Finland",
          "Finland",
          "Finland",
          "Finland",
          "Finland",
          "Kyrgyzstan",
          "Kyrgyzstan",
          "Kyrgyzstan",
          "Kyrgyzstan",
          "Kyrgyzstan",
          "Kyrgyzstan",
          "Kyrgyzstan",
          "Kyrgyzstan",
          "Kyrgyzstan",
          "Thailand",
          "Thailand",
          "Thailand",
          "Thailand",
          "Thailand",
          "Thailand",
          "Thailand",
          "Thailand",
          "Thailand",
          "Thailand",
          "Thailand",
          "Thailand",
          "Thailand",
          "Kyrgyzstan",
          "Kyrgyzstan",
          "Thailand",
          "Kyrgyzstan",
          "Kyrgyzstan",
          "Kyrgyzstan",
          "Kyrgyzstan",
          "Kyrgyzstan",
          "Kyrgyzstan",
          "Kyrgyzstan",
          "Kyrgyzstan",
          "Kyrgyzstan",
          "Singapore",
          "Singapore",
          "Singapore",
          "Singapore",
          "Singapore",
          "Singapore",
          "Singapore",
          "Singapore",
          "Greece",
          "Greece",
          "Greece",
          "Greece",
          "Greece",
          "Greece",
          "Lebanon",
          "Cyprus",
          "Cyprus",
          "Cyprus",
          "Cyprus",
          "Cyprus",
          "Cyprus",
          "Cyprus",
          "Cyprus",
          "Cyprus",
          "Cyprus",
          "Cyprus",
          "Cyprus",
          "Cyprus",
          "Cyprus",
          "Cyprus",
          "Cyprus",
          "Japan",
          "Japan",
          "Japan",
          "Japan",
          "Japan",
          "Japan",
          "Japan",
          "Japan",
          "Japan",
          "Japan",
          "Japan",
          "Japan",
          "Japan",
          "Japan",
          "Japan",
          "Japan",
          "Japan",
          "Japan",
          "Japan",
          "Japan",
          "Tunisia",
          "Spain",
          "Spain",
          "Spain",
          "Spain",
          "Spain",
          "Spain",
          "Spain",
          "Spain",
          "Spain",
          "Spain",
          "Spain",
          "Spain",
          "Spain",
          "Spain",
          "Spain",
          "Italy",
          "Italy",
          "Italy",
          "Italy",
          "Italy",
          "Italy",
          "Italy",
          "Italy",
          "Italy",
          "Italy",
          "Italy",
          "Italy",
          "Italy",
          "Italy",
          "Italy",
          "Spain",
          "Spain",
          "Spain",
          "Spain",
          "Poland",
          "Poland",
          "Poland",
          "Poland",
          "Poland",
          "Poland",
          "Poland",
          "Poland",
          "Poland",
          "Poland",
          "Poland",
          "Poland",
          "Poland",
          "Poland",
          "Poland",
          "Poland",
          "Poland",
          "Poland",
          "Poland",
          "Poland",
          "Hungary",
          "Hungary",
          "Hungary",
          "Hungary",
          "Hungary",
          "Hungary",
          "Hungary",
          "Hungary",
          "Hungary",
          "Hungary",
          "Hungary",
          "Hungary",
          "Hungary",
          "Hungary",
          "Hungary",
          "Hungary",
          "Hungary",
          "Hungary",
          "Hungary",
          "Hungary",
          "Portugal",
          "Portugal",
          "Portugal",
          "Portugal",
          "Portugal",
          "Portugal",
          "Portugal",
          "Portugal",
          "Portugal",
          "Portugal",
          "Portugal",
          "Portugal",
          "Portugal",
          "Portugal",
          "Portugal",
          "Portugal",
          "Estonia",
          "Estonia",
          "Estonia",
          "Estonia",
          "Estonia",
          "Estonia",
          "Estonia",
          "Estonia",
          "Estonia",
          "Estonia",
          "Estonia",
          "Estonia",
          "Estonia",
          "Estonia",
          "Estonia",
          "Estonia",
          "Estonia",
          "Latvia",
          "Latvia",
          "Latvia",
          "Latvia",
          "Latvia",
          "Latvia",
          "Latvia",
          "Latvia",
          "Latvia",
          "Latvia",
          "Latvia",
          "Latvia",
          "Latvia",
          "Latvia",
          "Latvia",
          "Latvia",
          "Latvia",
          "Latvia",
          "Latvia",
          "Latvia",
          "Malta",
          "Malta",
          "Malta",
          "Malta",
          "Malta",
          "Malta",
          "Malta",
          "Malta",
          "Malta",
          "Malta",
          "Malta",
          "Malta",
          "Malta",
          "Malta",
          "Malta",
          "Malta",
          "Malta",
          "Malta",
          "Canada",
          "Canada",
          "Canada",
          "Canada",
          "Canada",
          "Canada",
          "Australia",
          "Australia",
          "Australia",
          "Australia",
          "Australia",
          "Australia",
          "Australia",
          "Australia",
          "Australia",
          "Australia",
          "Australia",
          "Australia",
          "Australia",
          "Australia",
          "Australia",
          "Australia",
          "Australia",
          "Australia",
          "Australia",
          "Slovenia",
          "Slovenia",
          "Slovenia",
          "Slovenia",
          "Slovenia",
          "Slovenia",
          "Slovenia",
          "Slovenia",
          "Slovenia",
          "Slovenia",
          "Slovenia",
          "Slovenia",
          "Slovenia",
          "Slovenia",
          "Slovenia",
          "Slovenia",
          "Slovenia",
          "Slovenia",
          "Slovenia",
          "Slovenia",
          "Iceland",
          "Iceland",
          "Iceland",
          "Iceland",
          "Iceland",
          "Iceland",
          "Iceland",
          "Iceland",
          "Iceland",
          "Iceland",
          "Iceland",
          "Iceland",
          "Iceland",
          "Iceland",
          "Iceland",
          "Iceland",
          "Iceland",
          "Iceland",
          "Iceland",
          "Iceland",
          "Sweden",
          "New Zealand",
          "Sweden",
          "Sweden",
          "Sweden",
          "Sweden",
          "Sweden",
          "Sweden",
          "Sweden",
          "Sweden",
          "Sweden",
          "Sweden",
          "Sweden",
          "Sweden",
          "Sweden",
          "Sweden",
          "Sweden",
          "Sweden",
          "Sweden",
          "New Zealand",
          "Sweden",
          "New Zealand",
          "New Zealand",
          "New Zealand",
          "New Zealand",
          "New Zealand",
          "New Zealand",
          "New Zealand",
          "New Zealand",
          "New Zealand",
          "New Zealand",
          "New Zealand",
          "New Zealand",
          "New Zealand",
          "New Zealand",
          "Netherlands",
          "Netherlands",
          "Netherlands",
          "Netherlands",
          "Netherlands",
          "Netherlands",
          "Netherlands",
          "Netherlands",
          "Netherlands",
          "Netherlands",
          "Netherlands",
          "Netherlands",
          "Netherlands",
          "Netherlands",
          "Netherlands",
          "Netherlands",
          "Netherlands",
          "Netherlands",
          "Netherlands",
          "Netherlands",
          "Germany",
          "Germany",
          "Germany",
          "Germany",
          "Germany",
          "Germany",
          "Germany",
          "Germany",
          "Germany",
          "Germany",
          "Germany",
          "Germany",
          "Germany",
          "Germany",
          "Germany",
          "Germany",
          "Germany",
          "Germany",
          "Germany",
          "Germany",
          "France",
          "France",
          "France",
          "France",
          "France",
          "France",
          "France",
          "France",
          "France",
          "France",
          "France",
          "France",
          "France",
          "France",
          "France"
         ],
         "y": [
          0.39,
          0.39,
          0.39,
          0.39,
          0.39,
          0.39,
          0.39,
          0.39,
          1.22,
          1.3,
          1.3,
          1.4,
          1.4,
          1.4,
          1.4,
          1.4,
          1.4,
          1.4,
          1.4,
          1.4,
          1.4,
          1.4,
          1.4,
          1.4,
          1.4,
          1.4,
          1.9,
          2,
          2,
          2,
          2,
          2,
          2,
          2,
          2,
          2,
          2,
          2,
          2,
          2.29,
          2.29,
          2.29,
          2.29,
          2.29,
          2.29,
          2.29,
          2.29,
          2.29,
          2.29,
          2.29,
          2.29,
          2.29,
          2.29,
          2.29,
          2.29,
          2.29,
          2.29,
          2.29,
          2.32,
          2.32,
          2.32,
          2.32,
          2.32,
          2.32,
          2.32,
          2.32,
          2.32,
          2.32,
          2.32,
          2.32,
          2.32,
          2.38,
          2.5,
          2.5,
          2.5,
          2.5,
          2.5,
          2.83,
          2.83,
          2.83,
          2.83,
          2.83,
          2.83,
          2.83,
          2.83,
          2.83,
          2.83,
          2.83,
          2.83,
          2.83,
          2.83,
          2.83,
          2.83,
          2.83,
          2.91,
          3.24,
          3.24,
          3.24,
          3.24,
          3.24,
          3.24,
          3.24,
          3.24,
          3.24,
          3.24,
          3.24,
          3.24,
          3.24,
          3.24,
          3.24,
          3.24,
          3.24,
          3.24,
          3.24,
          3.38,
          3.38,
          3.38,
          3.38,
          3.38,
          3.38,
          3.38,
          3.38,
          3.38,
          3.38,
          3.38,
          3.38,
          3.6,
          3.86,
          3.86,
          3.86,
          3.86,
          3.86,
          3.86,
          3.86,
          3.86,
          3.86,
          3.86,
          3.86,
          3.86,
          3.86,
          3.86,
          3.86,
          3.86,
          3.86,
          3.86,
          4,
          4,
          4,
          4,
          4,
          4,
          4,
          4,
          4,
          4,
          4,
          4,
          4,
          4,
          4,
          4,
          4,
          4,
          4,
          4,
          4,
          4,
          4,
          4,
          4,
          4,
          4,
          4,
          4,
          4,
          4,
          4,
          4,
          4,
          4.14,
          4.14,
          4.14,
          4.14,
          4.14,
          4.14,
          4.14,
          4.14,
          4.43,
          4.43,
          4.43,
          4.43,
          4.43,
          4.43,
          4.8,
          4.82,
          4.82,
          4.82,
          4.82,
          4.82,
          4.82,
          4.82,
          4.82,
          4.82,
          4.82,
          4.82,
          4.82,
          4.82,
          4.82,
          4.82,
          4.82,
          4.94,
          4.94,
          4.94,
          4.94,
          4.94,
          4.94,
          4.94,
          4.94,
          4.94,
          4.94,
          4.94,
          4.94,
          4.94,
          4.94,
          4.94,
          4.94,
          4.94,
          4.94,
          4.94,
          4.94,
          4.95,
          5,
          5,
          5,
          5,
          5,
          5,
          5,
          5,
          5,
          5,
          5,
          5,
          5,
          5,
          5,
          5,
          5,
          5,
          5,
          5,
          5,
          5,
          5,
          5,
          5,
          5,
          5,
          5,
          5,
          5,
          5,
          5,
          5,
          5,
          5.08,
          5.08,
          5.08,
          5.08,
          5.08,
          5.08,
          5.08,
          5.08,
          5.08,
          5.08,
          5.08,
          5.08,
          5.08,
          5.08,
          5.08,
          5.08,
          5.08,
          5.08,
          5.08,
          5.08,
          5.1,
          5.1,
          5.1,
          5.1,
          5.1,
          5.1,
          5.1,
          5.1,
          5.1,
          5.1,
          5.1,
          5.1,
          5.1,
          5.1,
          5.1,
          5.1,
          5.1,
          5.1,
          5.1,
          5.1,
          5.24,
          5.24,
          5.24,
          5.24,
          5.24,
          5.24,
          5.24,
          5.24,
          5.24,
          5.24,
          5.24,
          5.24,
          5.24,
          5.24,
          5.24,
          5.24,
          5.78,
          5.78,
          5.78,
          5.78,
          5.78,
          5.78,
          5.78,
          5.78,
          5.78,
          5.78,
          5.78,
          5.78,
          5.78,
          5.78,
          5.78,
          5.78,
          5.78,
          5.9,
          5.9,
          5.9,
          5.9,
          5.9,
          5.9,
          5.9,
          5.9,
          5.9,
          5.9,
          5.9,
          5.9,
          5.9,
          5.9,
          5.9,
          5.9,
          5.9,
          5.9,
          5.9,
          5.9,
          6.71,
          6.71,
          6.71,
          6.71,
          6.71,
          6.71,
          6.71,
          6.71,
          6.71,
          6.71,
          6.71,
          6.71,
          6.71,
          6.71,
          6.71,
          6.71,
          6.71,
          6.71,
          7.2,
          7.2,
          7.2,
          7.2,
          7.2,
          7.2,
          7.64,
          7.64,
          7.64,
          7.64,
          7.64,
          7.64,
          7.64,
          7.64,
          7.64,
          7.64,
          7.64,
          7.64,
          7.64,
          7.64,
          7.64,
          7.64,
          7.64,
          7.64,
          7.64,
          8,
          8,
          8,
          8,
          8,
          8,
          8,
          8,
          8,
          8,
          8,
          8,
          8,
          8,
          8,
          8,
          8,
          8,
          8,
          8,
          8.69,
          8.69,
          8.69,
          8.69,
          8.69,
          8.69,
          8.69,
          8.69,
          8.69,
          8.69,
          8.69,
          8.69,
          8.69,
          8.69,
          8.69,
          8.69,
          8.69,
          8.69,
          8.69,
          8.69,
          10,
          10,
          10,
          10,
          10,
          10,
          10,
          10,
          10,
          10,
          10,
          10,
          10,
          10,
          10,
          10,
          10,
          10,
          10,
          10,
          10,
          10,
          10,
          10,
          10,
          10,
          10,
          10,
          10,
          10,
          10,
          10,
          10,
          10,
          10,
          10.65,
          10.65,
          10.65,
          10.65,
          10.65,
          10.65,
          10.65,
          10.65,
          10.65,
          10.65,
          10.65,
          10.65,
          10.65,
          10.65,
          10.65,
          10.65,
          10.65,
          10.65,
          10.65,
          10.65,
          11,
          11,
          11,
          11,
          11,
          11,
          11,
          11,
          11,
          11,
          11,
          11,
          11,
          11,
          11,
          11,
          11,
          11,
          11,
          11,
          12.91,
          12.91,
          12.91,
          12.91,
          12.91,
          12.91,
          12.91,
          12.91,
          12.91,
          12.91,
          12.91,
          12.91,
          12.91,
          12.91,
          12.91
         ]
        },
        {
         "histfunc": "avg",
         "name": "HExp_Avg_Pctage",
         "opacity": 0.75,
         "type": "histogram",
         "x": [
          "Malaysia",
          "Malaysia",
          "Malaysia",
          "Malaysia",
          "Malaysia",
          "Malaysia",
          "Malaysia",
          "Malaysia",
          "Tajikistan",
          "Solomon Islands",
          "Solomon Islands",
          "Bulgaria",
          "Bulgaria",
          "Bulgaria",
          "Bulgaria",
          "Bulgaria",
          "Bulgaria",
          "Bulgaria",
          "Bulgaria",
          "Bulgaria",
          "Bulgaria",
          "Bulgaria",
          "Bulgaria",
          "Bulgaria",
          "Bulgaria",
          "Bulgaria",
          "Fiji",
          "Syrian Arab Republic",
          "Syrian Arab Republic",
          "Syrian Arab Republic",
          "Syrian Arab Republic",
          "Syrian Arab Republic",
          "Syrian Arab Republic",
          "Syrian Arab Republic",
          "Syrian Arab Republic",
          "Syrian Arab Republic",
          "Syrian Arab Republic",
          "Mongolia",
          "Syrian Arab Republic",
          "Egypt",
          "Egypt",
          "Egypt",
          "Egypt",
          "Egypt",
          "Egypt",
          "Egypt",
          "Egypt",
          "Egypt",
          "Egypt",
          "Egypt",
          "Egypt",
          "Egypt",
          "Egypt",
          "Egypt",
          "Egypt",
          "Egypt",
          "Egypt",
          "Egypt",
          "Uzbekistan",
          "Uzbekistan",
          "Uzbekistan",
          "Uzbekistan",
          "Uzbekistan",
          "Uzbekistan",
          "Uzbekistan",
          "Uzbekistan",
          "Uzbekistan",
          "Uzbekistan",
          "Uzbekistan",
          "Uzbekistan",
          "Uzbekistan",
          "Brazil",
          "Azerbaijan",
          "Azerbaijan",
          "Azerbaijan",
          "Azerbaijan",
          "Azerbaijan",
          "Georgia",
          "Georgia",
          "Georgia",
          "Georgia",
          "Georgia",
          "Georgia",
          "Georgia",
          "Georgia",
          "Georgia",
          "Georgia",
          "Georgia",
          "Georgia",
          "Georgia",
          "Georgia",
          "Georgia",
          "Georgia",
          "Georgia",
          "Costa Rica",
          "Republic of Moldova",
          "Republic of Moldova",
          "Republic of Moldova",
          "Republic of Moldova",
          "Republic of Moldova",
          "Republic of Moldova",
          "Republic of Moldova",
          "Republic of Moldova",
          "Republic of Moldova",
          "Republic of Moldova",
          "Republic of Moldova",
          "Republic of Moldova",
          "Republic of Moldova",
          "Republic of Moldova",
          "Republic of Moldova",
          "Republic of Moldova",
          "Republic of Moldova",
          "Republic of Moldova",
          "Republic of Moldova",
          "Armenia",
          "Armenia",
          "Armenia",
          "Armenia",
          "Armenia",
          "Armenia",
          "Armenia",
          "Armenia",
          "Armenia",
          "Armenia",
          "Armenia",
          "Armenia",
          "Iran (Islamic Republic of)",
          "Finland",
          "Finland",
          "Finland",
          "Finland",
          "Finland",
          "Finland",
          "Finland",
          "Finland",
          "Finland",
          "Finland",
          "Finland",
          "Finland",
          "Finland",
          "Finland",
          "Finland",
          "Finland",
          "Finland",
          "Finland",
          "Kyrgyzstan",
          "Kyrgyzstan",
          "Kyrgyzstan",
          "Kyrgyzstan",
          "Kyrgyzstan",
          "Kyrgyzstan",
          "Kyrgyzstan",
          "Kyrgyzstan",
          "Kyrgyzstan",
          "Thailand",
          "Thailand",
          "Thailand",
          "Thailand",
          "Thailand",
          "Thailand",
          "Thailand",
          "Thailand",
          "Thailand",
          "Thailand",
          "Thailand",
          "Thailand",
          "Thailand",
          "Kyrgyzstan",
          "Kyrgyzstan",
          "Thailand",
          "Kyrgyzstan",
          "Kyrgyzstan",
          "Kyrgyzstan",
          "Kyrgyzstan",
          "Kyrgyzstan",
          "Kyrgyzstan",
          "Kyrgyzstan",
          "Kyrgyzstan",
          "Kyrgyzstan",
          "Singapore",
          "Singapore",
          "Singapore",
          "Singapore",
          "Singapore",
          "Singapore",
          "Singapore",
          "Singapore",
          "Greece",
          "Greece",
          "Greece",
          "Greece",
          "Greece",
          "Greece",
          "Lebanon",
          "Cyprus",
          "Cyprus",
          "Cyprus",
          "Cyprus",
          "Cyprus",
          "Cyprus",
          "Cyprus",
          "Cyprus",
          "Cyprus",
          "Cyprus",
          "Cyprus",
          "Cyprus",
          "Cyprus",
          "Cyprus",
          "Cyprus",
          "Cyprus",
          "Japan",
          "Japan",
          "Japan",
          "Japan",
          "Japan",
          "Japan",
          "Japan",
          "Japan",
          "Japan",
          "Japan",
          "Japan",
          "Japan",
          "Japan",
          "Japan",
          "Japan",
          "Japan",
          "Japan",
          "Japan",
          "Japan",
          "Japan",
          "Tunisia",
          "Spain",
          "Spain",
          "Spain",
          "Spain",
          "Spain",
          "Spain",
          "Spain",
          "Spain",
          "Spain",
          "Spain",
          "Spain",
          "Spain",
          "Spain",
          "Spain",
          "Spain",
          "Italy",
          "Italy",
          "Italy",
          "Italy",
          "Italy",
          "Italy",
          "Italy",
          "Italy",
          "Italy",
          "Italy",
          "Italy",
          "Italy",
          "Italy",
          "Italy",
          "Italy",
          "Spain",
          "Spain",
          "Spain",
          "Spain",
          "Poland",
          "Poland",
          "Poland",
          "Poland",
          "Poland",
          "Poland",
          "Poland",
          "Poland",
          "Poland",
          "Poland",
          "Poland",
          "Poland",
          "Poland",
          "Poland",
          "Poland",
          "Poland",
          "Poland",
          "Poland",
          "Poland",
          "Poland",
          "Hungary",
          "Hungary",
          "Hungary",
          "Hungary",
          "Hungary",
          "Hungary",
          "Hungary",
          "Hungary",
          "Hungary",
          "Hungary",
          "Hungary",
          "Hungary",
          "Hungary",
          "Hungary",
          "Hungary",
          "Hungary",
          "Hungary",
          "Hungary",
          "Hungary",
          "Hungary",
          "Portugal",
          "Portugal",
          "Portugal",
          "Portugal",
          "Portugal",
          "Portugal",
          "Portugal",
          "Portugal",
          "Portugal",
          "Portugal",
          "Portugal",
          "Portugal",
          "Portugal",
          "Portugal",
          "Portugal",
          "Portugal",
          "Estonia",
          "Estonia",
          "Estonia",
          "Estonia",
          "Estonia",
          "Estonia",
          "Estonia",
          "Estonia",
          "Estonia",
          "Estonia",
          "Estonia",
          "Estonia",
          "Estonia",
          "Estonia",
          "Estonia",
          "Estonia",
          "Estonia",
          "Latvia",
          "Latvia",
          "Latvia",
          "Latvia",
          "Latvia",
          "Latvia",
          "Latvia",
          "Latvia",
          "Latvia",
          "Latvia",
          "Latvia",
          "Latvia",
          "Latvia",
          "Latvia",
          "Latvia",
          "Latvia",
          "Latvia",
          "Latvia",
          "Latvia",
          "Latvia",
          "Malta",
          "Malta",
          "Malta",
          "Malta",
          "Malta",
          "Malta",
          "Malta",
          "Malta",
          "Malta",
          "Malta",
          "Malta",
          "Malta",
          "Malta",
          "Malta",
          "Malta",
          "Malta",
          "Malta",
          "Malta",
          "Canada",
          "Canada",
          "Canada",
          "Canada",
          "Canada",
          "Canada",
          "Australia",
          "Australia",
          "Australia",
          "Australia",
          "Australia",
          "Australia",
          "Australia",
          "Australia",
          "Australia",
          "Australia",
          "Australia",
          "Australia",
          "Australia",
          "Australia",
          "Australia",
          "Australia",
          "Australia",
          "Australia",
          "Australia",
          "Slovenia",
          "Slovenia",
          "Slovenia",
          "Slovenia",
          "Slovenia",
          "Slovenia",
          "Slovenia",
          "Slovenia",
          "Slovenia",
          "Slovenia",
          "Slovenia",
          "Slovenia",
          "Slovenia",
          "Slovenia",
          "Slovenia",
          "Slovenia",
          "Slovenia",
          "Slovenia",
          "Slovenia",
          "Slovenia",
          "Iceland",
          "Iceland",
          "Iceland",
          "Iceland",
          "Iceland",
          "Iceland",
          "Iceland",
          "Iceland",
          "Iceland",
          "Iceland",
          "Iceland",
          "Iceland",
          "Iceland",
          "Iceland",
          "Iceland",
          "Iceland",
          "Iceland",
          "Iceland",
          "Iceland",
          "Iceland",
          "Sweden",
          "New Zealand",
          "Sweden",
          "Sweden",
          "Sweden",
          "Sweden",
          "Sweden",
          "Sweden",
          "Sweden",
          "Sweden",
          "Sweden",
          "Sweden",
          "Sweden",
          "Sweden",
          "Sweden",
          "Sweden",
          "Sweden",
          "Sweden",
          "Sweden",
          "New Zealand",
          "Sweden",
          "New Zealand",
          "New Zealand",
          "New Zealand",
          "New Zealand",
          "New Zealand",
          "New Zealand",
          "New Zealand",
          "New Zealand",
          "New Zealand",
          "New Zealand",
          "New Zealand",
          "New Zealand",
          "New Zealand",
          "New Zealand",
          "Netherlands",
          "Netherlands",
          "Netherlands",
          "Netherlands",
          "Netherlands",
          "Netherlands",
          "Netherlands",
          "Netherlands",
          "Netherlands",
          "Netherlands",
          "Netherlands",
          "Netherlands",
          "Netherlands",
          "Netherlands",
          "Netherlands",
          "Netherlands",
          "Netherlands",
          "Netherlands",
          "Netherlands",
          "Netherlands",
          "Germany",
          "Germany",
          "Germany",
          "Germany",
          "Germany",
          "Germany",
          "Germany",
          "Germany",
          "Germany",
          "Germany",
          "Germany",
          "Germany",
          "Germany",
          "Germany",
          "Germany",
          "Germany",
          "Germany",
          "Germany",
          "Germany",
          "Germany",
          "France",
          "France",
          "France",
          "France",
          "France",
          "France",
          "France",
          "France",
          "France",
          "France",
          "France",
          "France",
          "France",
          "France",
          "France"
         ],
         "y": [
          3.46,
          3.07,
          3.31,
          3.16,
          3.26,
          3.01,
          3.71,
          3.51,
          7.23,
          4,
          4.23,
          7.58,
          7.41,
          7.17,
          7.52,
          7.34,
          6.89,
          7.13,
          7.14,
          6.6,
          6.29,
          6.16,
          6.53,
          7.14,
          7.48,
          7.71,
          3.54,
          4.48,
          4.52,
          3.78,
          4.11,
          3.55,
          5.12,
          4.49,
          3.28,
          3.4,
          3.72,
          4.42,
          4.35,
          5.51,
          4.71,
          4.92,
          5.03,
          4.38,
          4.36,
          4.44,
          4.84,
          4.74,
          5.34,
          4.92,
          5.22,
          4.47,
          4.95,
          5.4,
          4.15,
          4.86,
          5.63,
          5.36,
          5.66,
          5.22,
          5.08,
          5.62,
          5.07,
          5.08,
          5.14,
          5.46,
          5.3,
          4.67,
          5.13,
          4.99,
          4.97,
          9.59,
          2.73,
          2.76,
          2.67,
          1.99,
          2.73,
          6.66,
          8,
          7.06,
          9.07,
          8.09,
          8.08,
          8.01,
          7.44,
          8.05,
          7.9,
          7.42,
          7.19,
          7.17,
          7.11,
          7.63,
          9.57,
          7.88,
          7.27,
          10.13,
          8.56,
          13.68,
          7.4,
          7.02,
          8.97,
          9.56,
          5.93,
          11.02,
          10.95,
          7.54,
          9.1,
          8.68,
          8.63,
          10.54,
          9.14,
          7.01,
          6.23,
          6.59,
          10.01,
          9.95,
          10.12,
          10.18,
          10.32,
          5.5,
          9.13,
          10.36,
          6.64,
          11.34,
          8.44,
          5.85,
          8.57,
          8.34,
          9.04,
          8.29,
          7.09,
          9.14,
          8.28,
          9.22,
          9.13,
          7.94,
          7.25,
          7.63,
          8.06,
          9.59,
          9.38,
          9.81,
          9.78,
          9.16,
          8.08,
          5.01,
          7.15,
          6.41,
          6.19,
          4.49,
          8.31,
          6.2,
          6.53,
          6.93,
          3.62,
          3.33,
          3.75,
          3.82,
          3.67,
          3.45,
          3.52,
          3.57,
          3.84,
          3.39,
          3.46,
          3.68,
          3.19,
          4.59,
          4.28,
          3.79,
          5.82,
          7.45,
          4.41,
          7.36,
          8.51,
          7.11,
          6.95,
          6.9,
          8.19,
          4.08,
          3.33,
          4.18,
          4.36,
          3.69,
          4.39,
          4.09,
          3.87,
          7.96,
          7.84,
          8.1,
          8.07,
          7.91,
          8.32,
          7.79,
          6.95,
          6.47,
          5.44,
          6.95,
          6.55,
          6.45,
          6.52,
          6.75,
          6.6,
          5.36,
          5.41,
          5.31,
          6.77,
          5.46,
          6.01,
          6.62,
          10.66,
          7.35,
          10.74,
          10.75,
          7.69,
          7.24,
          7.54,
          10.66,
          7.03,
          9.06,
          8.09,
          7.66,
          7.49,
          10.75,
          10.67,
          8.96,
          10.67,
          10.49,
          7.78,
          10.73,
          5.67,
          8.99,
          8.38,
          8.96,
          6.77,
          7.92,
          7.73,
          7.56,
          9.17,
          7.83,
          6.8,
          6.8,
          7.66,
          9.13,
          9.11,
          9.12,
          8.87,
          8.34,
          8.17,
          7.83,
          8.68,
          8.78,
          8.78,
          8.53,
          8.14,
          8.44,
          8.73,
          8.77,
          8.95,
          8.92,
          8.86,
          9.16,
          9.09,
          9.07,
          9.13,
          5.8,
          5.87,
          6.41,
          6.24,
          6.59,
          6.38,
          6.39,
          6.39,
          6.53,
          6.22,
          6.33,
          5.87,
          5.95,
          6.07,
          5.29,
          5.67,
          5.81,
          6.56,
          6.45,
          6.41,
          7.06,
          7,
          7.77,
          6.86,
          6.76,
          6.55,
          6.83,
          7.12,
          6.78,
          7.1,
          7.46,
          6.35,
          7.22,
          7.79,
          7.24,
          7.43,
          7.25,
          8.12,
          8,
          7.49,
          9.34,
          9.4,
          9.12,
          9.39,
          9.65,
          9.73,
          9.65,
          10.13,
          9.58,
          9.25,
          8.79,
          9.41,
          10.03,
          9.31,
          9.53,
          9.32,
          6.51,
          6.43,
          6.35,
          6.08,
          5.79,
          5.16,
          5.98,
          5.12,
          4.78,
          4.86,
          4.7,
          4.98,
          6.27,
          5.71,
          5.77,
          5.06,
          4.77,
          5.49,
          5.65,
          6.14,
          6.19,
          5.77,
          6.22,
          5.38,
          6.58,
          5.37,
          5.47,
          5.78,
          5.97,
          5.72,
          5.54,
          5.85,
          5.52,
          5.6,
          5.44,
          6.12,
          6.12,
          7.95,
          8.38,
          7,
          7.71,
          7.92,
          8.17,
          7.86,
          8.45,
          8.81,
          8.05,
          8.94,
          8.9,
          8.89,
          8.66,
          9.09,
          6.57,
          8.5,
          7.9,
          9.04,
          8.62,
          8.86,
          9.01,
          8.25,
          9.07,
          7.99,
          8.68,
          7.61,
          8.43,
          8.56,
          9.91,
          8.54,
          9.33,
          9.25,
          7.9,
          9.27,
          8.26,
          8.76,
          9.04,
          8.07,
          8.11,
          7.89,
          7.7,
          9.16,
          8.54,
          7.8,
          8.54,
          7.94,
          8.52,
          8.72,
          7.51,
          7.82,
          8.19,
          8.74,
          8.28,
          8.02,
          8.1,
          8.57,
          7.88,
          8.46,
          8.5,
          8.5,
          8,
          7.85,
          8.18,
          8.64,
          9.73,
          8.95,
          8.44,
          8.1,
          8.34,
          8.07,
          8.23,
          8.93,
          8.79,
          9.47,
          8.56,
          8.18,
          8.31,
          8.2,
          8.36,
          8.78,
          9.33,
          8.35,
          10.9,
          9.65,
          10.85,
          7.33,
          7.9,
          8.32,
          8.77,
          10.94,
          10.8,
          10.79,
          8.21,
          8.21,
          10.95,
          8.13,
          8.15,
          8,
          8.05,
          8.32,
          10.74,
          9.36,
          10.42,
          7.58,
          9.12,
          8.27,
          8.64,
          9.59,
          8.33,
          7.9,
          7.9,
          9.62,
          9.24,
          7.72,
          7.47,
          9.28,
          9.52,
          9.1,
          7.71,
          9.05,
          9.08,
          8.06,
          9.11,
          9.06,
          8.65,
          9.28,
          9.99,
          10.16,
          10.03,
          10.23,
          10.32,
          10.54,
          10.13,
          10.58,
          10.57,
          10.11,
          10.29,
          11.7,
          11.02,
          10.05,
          10.25,
          9.89,
          9.92,
          11.24,
          10.18,
          10.4,
          10.18,
          11.33,
          10.31,
          11.24,
          10.15,
          11,
          11.45,
          11.1,
          11.18,
          10.78,
          10.85,
          10.5,
          10.39,
          11.3,
          11.54,
          11.23,
          10.32,
          11.29,
          10.21,
          10.16,
          10.08,
          10.02,
          9.71,
          9.58,
          11.18,
          11.42
         ]
        }
       ],
       "layout": {
        "barmode": "overlay",
        "template": {
         "data": {
          "bar": [
           {
            "error_x": {
             "color": "#2a3f5f"
            },
            "error_y": {
             "color": "#2a3f5f"
            },
            "marker": {
             "line": {
              "color": "#E5ECF6",
              "width": 0.5
             },
             "pattern": {
              "fillmode": "overlay",
              "size": 10,
              "solidity": 0.2
             }
            },
            "type": "bar"
           }
          ],
          "barpolar": [
           {
            "marker": {
             "line": {
              "color": "#E5ECF6",
              "width": 0.5
             },
             "pattern": {
              "fillmode": "overlay",
              "size": 10,
              "solidity": 0.2
             }
            },
            "type": "barpolar"
           }
          ],
          "carpet": [
           {
            "aaxis": {
             "endlinecolor": "#2a3f5f",
             "gridcolor": "white",
             "linecolor": "white",
             "minorgridcolor": "white",
             "startlinecolor": "#2a3f5f"
            },
            "baxis": {
             "endlinecolor": "#2a3f5f",
             "gridcolor": "white",
             "linecolor": "white",
             "minorgridcolor": "white",
             "startlinecolor": "#2a3f5f"
            },
            "type": "carpet"
           }
          ],
          "choropleth": [
           {
            "colorbar": {
             "outlinewidth": 0,
             "ticks": ""
            },
            "type": "choropleth"
           }
          ],
          "contour": [
           {
            "colorbar": {
             "outlinewidth": 0,
             "ticks": ""
            },
            "colorscale": [
             [
              0,
              "#0d0887"
             ],
             [
              0.1111111111111111,
              "#46039f"
             ],
             [
              0.2222222222222222,
              "#7201a8"
             ],
             [
              0.3333333333333333,
              "#9c179e"
             ],
             [
              0.4444444444444444,
              "#bd3786"
             ],
             [
              0.5555555555555556,
              "#d8576b"
             ],
             [
              0.6666666666666666,
              "#ed7953"
             ],
             [
              0.7777777777777778,
              "#fb9f3a"
             ],
             [
              0.8888888888888888,
              "#fdca26"
             ],
             [
              1,
              "#f0f921"
             ]
            ],
            "type": "contour"
           }
          ],
          "contourcarpet": [
           {
            "colorbar": {
             "outlinewidth": 0,
             "ticks": ""
            },
            "type": "contourcarpet"
           }
          ],
          "heatmap": [
           {
            "colorbar": {
             "outlinewidth": 0,
             "ticks": ""
            },
            "colorscale": [
             [
              0,
              "#0d0887"
             ],
             [
              0.1111111111111111,
              "#46039f"
             ],
             [
              0.2222222222222222,
              "#7201a8"
             ],
             [
              0.3333333333333333,
              "#9c179e"
             ],
             [
              0.4444444444444444,
              "#bd3786"
             ],
             [
              0.5555555555555556,
              "#d8576b"
             ],
             [
              0.6666666666666666,
              "#ed7953"
             ],
             [
              0.7777777777777778,
              "#fb9f3a"
             ],
             [
              0.8888888888888888,
              "#fdca26"
             ],
             [
              1,
              "#f0f921"
             ]
            ],
            "type": "heatmap"
           }
          ],
          "heatmapgl": [
           {
            "colorbar": {
             "outlinewidth": 0,
             "ticks": ""
            },
            "colorscale": [
             [
              0,
              "#0d0887"
             ],
             [
              0.1111111111111111,
              "#46039f"
             ],
             [
              0.2222222222222222,
              "#7201a8"
             ],
             [
              0.3333333333333333,
              "#9c179e"
             ],
             [
              0.4444444444444444,
              "#bd3786"
             ],
             [
              0.5555555555555556,
              "#d8576b"
             ],
             [
              0.6666666666666666,
              "#ed7953"
             ],
             [
              0.7777777777777778,
              "#fb9f3a"
             ],
             [
              0.8888888888888888,
              "#fdca26"
             ],
             [
              1,
              "#f0f921"
             ]
            ],
            "type": "heatmapgl"
           }
          ],
          "histogram": [
           {
            "marker": {
             "pattern": {
              "fillmode": "overlay",
              "size": 10,
              "solidity": 0.2
             }
            },
            "type": "histogram"
           }
          ],
          "histogram2d": [
           {
            "colorbar": {
             "outlinewidth": 0,
             "ticks": ""
            },
            "colorscale": [
             [
              0,
              "#0d0887"
             ],
             [
              0.1111111111111111,
              "#46039f"
             ],
             [
              0.2222222222222222,
              "#7201a8"
             ],
             [
              0.3333333333333333,
              "#9c179e"
             ],
             [
              0.4444444444444444,
              "#bd3786"
             ],
             [
              0.5555555555555556,
              "#d8576b"
             ],
             [
              0.6666666666666666,
              "#ed7953"
             ],
             [
              0.7777777777777778,
              "#fb9f3a"
             ],
             [
              0.8888888888888888,
              "#fdca26"
             ],
             [
              1,
              "#f0f921"
             ]
            ],
            "type": "histogram2d"
           }
          ],
          "histogram2dcontour": [
           {
            "colorbar": {
             "outlinewidth": 0,
             "ticks": ""
            },
            "colorscale": [
             [
              0,
              "#0d0887"
             ],
             [
              0.1111111111111111,
              "#46039f"
             ],
             [
              0.2222222222222222,
              "#7201a8"
             ],
             [
              0.3333333333333333,
              "#9c179e"
             ],
             [
              0.4444444444444444,
              "#bd3786"
             ],
             [
              0.5555555555555556,
              "#d8576b"
             ],
             [
              0.6666666666666666,
              "#ed7953"
             ],
             [
              0.7777777777777778,
              "#fb9f3a"
             ],
             [
              0.8888888888888888,
              "#fdca26"
             ],
             [
              1,
              "#f0f921"
             ]
            ],
            "type": "histogram2dcontour"
           }
          ],
          "mesh3d": [
           {
            "colorbar": {
             "outlinewidth": 0,
             "ticks": ""
            },
            "type": "mesh3d"
           }
          ],
          "parcoords": [
           {
            "line": {
             "colorbar": {
              "outlinewidth": 0,
              "ticks": ""
             }
            },
            "type": "parcoords"
           }
          ],
          "pie": [
           {
            "automargin": true,
            "type": "pie"
           }
          ],
          "scatter": [
           {
            "marker": {
             "colorbar": {
              "outlinewidth": 0,
              "ticks": ""
             }
            },
            "type": "scatter"
           }
          ],
          "scatter3d": [
           {
            "line": {
             "colorbar": {
              "outlinewidth": 0,
              "ticks": ""
             }
            },
            "marker": {
             "colorbar": {
              "outlinewidth": 0,
              "ticks": ""
             }
            },
            "type": "scatter3d"
           }
          ],
          "scattercarpet": [
           {
            "marker": {
             "colorbar": {
              "outlinewidth": 0,
              "ticks": ""
             }
            },
            "type": "scattercarpet"
           }
          ],
          "scattergeo": [
           {
            "marker": {
             "colorbar": {
              "outlinewidth": 0,
              "ticks": ""
             }
            },
            "type": "scattergeo"
           }
          ],
          "scattergl": [
           {
            "marker": {
             "colorbar": {
              "outlinewidth": 0,
              "ticks": ""
             }
            },
            "type": "scattergl"
           }
          ],
          "scattermapbox": [
           {
            "marker": {
             "colorbar": {
              "outlinewidth": 0,
              "ticks": ""
             }
            },
            "type": "scattermapbox"
           }
          ],
          "scatterpolar": [
           {
            "marker": {
             "colorbar": {
              "outlinewidth": 0,
              "ticks": ""
             }
            },
            "type": "scatterpolar"
           }
          ],
          "scatterpolargl": [
           {
            "marker": {
             "colorbar": {
              "outlinewidth": 0,
              "ticks": ""
             }
            },
            "type": "scatterpolargl"
           }
          ],
          "scatterternary": [
           {
            "marker": {
             "colorbar": {
              "outlinewidth": 0,
              "ticks": ""
             }
            },
            "type": "scatterternary"
           }
          ],
          "surface": [
           {
            "colorbar": {
             "outlinewidth": 0,
             "ticks": ""
            },
            "colorscale": [
             [
              0,
              "#0d0887"
             ],
             [
              0.1111111111111111,
              "#46039f"
             ],
             [
              0.2222222222222222,
              "#7201a8"
             ],
             [
              0.3333333333333333,
              "#9c179e"
             ],
             [
              0.4444444444444444,
              "#bd3786"
             ],
             [
              0.5555555555555556,
              "#d8576b"
             ],
             [
              0.6666666666666666,
              "#ed7953"
             ],
             [
              0.7777777777777778,
              "#fb9f3a"
             ],
             [
              0.8888888888888888,
              "#fdca26"
             ],
             [
              1,
              "#f0f921"
             ]
            ],
            "type": "surface"
           }
          ],
          "table": [
           {
            "cells": {
             "fill": {
              "color": "#EBF0F8"
             },
             "line": {
              "color": "white"
             }
            },
            "header": {
             "fill": {
              "color": "#C8D4E3"
             },
             "line": {
              "color": "white"
             }
            },
            "type": "table"
           }
          ]
         },
         "layout": {
          "annotationdefaults": {
           "arrowcolor": "#2a3f5f",
           "arrowhead": 0,
           "arrowwidth": 1
          },
          "autotypenumbers": "strict",
          "coloraxis": {
           "colorbar": {
            "outlinewidth": 0,
            "ticks": ""
           }
          },
          "colorscale": {
           "diverging": [
            [
             0,
             "#8e0152"
            ],
            [
             0.1,
             "#c51b7d"
            ],
            [
             0.2,
             "#de77ae"
            ],
            [
             0.3,
             "#f1b6da"
            ],
            [
             0.4,
             "#fde0ef"
            ],
            [
             0.5,
             "#f7f7f7"
            ],
            [
             0.6,
             "#e6f5d0"
            ],
            [
             0.7,
             "#b8e186"
            ],
            [
             0.8,
             "#7fbc41"
            ],
            [
             0.9,
             "#4d9221"
            ],
            [
             1,
             "#276419"
            ]
           ],
           "sequential": [
            [
             0,
             "#0d0887"
            ],
            [
             0.1111111111111111,
             "#46039f"
            ],
            [
             0.2222222222222222,
             "#7201a8"
            ],
            [
             0.3333333333333333,
             "#9c179e"
            ],
            [
             0.4444444444444444,
             "#bd3786"
            ],
            [
             0.5555555555555556,
             "#d8576b"
            ],
            [
             0.6666666666666666,
             "#ed7953"
            ],
            [
             0.7777777777777778,
             "#fb9f3a"
            ],
            [
             0.8888888888888888,
             "#fdca26"
            ],
            [
             1,
             "#f0f921"
            ]
           ],
           "sequentialminus": [
            [
             0,
             "#0d0887"
            ],
            [
             0.1111111111111111,
             "#46039f"
            ],
            [
             0.2222222222222222,
             "#7201a8"
            ],
            [
             0.3333333333333333,
             "#9c179e"
            ],
            [
             0.4444444444444444,
             "#bd3786"
            ],
            [
             0.5555555555555556,
             "#d8576b"
            ],
            [
             0.6666666666666666,
             "#ed7953"
            ],
            [
             0.7777777777777778,
             "#fb9f3a"
            ],
            [
             0.8888888888888888,
             "#fdca26"
            ],
            [
             1,
             "#f0f921"
            ]
           ]
          },
          "colorway": [
           "#636efa",
           "#EF553B",
           "#00cc96",
           "#ab63fa",
           "#FFA15A",
           "#19d3f3",
           "#FF6692",
           "#B6E880",
           "#FF97FF",
           "#FECB52"
          ],
          "font": {
           "color": "#2a3f5f"
          },
          "geo": {
           "bgcolor": "white",
           "lakecolor": "white",
           "landcolor": "#E5ECF6",
           "showlakes": true,
           "showland": true,
           "subunitcolor": "white"
          },
          "hoverlabel": {
           "align": "left"
          },
          "hovermode": "closest",
          "mapbox": {
           "style": "light"
          },
          "paper_bgcolor": "white",
          "plot_bgcolor": "#E5ECF6",
          "polar": {
           "angularaxis": {
            "gridcolor": "white",
            "linecolor": "white",
            "ticks": ""
           },
           "bgcolor": "#E5ECF6",
           "radialaxis": {
            "gridcolor": "white",
            "linecolor": "white",
            "ticks": ""
           }
          },
          "scene": {
           "xaxis": {
            "backgroundcolor": "#E5ECF6",
            "gridcolor": "white",
            "gridwidth": 2,
            "linecolor": "white",
            "showbackground": true,
            "ticks": "",
            "zerolinecolor": "white"
           },
           "yaxis": {
            "backgroundcolor": "#E5ECF6",
            "gridcolor": "white",
            "gridwidth": 2,
            "linecolor": "white",
            "showbackground": true,
            "ticks": "",
            "zerolinecolor": "white"
           },
           "zaxis": {
            "backgroundcolor": "#E5ECF6",
            "gridcolor": "white",
            "gridwidth": 2,
            "linecolor": "white",
            "showbackground": true,
            "ticks": "",
            "zerolinecolor": "white"
           }
          },
          "shapedefaults": {
           "line": {
            "color": "#2a3f5f"
           }
          },
          "ternary": {
           "aaxis": {
            "gridcolor": "white",
            "linecolor": "white",
            "ticks": ""
           },
           "baxis": {
            "gridcolor": "white",
            "linecolor": "white",
            "ticks": ""
           },
           "bgcolor": "#E5ECF6",
           "caxis": {
            "gridcolor": "white",
            "linecolor": "white",
            "ticks": ""
           }
          },
          "title": {
           "x": 0.05
          },
          "xaxis": {
           "automargin": true,
           "gridcolor": "white",
           "linecolor": "white",
           "ticks": "",
           "title": {
            "standoff": 15
           },
           "zerolinecolor": "white",
           "zerolinewidth": 2
          },
          "yaxis": {
           "automargin": true,
           "gridcolor": "white",
           "linecolor": "white",
           "ticks": "",
           "title": {
            "standoff": 15
           },
           "zerolinecolor": "white",
           "zerolinewidth": 2
          }
         }
        }
       }
      }
     },
     "metadata": {},
     "output_type": "display_data"
    },
    {
     "data": {
      "application/vnd.plotly.v1+json": {
       "config": {
        "plotlyServerURL": "https://plot.ly"
       },
       "data": [
        {
         "histfunc": "avg",
         "name": "Dep_Prev_2015",
         "opacity": 0.75,
         "type": "histogram",
         "x": [
          "Solomon Islands",
          "Solomon Islands",
          "Egypt",
          "Egypt",
          "Egypt",
          "Egypt",
          "Egypt",
          "Egypt",
          "Egypt",
          "Egypt",
          "Egypt",
          "Egypt",
          "Egypt",
          "Egypt",
          "Egypt",
          "Egypt",
          "Egypt",
          "Egypt",
          "Egypt",
          "Egypt",
          "Egypt",
          "Fiji",
          "Malaysia",
          "Malaysia",
          "Malaysia",
          "Malaysia",
          "Malaysia",
          "Malaysia",
          "Malaysia",
          "Tajikistan",
          "Malaysia",
          "Syrian Arab Republic",
          "Syrian Arab Republic",
          "Syrian Arab Republic",
          "Syrian Arab Republic",
          "Syrian Arab Republic",
          "Syrian Arab Republic",
          "Syrian Arab Republic",
          "Syrian Arab Republic",
          "Syrian Arab Republic",
          "Syrian Arab Republic",
          "Syrian Arab Republic",
          "Iceland",
          "Iceland",
          "Iceland",
          "Iceland",
          "Iceland",
          "Iceland",
          "Iceland",
          "Iceland",
          "Iceland",
          "Iceland",
          "Iceland",
          "Iceland",
          "Iceland",
          "Iceland",
          "Iceland",
          "Iceland",
          "Iceland",
          "Iceland",
          "Iceland",
          "Iceland",
          "Kyrgyzstan",
          "Kyrgyzstan",
          "Kyrgyzstan",
          "Kyrgyzstan",
          "Kyrgyzstan",
          "Kyrgyzstan",
          "Kyrgyzstan",
          "Kyrgyzstan",
          "Kyrgyzstan",
          "Kyrgyzstan",
          "Kyrgyzstan",
          "Kyrgyzstan",
          "Kyrgyzstan",
          "Kyrgyzstan",
          "Kyrgyzstan",
          "Kyrgyzstan",
          "Kyrgyzstan",
          "Kyrgyzstan",
          "Kyrgyzstan",
          "Kyrgyzstan",
          "Uzbekistan",
          "Uzbekistan",
          "Uzbekistan",
          "Uzbekistan",
          "Uzbekistan",
          "Uzbekistan",
          "Uzbekistan",
          "Uzbekistan",
          "Uzbekistan",
          "Uzbekistan",
          "Uzbekistan",
          "Uzbekistan",
          "Uzbekistan",
          "Japan",
          "Japan",
          "Japan",
          "Japan",
          "Japan",
          "Japan",
          "Japan",
          "Japan",
          "Japan",
          "Japan",
          "Japan",
          "Japan",
          "Japan",
          "Japan",
          "Japan",
          "Japan",
          "Japan",
          "Japan",
          "Japan",
          "Japan",
          "Mongolia",
          "Thailand",
          "Thailand",
          "Thailand",
          "Thailand",
          "Thailand",
          "Thailand",
          "Thailand",
          "Thailand",
          "Thailand",
          "Thailand",
          "Thailand",
          "Thailand",
          "Thailand",
          "Thailand",
          "Singapore",
          "Singapore",
          "Singapore",
          "Singapore",
          "Singapore",
          "Singapore",
          "Singapore",
          "Singapore",
          "Azerbaijan",
          "Azerbaijan",
          "Azerbaijan",
          "Azerbaijan",
          "Azerbaijan",
          "Canada",
          "Canada",
          "Canada",
          "Canada",
          "Canada",
          "Canada",
          "Lebanon",
          "Netherlands",
          "Netherlands",
          "Netherlands",
          "Netherlands",
          "Netherlands",
          "Netherlands",
          "Netherlands",
          "Netherlands",
          "Netherlands",
          "Netherlands",
          "Netherlands",
          "Netherlands",
          "Netherlands",
          "Netherlands",
          "Netherlands",
          "Netherlands",
          "Netherlands",
          "Netherlands",
          "Netherlands",
          "Netherlands",
          "Costa Rica",
          "France",
          "France",
          "France",
          "France",
          "France",
          "France",
          "France",
          "France",
          "France",
          "France",
          "France",
          "France",
          "France",
          "France",
          "France",
          "Tunisia",
          "Latvia",
          "Iran (Islamic Republic of)",
          "Latvia",
          "Latvia",
          "Latvia",
          "Latvia",
          "Latvia",
          "Latvia",
          "Latvia",
          "Latvia",
          "Latvia",
          "Latvia",
          "Latvia",
          "Latvia",
          "Latvia",
          "Latvia",
          "Latvia",
          "Latvia",
          "Latvia",
          "Latvia",
          "Latvia",
          "Sweden",
          "Sweden",
          "Sweden",
          "Sweden",
          "Sweden",
          "Sweden",
          "Sweden",
          "Sweden",
          "Sweden",
          "Sweden",
          "Sweden",
          "Sweden",
          "Sweden",
          "Sweden",
          "Sweden",
          "Sweden",
          "Sweden",
          "Sweden",
          "Sweden",
          "Georgia",
          "Georgia",
          "Georgia",
          "Georgia",
          "Georgia",
          "Georgia",
          "Georgia",
          "Georgia",
          "Georgia",
          "Georgia",
          "Georgia",
          "Georgia",
          "Georgia",
          "Georgia",
          "Georgia",
          "Georgia",
          "Georgia",
          "Armenia",
          "Armenia",
          "Armenia",
          "Armenia",
          "Armenia",
          "Armenia",
          "Armenia",
          "Armenia",
          "Armenia",
          "Armenia",
          "Armenia",
          "Armenia",
          "Cyprus",
          "Cyprus",
          "Cyprus",
          "Cyprus",
          "Cyprus",
          "Cyprus",
          "Cyprus",
          "Cyprus",
          "Cyprus",
          "Cyprus",
          "Cyprus",
          "Cyprus",
          "Cyprus",
          "Cyprus",
          "Cyprus",
          "Cyprus",
          "Malta",
          "Malta",
          "Malta",
          "Malta",
          "Malta",
          "Malta",
          "Malta",
          "Malta",
          "Malta",
          "Malta",
          "Malta",
          "Malta",
          "Malta",
          "Malta",
          "Malta",
          "Malta",
          "Malta",
          "Malta",
          "Poland",
          "Poland",
          "Poland",
          "Poland",
          "Poland",
          "Poland",
          "Poland",
          "Poland",
          "Poland",
          "Poland",
          "Poland",
          "Poland",
          "Poland",
          "Poland",
          "Poland",
          "Poland",
          "Poland",
          "Poland",
          "Poland",
          "Poland",
          "Slovenia",
          "Slovenia",
          "Slovenia",
          "Slovenia",
          "Slovenia",
          "Slovenia",
          "Slovenia",
          "Slovenia",
          "Slovenia",
          "Slovenia",
          "Slovenia",
          "Slovenia",
          "Slovenia",
          "Slovenia",
          "Slovenia",
          "Slovenia",
          "Slovenia",
          "Slovenia",
          "Slovenia",
          "Slovenia",
          "Hungary",
          "Hungary",
          "Hungary",
          "Hungary",
          "Hungary",
          "Hungary",
          "Hungary",
          "Hungary",
          "Hungary",
          "Hungary",
          "Hungary",
          "Hungary",
          "Hungary",
          "Hungary",
          "Hungary",
          "Hungary",
          "Hungary",
          "Hungary",
          "Hungary",
          "Hungary",
          "Italy",
          "Italy",
          "Italy",
          "Italy",
          "Italy",
          "Italy",
          "Italy",
          "Italy",
          "Italy",
          "Italy",
          "Italy",
          "Italy",
          "Italy",
          "Italy",
          "Italy",
          "Bulgaria",
          "Bulgaria",
          "Bulgaria",
          "Bulgaria",
          "Bulgaria",
          "Bulgaria",
          "Bulgaria",
          "Bulgaria",
          "Bulgaria",
          "Bulgaria",
          "Bulgaria",
          "Bulgaria",
          "Bulgaria",
          "Bulgaria",
          "Bulgaria",
          "Germany",
          "Germany",
          "Germany",
          "Germany",
          "Germany",
          "Germany",
          "Germany",
          "Germany",
          "Germany",
          "Germany",
          "Germany",
          "Germany",
          "Germany",
          "Germany",
          "Germany",
          "Germany",
          "Germany",
          "Germany",
          "Germany",
          "Germany",
          "Spain",
          "Spain",
          "Spain",
          "Spain",
          "Spain",
          "Spain",
          "Spain",
          "Spain",
          "Spain",
          "Spain",
          "Spain",
          "Spain",
          "Spain",
          "Spain",
          "Spain",
          "Spain",
          "Spain",
          "Spain",
          "Spain",
          "New Zealand",
          "New Zealand",
          "New Zealand",
          "New Zealand",
          "New Zealand",
          "New Zealand",
          "New Zealand",
          "New Zealand",
          "New Zealand",
          "New Zealand",
          "New Zealand",
          "New Zealand",
          "New Zealand",
          "New Zealand",
          "New Zealand",
          "New Zealand",
          "Republic of Moldova",
          "Republic of Moldova",
          "Republic of Moldova",
          "Republic of Moldova",
          "Republic of Moldova",
          "Republic of Moldova",
          "Republic of Moldova",
          "Republic of Moldova",
          "Republic of Moldova",
          "Republic of Moldova",
          "Republic of Moldova",
          "Republic of Moldova",
          "Republic of Moldova",
          "Republic of Moldova",
          "Republic of Moldova",
          "Republic of Moldova",
          "Republic of Moldova",
          "Republic of Moldova",
          "Republic of Moldova",
          "Finland",
          "Finland",
          "Finland",
          "Finland",
          "Finland",
          "Finland",
          "Finland",
          "Finland",
          "Finland",
          "Finland",
          "Finland",
          "Finland",
          "Finland",
          "Finland",
          "Finland",
          "Finland",
          "Finland",
          "Finland",
          "Portugal",
          "Portugal",
          "Portugal",
          "Portugal",
          "Portugal",
          "Portugal",
          "Portugal",
          "Portugal",
          "Portugal",
          "Portugal",
          "Portugal",
          "Portugal",
          "Portugal",
          "Portugal",
          "Portugal",
          "Portugal",
          "Greece",
          "Greece",
          "Greece",
          "Greece",
          "Greece",
          "Greece",
          "Brazil",
          "Estonia",
          "Estonia",
          "Estonia",
          "Estonia",
          "Estonia",
          "Estonia",
          "Estonia",
          "Estonia",
          "Estonia",
          "Estonia",
          "Estonia",
          "Estonia",
          "Estonia",
          "Estonia",
          "Estonia",
          "Estonia",
          "Estonia",
          "Australia",
          "Australia",
          "Australia",
          "Australia",
          "Australia",
          "Australia",
          "Australia",
          "Australia",
          "Australia",
          "Australia",
          "Australia",
          "Australia",
          "Australia",
          "Australia",
          "Australia",
          "Australia",
          "Australia",
          "Australia",
          "Australia"
         ],
         "y": [
          2.9,
          2.9,
          3.46,
          3.46,
          3.46,
          3.46,
          3.46,
          3.46,
          3.46,
          3.46,
          3.46,
          3.46,
          3.46,
          3.46,
          3.46,
          3.46,
          3.46,
          3.46,
          3.46,
          3.46,
          3.46,
          3.5,
          3.81,
          3.81,
          3.81,
          3.81,
          3.81,
          3.81,
          3.81,
          3.81,
          3.81,
          3.95,
          3.95,
          3.95,
          3.95,
          3.95,
          3.95,
          3.95,
          3.95,
          3.95,
          3.95,
          3.95,
          4.09,
          4.09,
          4.09,
          4.09,
          4.09,
          4.09,
          4.09,
          4.09,
          4.09,
          4.09,
          4.09,
          4.09,
          4.09,
          4.09,
          4.09,
          4.09,
          4.09,
          4.09,
          4.09,
          4.09,
          4.1,
          4.1,
          4.1,
          4.1,
          4.1,
          4.1,
          4.1,
          4.1,
          4.1,
          4.1,
          4.1,
          4.1,
          4.1,
          4.1,
          4.1,
          4.1,
          4.1,
          4.1,
          4.1,
          4.1,
          4.23,
          4.23,
          4.23,
          4.23,
          4.23,
          4.23,
          4.23,
          4.23,
          4.23,
          4.23,
          4.23,
          4.23,
          4.23,
          4.24,
          4.24,
          4.24,
          4.24,
          4.24,
          4.24,
          4.24,
          4.24,
          4.24,
          4.24,
          4.24,
          4.24,
          4.24,
          4.24,
          4.24,
          4.24,
          4.24,
          4.24,
          4.24,
          4.24,
          4.25,
          4.39,
          4.39,
          4.39,
          4.39,
          4.39,
          4.39,
          4.39,
          4.39,
          4.39,
          4.39,
          4.39,
          4.39,
          4.39,
          4.39,
          4.57,
          4.57,
          4.57,
          4.57,
          4.57,
          4.57,
          4.57,
          4.57,
          4.64,
          4.64,
          4.64,
          4.64,
          4.64,
          4.65,
          4.65,
          4.65,
          4.65,
          4.65,
          4.65,
          4.67,
          4.69,
          4.69,
          4.69,
          4.69,
          4.69,
          4.69,
          4.69,
          4.69,
          4.69,
          4.69,
          4.69,
          4.69,
          4.69,
          4.69,
          4.69,
          4.69,
          4.69,
          4.69,
          4.69,
          4.69,
          4.7,
          4.84,
          4.84,
          4.84,
          4.84,
          4.84,
          4.84,
          4.84,
          4.84,
          4.84,
          4.84,
          4.84,
          4.84,
          4.84,
          4.84,
          4.84,
          4.85,
          4.86,
          4.86,
          4.86,
          4.86,
          4.86,
          4.86,
          4.86,
          4.86,
          4.86,
          4.86,
          4.86,
          4.86,
          4.86,
          4.86,
          4.86,
          4.86,
          4.86,
          4.86,
          4.86,
          4.86,
          4.86,
          4.88,
          4.88,
          4.88,
          4.88,
          4.88,
          4.88,
          4.88,
          4.88,
          4.88,
          4.88,
          4.88,
          4.88,
          4.88,
          4.88,
          4.88,
          4.88,
          4.88,
          4.88,
          4.88,
          4.96,
          4.96,
          4.96,
          4.96,
          4.96,
          4.96,
          4.96,
          4.96,
          4.96,
          4.96,
          4.96,
          4.96,
          4.96,
          4.96,
          4.96,
          4.96,
          4.96,
          4.99,
          4.99,
          4.99,
          4.99,
          4.99,
          4.99,
          4.99,
          4.99,
          4.99,
          4.99,
          4.99,
          4.99,
          5.06,
          5.06,
          5.06,
          5.06,
          5.06,
          5.06,
          5.06,
          5.06,
          5.06,
          5.06,
          5.06,
          5.06,
          5.06,
          5.06,
          5.06,
          5.06,
          5.07,
          5.07,
          5.07,
          5.07,
          5.07,
          5.07,
          5.07,
          5.07,
          5.07,
          5.07,
          5.07,
          5.07,
          5.07,
          5.07,
          5.07,
          5.07,
          5.07,
          5.07,
          5.07,
          5.07,
          5.07,
          5.07,
          5.07,
          5.07,
          5.07,
          5.07,
          5.07,
          5.07,
          5.07,
          5.07,
          5.07,
          5.07,
          5.07,
          5.07,
          5.07,
          5.07,
          5.07,
          5.07,
          5.09,
          5.09,
          5.09,
          5.09,
          5.09,
          5.09,
          5.09,
          5.09,
          5.09,
          5.09,
          5.09,
          5.09,
          5.09,
          5.09,
          5.09,
          5.09,
          5.09,
          5.09,
          5.09,
          5.09,
          5.1,
          5.1,
          5.1,
          5.1,
          5.1,
          5.1,
          5.1,
          5.1,
          5.1,
          5.1,
          5.1,
          5.1,
          5.1,
          5.1,
          5.1,
          5.1,
          5.1,
          5.1,
          5.1,
          5.1,
          5.14,
          5.14,
          5.14,
          5.14,
          5.14,
          5.14,
          5.14,
          5.14,
          5.14,
          5.14,
          5.14,
          5.14,
          5.14,
          5.14,
          5.14,
          5.16,
          5.16,
          5.16,
          5.16,
          5.16,
          5.16,
          5.16,
          5.16,
          5.16,
          5.16,
          5.16,
          5.16,
          5.16,
          5.16,
          5.16,
          5.19,
          5.19,
          5.19,
          5.19,
          5.19,
          5.19,
          5.19,
          5.19,
          5.19,
          5.19,
          5.19,
          5.19,
          5.19,
          5.19,
          5.19,
          5.19,
          5.19,
          5.19,
          5.19,
          5.19,
          5.21,
          5.21,
          5.21,
          5.21,
          5.21,
          5.21,
          5.21,
          5.21,
          5.21,
          5.21,
          5.21,
          5.21,
          5.21,
          5.21,
          5.21,
          5.21,
          5.21,
          5.21,
          5.21,
          5.35,
          5.35,
          5.35,
          5.35,
          5.35,
          5.35,
          5.35,
          5.35,
          5.35,
          5.35,
          5.35,
          5.35,
          5.35,
          5.35,
          5.35,
          5.35,
          5.37,
          5.37,
          5.37,
          5.37,
          5.37,
          5.37,
          5.37,
          5.37,
          5.37,
          5.37,
          5.37,
          5.37,
          5.37,
          5.37,
          5.37,
          5.37,
          5.37,
          5.37,
          5.37,
          5.61,
          5.61,
          5.61,
          5.61,
          5.61,
          5.61,
          5.61,
          5.61,
          5.61,
          5.61,
          5.61,
          5.61,
          5.61,
          5.61,
          5.61,
          5.61,
          5.61,
          5.61,
          5.67,
          5.67,
          5.67,
          5.67,
          5.67,
          5.67,
          5.67,
          5.67,
          5.67,
          5.67,
          5.67,
          5.67,
          5.67,
          5.67,
          5.67,
          5.67,
          5.74,
          5.74,
          5.74,
          5.74,
          5.74,
          5.74,
          5.76,
          5.91,
          5.91,
          5.91,
          5.91,
          5.91,
          5.91,
          5.91,
          5.91,
          5.91,
          5.91,
          5.91,
          5.91,
          5.91,
          5.91,
          5.91,
          5.91,
          5.91,
          5.94,
          5.94,
          5.94,
          5.94,
          5.94,
          5.94,
          5.94,
          5.94,
          5.94,
          5.94,
          5.94,
          5.94,
          5.94,
          5.94,
          5.94,
          5.94,
          5.94,
          5.94,
          5.94
         ]
        },
        {
         "histfunc": "avg",
         "name": "Suicide_Avg_rate",
         "opacity": 0.75,
         "type": "histogram",
         "x": [
          "Solomon Islands",
          "Solomon Islands",
          "Egypt",
          "Egypt",
          "Egypt",
          "Egypt",
          "Egypt",
          "Egypt",
          "Egypt",
          "Egypt",
          "Egypt",
          "Egypt",
          "Egypt",
          "Egypt",
          "Egypt",
          "Egypt",
          "Egypt",
          "Egypt",
          "Egypt",
          "Egypt",
          "Egypt",
          "Fiji",
          "Malaysia",
          "Malaysia",
          "Malaysia",
          "Malaysia",
          "Malaysia",
          "Malaysia",
          "Malaysia",
          "Tajikistan",
          "Malaysia",
          "Syrian Arab Republic",
          "Syrian Arab Republic",
          "Syrian Arab Republic",
          "Syrian Arab Republic",
          "Syrian Arab Republic",
          "Syrian Arab Republic",
          "Syrian Arab Republic",
          "Syrian Arab Republic",
          "Syrian Arab Republic",
          "Syrian Arab Republic",
          "Syrian Arab Republic",
          "Iceland",
          "Iceland",
          "Iceland",
          "Iceland",
          "Iceland",
          "Iceland",
          "Iceland",
          "Iceland",
          "Iceland",
          "Iceland",
          "Iceland",
          "Iceland",
          "Iceland",
          "Iceland",
          "Iceland",
          "Iceland",
          "Iceland",
          "Iceland",
          "Iceland",
          "Iceland",
          "Kyrgyzstan",
          "Kyrgyzstan",
          "Kyrgyzstan",
          "Kyrgyzstan",
          "Kyrgyzstan",
          "Kyrgyzstan",
          "Kyrgyzstan",
          "Kyrgyzstan",
          "Kyrgyzstan",
          "Kyrgyzstan",
          "Kyrgyzstan",
          "Kyrgyzstan",
          "Kyrgyzstan",
          "Kyrgyzstan",
          "Kyrgyzstan",
          "Kyrgyzstan",
          "Kyrgyzstan",
          "Kyrgyzstan",
          "Kyrgyzstan",
          "Kyrgyzstan",
          "Uzbekistan",
          "Uzbekistan",
          "Uzbekistan",
          "Uzbekistan",
          "Uzbekistan",
          "Uzbekistan",
          "Uzbekistan",
          "Uzbekistan",
          "Uzbekistan",
          "Uzbekistan",
          "Uzbekistan",
          "Uzbekistan",
          "Uzbekistan",
          "Japan",
          "Japan",
          "Japan",
          "Japan",
          "Japan",
          "Japan",
          "Japan",
          "Japan",
          "Japan",
          "Japan",
          "Japan",
          "Japan",
          "Japan",
          "Japan",
          "Japan",
          "Japan",
          "Japan",
          "Japan",
          "Japan",
          "Japan",
          "Mongolia",
          "Thailand",
          "Thailand",
          "Thailand",
          "Thailand",
          "Thailand",
          "Thailand",
          "Thailand",
          "Thailand",
          "Thailand",
          "Thailand",
          "Thailand",
          "Thailand",
          "Thailand",
          "Thailand",
          "Singapore",
          "Singapore",
          "Singapore",
          "Singapore",
          "Singapore",
          "Singapore",
          "Singapore",
          "Singapore",
          "Azerbaijan",
          "Azerbaijan",
          "Azerbaijan",
          "Azerbaijan",
          "Azerbaijan",
          "Canada",
          "Canada",
          "Canada",
          "Canada",
          "Canada",
          "Canada",
          "Lebanon",
          "Netherlands",
          "Netherlands",
          "Netherlands",
          "Netherlands",
          "Netherlands",
          "Netherlands",
          "Netherlands",
          "Netherlands",
          "Netherlands",
          "Netherlands",
          "Netherlands",
          "Netherlands",
          "Netherlands",
          "Netherlands",
          "Netherlands",
          "Netherlands",
          "Netherlands",
          "Netherlands",
          "Netherlands",
          "Netherlands",
          "Costa Rica",
          "France",
          "France",
          "France",
          "France",
          "France",
          "France",
          "France",
          "France",
          "France",
          "France",
          "France",
          "France",
          "France",
          "France",
          "France",
          "Tunisia",
          "Latvia",
          "Iran (Islamic Republic of)",
          "Latvia",
          "Latvia",
          "Latvia",
          "Latvia",
          "Latvia",
          "Latvia",
          "Latvia",
          "Latvia",
          "Latvia",
          "Latvia",
          "Latvia",
          "Latvia",
          "Latvia",
          "Latvia",
          "Latvia",
          "Latvia",
          "Latvia",
          "Latvia",
          "Latvia",
          "Sweden",
          "Sweden",
          "Sweden",
          "Sweden",
          "Sweden",
          "Sweden",
          "Sweden",
          "Sweden",
          "Sweden",
          "Sweden",
          "Sweden",
          "Sweden",
          "Sweden",
          "Sweden",
          "Sweden",
          "Sweden",
          "Sweden",
          "Sweden",
          "Sweden",
          "Georgia",
          "Georgia",
          "Georgia",
          "Georgia",
          "Georgia",
          "Georgia",
          "Georgia",
          "Georgia",
          "Georgia",
          "Georgia",
          "Georgia",
          "Georgia",
          "Georgia",
          "Georgia",
          "Georgia",
          "Georgia",
          "Georgia",
          "Armenia",
          "Armenia",
          "Armenia",
          "Armenia",
          "Armenia",
          "Armenia",
          "Armenia",
          "Armenia",
          "Armenia",
          "Armenia",
          "Armenia",
          "Armenia",
          "Cyprus",
          "Cyprus",
          "Cyprus",
          "Cyprus",
          "Cyprus",
          "Cyprus",
          "Cyprus",
          "Cyprus",
          "Cyprus",
          "Cyprus",
          "Cyprus",
          "Cyprus",
          "Cyprus",
          "Cyprus",
          "Cyprus",
          "Cyprus",
          "Malta",
          "Malta",
          "Malta",
          "Malta",
          "Malta",
          "Malta",
          "Malta",
          "Malta",
          "Malta",
          "Malta",
          "Malta",
          "Malta",
          "Malta",
          "Malta",
          "Malta",
          "Malta",
          "Malta",
          "Malta",
          "Poland",
          "Poland",
          "Poland",
          "Poland",
          "Poland",
          "Poland",
          "Poland",
          "Poland",
          "Poland",
          "Poland",
          "Poland",
          "Poland",
          "Poland",
          "Poland",
          "Poland",
          "Poland",
          "Poland",
          "Poland",
          "Poland",
          "Poland",
          "Slovenia",
          "Slovenia",
          "Slovenia",
          "Slovenia",
          "Slovenia",
          "Slovenia",
          "Slovenia",
          "Slovenia",
          "Slovenia",
          "Slovenia",
          "Slovenia",
          "Slovenia",
          "Slovenia",
          "Slovenia",
          "Slovenia",
          "Slovenia",
          "Slovenia",
          "Slovenia",
          "Slovenia",
          "Slovenia",
          "Hungary",
          "Hungary",
          "Hungary",
          "Hungary",
          "Hungary",
          "Hungary",
          "Hungary",
          "Hungary",
          "Hungary",
          "Hungary",
          "Hungary",
          "Hungary",
          "Hungary",
          "Hungary",
          "Hungary",
          "Hungary",
          "Hungary",
          "Hungary",
          "Hungary",
          "Hungary",
          "Italy",
          "Italy",
          "Italy",
          "Italy",
          "Italy",
          "Italy",
          "Italy",
          "Italy",
          "Italy",
          "Italy",
          "Italy",
          "Italy",
          "Italy",
          "Italy",
          "Italy",
          "Bulgaria",
          "Bulgaria",
          "Bulgaria",
          "Bulgaria",
          "Bulgaria",
          "Bulgaria",
          "Bulgaria",
          "Bulgaria",
          "Bulgaria",
          "Bulgaria",
          "Bulgaria",
          "Bulgaria",
          "Bulgaria",
          "Bulgaria",
          "Bulgaria",
          "Germany",
          "Germany",
          "Germany",
          "Germany",
          "Germany",
          "Germany",
          "Germany",
          "Germany",
          "Germany",
          "Germany",
          "Germany",
          "Germany",
          "Germany",
          "Germany",
          "Germany",
          "Germany",
          "Germany",
          "Germany",
          "Germany",
          "Germany",
          "Spain",
          "Spain",
          "Spain",
          "Spain",
          "Spain",
          "Spain",
          "Spain",
          "Spain",
          "Spain",
          "Spain",
          "Spain",
          "Spain",
          "Spain",
          "Spain",
          "Spain",
          "Spain",
          "Spain",
          "Spain",
          "Spain",
          "New Zealand",
          "New Zealand",
          "New Zealand",
          "New Zealand",
          "New Zealand",
          "New Zealand",
          "New Zealand",
          "New Zealand",
          "New Zealand",
          "New Zealand",
          "New Zealand",
          "New Zealand",
          "New Zealand",
          "New Zealand",
          "New Zealand",
          "New Zealand",
          "Republic of Moldova",
          "Republic of Moldova",
          "Republic of Moldova",
          "Republic of Moldova",
          "Republic of Moldova",
          "Republic of Moldova",
          "Republic of Moldova",
          "Republic of Moldova",
          "Republic of Moldova",
          "Republic of Moldova",
          "Republic of Moldova",
          "Republic of Moldova",
          "Republic of Moldova",
          "Republic of Moldova",
          "Republic of Moldova",
          "Republic of Moldova",
          "Republic of Moldova",
          "Republic of Moldova",
          "Republic of Moldova",
          "Finland",
          "Finland",
          "Finland",
          "Finland",
          "Finland",
          "Finland",
          "Finland",
          "Finland",
          "Finland",
          "Finland",
          "Finland",
          "Finland",
          "Finland",
          "Finland",
          "Finland",
          "Finland",
          "Finland",
          "Finland",
          "Portugal",
          "Portugal",
          "Portugal",
          "Portugal",
          "Portugal",
          "Portugal",
          "Portugal",
          "Portugal",
          "Portugal",
          "Portugal",
          "Portugal",
          "Portugal",
          "Portugal",
          "Portugal",
          "Portugal",
          "Portugal",
          "Greece",
          "Greece",
          "Greece",
          "Greece",
          "Greece",
          "Greece",
          "Brazil",
          "Estonia",
          "Estonia",
          "Estonia",
          "Estonia",
          "Estonia",
          "Estonia",
          "Estonia",
          "Estonia",
          "Estonia",
          "Estonia",
          "Estonia",
          "Estonia",
          "Estonia",
          "Estonia",
          "Estonia",
          "Estonia",
          "Estonia",
          "Australia",
          "Australia",
          "Australia",
          "Australia",
          "Australia",
          "Australia",
          "Australia",
          "Australia",
          "Australia",
          "Australia",
          "Australia",
          "Australia",
          "Australia",
          "Australia",
          "Australia",
          "Australia",
          "Australia",
          "Australia",
          "Australia"
         ],
         "y": [
          17.81,
          17.74,
          3.77,
          3.69,
          3.55,
          3.69,
          3.51,
          3.56,
          3.41,
          3.72,
          3.59,
          3.83,
          3.71,
          3.51,
          3.37,
          3.75,
          3.62,
          3.66,
          3.39,
          3.63,
          3.74,
          10.16,
          5.17,
          5.1,
          5.43,
          5.47,
          5.3,
          5.24,
          5.33,
          5.29,
          4.9,
          1.79,
          1.8,
          1.91,
          1.81,
          1.81,
          1.77,
          1.75,
          2.01,
          1.78,
          1.8,
          1.9,
          10.69,
          11.66,
          12.53,
          12.68,
          13.17,
          14.37,
          12.44,
          11.75,
          13.35,
          11.26,
          10.81,
          12.45,
          10.12,
          12.26,
          11.48,
          13.49,
          12.88,
          11.79,
          12.01,
          11.15,
          8.92,
          10.87,
          9.23,
          8.28,
          14.38,
          14.21,
          16.19,
          9.58,
          15.16,
          11.42,
          12.82,
          12.39,
          12.25,
          11.92,
          13.21,
          11.48,
          17.6,
          16.4,
          14.55,
          13.75,
          9.03,
          9.81,
          8.92,
          8.3,
          8.92,
          8.28,
          10.22,
          8.22,
          8.57,
          8.98,
          9.21,
          9.2,
          8.73,
          12.24,
          13.37,
          18.44,
          17.46,
          18.42,
          17.88,
          15.78,
          19.14,
          18.43,
          17.02,
          19.49,
          16.69,
          14.89,
          19.52,
          18.81,
          19.03,
          18.81,
          18.08,
          13.75,
          13.51,
          19.82,
          7.42,
          7.27,
          7.9,
          7.15,
          6.59,
          7.03,
          7.17,
          7.49,
          7.29,
          10.45,
          6.87,
          7.74,
          7.59,
          7.95,
          7.76,
          9.65,
          9.16,
          7.56,
          8.22,
          7.25,
          7.3,
          8.49,
          4.04,
          5,
          4.5,
          3.72,
          3.88,
          10.58,
          10.71,
          10.89,
          10.53,
          10.86,
          10.27,
          2.99,
          9.33,
          9.61,
          9.31,
          9.28,
          9.47,
          8.88,
          8.4,
          9.27,
          8.06,
          9.09,
          8.26,
          7.06,
          8.08,
          8.01,
          8.09,
          8.01,
          8.39,
          7.44,
          7.78,
          8.13,
          7.62,
          15.81,
          15.37,
          15.59,
          15.75,
          15.29,
          14.82,
          13.89,
          13.78,
          11.45,
          13.36,
          13.96,
          13.59,
          14.08,
          14.36,
          12.5,
          3.43,
          24.46,
          5.92,
          17.14,
          18.59,
          29.63,
          21.66,
          17,
          22.07,
          18.15,
          19.09,
          21.67,
          27.51,
          17.18,
          16.7,
          16.06,
          19.39,
          22.05,
          17.15,
          14.29,
          17.14,
          27.12,
          12.69,
          11.94,
          12.28,
          12.36,
          12.62,
          13.09,
          12.69,
          12.01,
          12.76,
          12.21,
          12.15,
          13.04,
          11.9,
          12.5,
          12.08,
          13.02,
          12.25,
          12,
          11.68,
          7.65,
          9.03,
          8.07,
          6.98,
          5.18,
          7.65,
          8.58,
          8.79,
          6.6,
          6.1,
          7.85,
          5.34,
          7.36,
          8.17,
          6.4,
          5.45,
          7.2,
          2.43,
          6.39,
          5.02,
          5.31,
          4.7,
          4.43,
          1.65,
          5.36,
          4.23,
          2.66,
          4.06,
          4.63,
          0.82,
          3.28,
          4.17,
          4.63,
          3.7,
          4.9,
          5.1,
          4.77,
          3.99,
          4.15,
          5.55,
          3.22,
          3.64,
          1.92,
          2.34,
          2.82,
          4.37,
          6.49,
          4.48,
          5.9,
          6.01,
          6.33,
          4.83,
          6.55,
          5.1,
          5.12,
          5.83,
          5.73,
          5.55,
          4.58,
          6.12,
          4.89,
          4.85,
          6.63,
          14.49,
          15.06,
          14.98,
          16.11,
          14.41,
          13.15,
          14.5,
          11.37,
          15.29,
          10.4,
          15.25,
          14.91,
          15.24,
          15.31,
          15.29,
          15.22,
          11.06,
          9.3,
          15.51,
          13.27,
          16.78,
          16.16,
          15.46,
          15.63,
          20.64,
          14.36,
          14.75,
          14.29,
          24.62,
          15.56,
          25.64,
          22.94,
          23.11,
          14.29,
          20.97,
          17.02,
          15.9,
          13.97,
          22.29,
          12.79,
          12.58,
          14.6,
          14.96,
          13.34,
          21.6,
          12.62,
          23.76,
          22.79,
          26.62,
          18.95,
          20.48,
          16.14,
          18.37,
          21.79,
          19.22,
          18.89,
          11.77,
          19.17,
          19.13,
          19.54,
          4.7,
          4.87,
          5.13,
          4.35,
          4.68,
          4.85,
          4.81,
          5.27,
          4.84,
          5.14,
          4.82,
          5.03,
          5.36,
          4.83,
          5.27,
          6.6,
          8.75,
          6.77,
          8.57,
          9.19,
          8.51,
          8.45,
          6.5,
          9.56,
          7.35,
          6.65,
          7.13,
          6.57,
          9.46,
          7.9,
          8.94,
          8.27,
          9.06,
          9.19,
          11.16,
          11.12,
          8.82,
          10.79,
          9.25,
          8.34,
          9.81,
          9.13,
          9.22,
          10.38,
          9.5,
          9,
          9.25,
          8.98,
          11,
          8.46,
          5.4,
          5.05,
          6.09,
          5.97,
          6.21,
          5.77,
          5.78,
          5.1,
          5.38,
          5.57,
          6.56,
          6.31,
          6.42,
          5.28,
          6.16,
          5.62,
          5.64,
          5.63,
          6.42,
          12.35,
          10.94,
          12.52,
          12.95,
          12.37,
          11.13,
          10.99,
          11.9,
          12.17,
          12.16,
          11.72,
          12.02,
          11.56,
          12.63,
          13.52,
          11.52,
          13.68,
          17.64,
          17.07,
          16.32,
          17.13,
          11.88,
          16.59,
          12.44,
          14.61,
          17.51,
          14.47,
          17.68,
          13.25,
          13.42,
          16.84,
          15.28,
          17.06,
          16.57,
          14.4,
          13.65,
          15.04,
          13.26,
          14.91,
          18.92,
          19.18,
          21.19,
          15.68,
          18.25,
          18.86,
          14.4,
          17.89,
          21.74,
          16.88,
          14.41,
          18.12,
          16.44,
          16.98,
          9.32,
          8.33,
          8.6,
          8.65,
          8.83,
          7.86,
          7.45,
          8.31,
          7.5,
          8.48,
          9.23,
          7.98,
          8.7,
          7.38,
          7.91,
          7.94,
          3.42,
          3.65,
          3.62,
          3.78,
          4.04,
          3.79,
          6.41,
          19.21,
          14.75,
          16.24,
          25.76,
          13.36,
          17.47,
          17.15,
          15.42,
          24.98,
          14.9,
          23.15,
          26.14,
          22.32,
          12.49,
          16.16,
          16.82,
          19.05,
          10.48,
          11.26,
          11.19,
          10.38,
          9.21,
          9.82,
          11.31,
          10.24,
          10.45,
          11.79,
          9.61,
          10.92,
          11.81,
          10.06,
          10.01,
          10.41,
          11.85,
          9.53,
          11.25
         ]
        }
       ],
       "layout": {
        "barmode": "overlay",
        "template": {
         "data": {
          "bar": [
           {
            "error_x": {
             "color": "#2a3f5f"
            },
            "error_y": {
             "color": "#2a3f5f"
            },
            "marker": {
             "line": {
              "color": "#E5ECF6",
              "width": 0.5
             },
             "pattern": {
              "fillmode": "overlay",
              "size": 10,
              "solidity": 0.2
             }
            },
            "type": "bar"
           }
          ],
          "barpolar": [
           {
            "marker": {
             "line": {
              "color": "#E5ECF6",
              "width": 0.5
             },
             "pattern": {
              "fillmode": "overlay",
              "size": 10,
              "solidity": 0.2
             }
            },
            "type": "barpolar"
           }
          ],
          "carpet": [
           {
            "aaxis": {
             "endlinecolor": "#2a3f5f",
             "gridcolor": "white",
             "linecolor": "white",
             "minorgridcolor": "white",
             "startlinecolor": "#2a3f5f"
            },
            "baxis": {
             "endlinecolor": "#2a3f5f",
             "gridcolor": "white",
             "linecolor": "white",
             "minorgridcolor": "white",
             "startlinecolor": "#2a3f5f"
            },
            "type": "carpet"
           }
          ],
          "choropleth": [
           {
            "colorbar": {
             "outlinewidth": 0,
             "ticks": ""
            },
            "type": "choropleth"
           }
          ],
          "contour": [
           {
            "colorbar": {
             "outlinewidth": 0,
             "ticks": ""
            },
            "colorscale": [
             [
              0,
              "#0d0887"
             ],
             [
              0.1111111111111111,
              "#46039f"
             ],
             [
              0.2222222222222222,
              "#7201a8"
             ],
             [
              0.3333333333333333,
              "#9c179e"
             ],
             [
              0.4444444444444444,
              "#bd3786"
             ],
             [
              0.5555555555555556,
              "#d8576b"
             ],
             [
              0.6666666666666666,
              "#ed7953"
             ],
             [
              0.7777777777777778,
              "#fb9f3a"
             ],
             [
              0.8888888888888888,
              "#fdca26"
             ],
             [
              1,
              "#f0f921"
             ]
            ],
            "type": "contour"
           }
          ],
          "contourcarpet": [
           {
            "colorbar": {
             "outlinewidth": 0,
             "ticks": ""
            },
            "type": "contourcarpet"
           }
          ],
          "heatmap": [
           {
            "colorbar": {
             "outlinewidth": 0,
             "ticks": ""
            },
            "colorscale": [
             [
              0,
              "#0d0887"
             ],
             [
              0.1111111111111111,
              "#46039f"
             ],
             [
              0.2222222222222222,
              "#7201a8"
             ],
             [
              0.3333333333333333,
              "#9c179e"
             ],
             [
              0.4444444444444444,
              "#bd3786"
             ],
             [
              0.5555555555555556,
              "#d8576b"
             ],
             [
              0.6666666666666666,
              "#ed7953"
             ],
             [
              0.7777777777777778,
              "#fb9f3a"
             ],
             [
              0.8888888888888888,
              "#fdca26"
             ],
             [
              1,
              "#f0f921"
             ]
            ],
            "type": "heatmap"
           }
          ],
          "heatmapgl": [
           {
            "colorbar": {
             "outlinewidth": 0,
             "ticks": ""
            },
            "colorscale": [
             [
              0,
              "#0d0887"
             ],
             [
              0.1111111111111111,
              "#46039f"
             ],
             [
              0.2222222222222222,
              "#7201a8"
             ],
             [
              0.3333333333333333,
              "#9c179e"
             ],
             [
              0.4444444444444444,
              "#bd3786"
             ],
             [
              0.5555555555555556,
              "#d8576b"
             ],
             [
              0.6666666666666666,
              "#ed7953"
             ],
             [
              0.7777777777777778,
              "#fb9f3a"
             ],
             [
              0.8888888888888888,
              "#fdca26"
             ],
             [
              1,
              "#f0f921"
             ]
            ],
            "type": "heatmapgl"
           }
          ],
          "histogram": [
           {
            "marker": {
             "pattern": {
              "fillmode": "overlay",
              "size": 10,
              "solidity": 0.2
             }
            },
            "type": "histogram"
           }
          ],
          "histogram2d": [
           {
            "colorbar": {
             "outlinewidth": 0,
             "ticks": ""
            },
            "colorscale": [
             [
              0,
              "#0d0887"
             ],
             [
              0.1111111111111111,
              "#46039f"
             ],
             [
              0.2222222222222222,
              "#7201a8"
             ],
             [
              0.3333333333333333,
              "#9c179e"
             ],
             [
              0.4444444444444444,
              "#bd3786"
             ],
             [
              0.5555555555555556,
              "#d8576b"
             ],
             [
              0.6666666666666666,
              "#ed7953"
             ],
             [
              0.7777777777777778,
              "#fb9f3a"
             ],
             [
              0.8888888888888888,
              "#fdca26"
             ],
             [
              1,
              "#f0f921"
             ]
            ],
            "type": "histogram2d"
           }
          ],
          "histogram2dcontour": [
           {
            "colorbar": {
             "outlinewidth": 0,
             "ticks": ""
            },
            "colorscale": [
             [
              0,
              "#0d0887"
             ],
             [
              0.1111111111111111,
              "#46039f"
             ],
             [
              0.2222222222222222,
              "#7201a8"
             ],
             [
              0.3333333333333333,
              "#9c179e"
             ],
             [
              0.4444444444444444,
              "#bd3786"
             ],
             [
              0.5555555555555556,
              "#d8576b"
             ],
             [
              0.6666666666666666,
              "#ed7953"
             ],
             [
              0.7777777777777778,
              "#fb9f3a"
             ],
             [
              0.8888888888888888,
              "#fdca26"
             ],
             [
              1,
              "#f0f921"
             ]
            ],
            "type": "histogram2dcontour"
           }
          ],
          "mesh3d": [
           {
            "colorbar": {
             "outlinewidth": 0,
             "ticks": ""
            },
            "type": "mesh3d"
           }
          ],
          "parcoords": [
           {
            "line": {
             "colorbar": {
              "outlinewidth": 0,
              "ticks": ""
             }
            },
            "type": "parcoords"
           }
          ],
          "pie": [
           {
            "automargin": true,
            "type": "pie"
           }
          ],
          "scatter": [
           {
            "marker": {
             "colorbar": {
              "outlinewidth": 0,
              "ticks": ""
             }
            },
            "type": "scatter"
           }
          ],
          "scatter3d": [
           {
            "line": {
             "colorbar": {
              "outlinewidth": 0,
              "ticks": ""
             }
            },
            "marker": {
             "colorbar": {
              "outlinewidth": 0,
              "ticks": ""
             }
            },
            "type": "scatter3d"
           }
          ],
          "scattercarpet": [
           {
            "marker": {
             "colorbar": {
              "outlinewidth": 0,
              "ticks": ""
             }
            },
            "type": "scattercarpet"
           }
          ],
          "scattergeo": [
           {
            "marker": {
             "colorbar": {
              "outlinewidth": 0,
              "ticks": ""
             }
            },
            "type": "scattergeo"
           }
          ],
          "scattergl": [
           {
            "marker": {
             "colorbar": {
              "outlinewidth": 0,
              "ticks": ""
             }
            },
            "type": "scattergl"
           }
          ],
          "scattermapbox": [
           {
            "marker": {
             "colorbar": {
              "outlinewidth": 0,
              "ticks": ""
             }
            },
            "type": "scattermapbox"
           }
          ],
          "scatterpolar": [
           {
            "marker": {
             "colorbar": {
              "outlinewidth": 0,
              "ticks": ""
             }
            },
            "type": "scatterpolar"
           }
          ],
          "scatterpolargl": [
           {
            "marker": {
             "colorbar": {
              "outlinewidth": 0,
              "ticks": ""
             }
            },
            "type": "scatterpolargl"
           }
          ],
          "scatterternary": [
           {
            "marker": {
             "colorbar": {
              "outlinewidth": 0,
              "ticks": ""
             }
            },
            "type": "scatterternary"
           }
          ],
          "surface": [
           {
            "colorbar": {
             "outlinewidth": 0,
             "ticks": ""
            },
            "colorscale": [
             [
              0,
              "#0d0887"
             ],
             [
              0.1111111111111111,
              "#46039f"
             ],
             [
              0.2222222222222222,
              "#7201a8"
             ],
             [
              0.3333333333333333,
              "#9c179e"
             ],
             [
              0.4444444444444444,
              "#bd3786"
             ],
             [
              0.5555555555555556,
              "#d8576b"
             ],
             [
              0.6666666666666666,
              "#ed7953"
             ],
             [
              0.7777777777777778,
              "#fb9f3a"
             ],
             [
              0.8888888888888888,
              "#fdca26"
             ],
             [
              1,
              "#f0f921"
             ]
            ],
            "type": "surface"
           }
          ],
          "table": [
           {
            "cells": {
             "fill": {
              "color": "#EBF0F8"
             },
             "line": {
              "color": "white"
             }
            },
            "header": {
             "fill": {
              "color": "#C8D4E3"
             },
             "line": {
              "color": "white"
             }
            },
            "type": "table"
           }
          ]
         },
         "layout": {
          "annotationdefaults": {
           "arrowcolor": "#2a3f5f",
           "arrowhead": 0,
           "arrowwidth": 1
          },
          "autotypenumbers": "strict",
          "coloraxis": {
           "colorbar": {
            "outlinewidth": 0,
            "ticks": ""
           }
          },
          "colorscale": {
           "diverging": [
            [
             0,
             "#8e0152"
            ],
            [
             0.1,
             "#c51b7d"
            ],
            [
             0.2,
             "#de77ae"
            ],
            [
             0.3,
             "#f1b6da"
            ],
            [
             0.4,
             "#fde0ef"
            ],
            [
             0.5,
             "#f7f7f7"
            ],
            [
             0.6,
             "#e6f5d0"
            ],
            [
             0.7,
             "#b8e186"
            ],
            [
             0.8,
             "#7fbc41"
            ],
            [
             0.9,
             "#4d9221"
            ],
            [
             1,
             "#276419"
            ]
           ],
           "sequential": [
            [
             0,
             "#0d0887"
            ],
            [
             0.1111111111111111,
             "#46039f"
            ],
            [
             0.2222222222222222,
             "#7201a8"
            ],
            [
             0.3333333333333333,
             "#9c179e"
            ],
            [
             0.4444444444444444,
             "#bd3786"
            ],
            [
             0.5555555555555556,
             "#d8576b"
            ],
            [
             0.6666666666666666,
             "#ed7953"
            ],
            [
             0.7777777777777778,
             "#fb9f3a"
            ],
            [
             0.8888888888888888,
             "#fdca26"
            ],
            [
             1,
             "#f0f921"
            ]
           ],
           "sequentialminus": [
            [
             0,
             "#0d0887"
            ],
            [
             0.1111111111111111,
             "#46039f"
            ],
            [
             0.2222222222222222,
             "#7201a8"
            ],
            [
             0.3333333333333333,
             "#9c179e"
            ],
            [
             0.4444444444444444,
             "#bd3786"
            ],
            [
             0.5555555555555556,
             "#d8576b"
            ],
            [
             0.6666666666666666,
             "#ed7953"
            ],
            [
             0.7777777777777778,
             "#fb9f3a"
            ],
            [
             0.8888888888888888,
             "#fdca26"
            ],
            [
             1,
             "#f0f921"
            ]
           ]
          },
          "colorway": [
           "#636efa",
           "#EF553B",
           "#00cc96",
           "#ab63fa",
           "#FFA15A",
           "#19d3f3",
           "#FF6692",
           "#B6E880",
           "#FF97FF",
           "#FECB52"
          ],
          "font": {
           "color": "#2a3f5f"
          },
          "geo": {
           "bgcolor": "white",
           "lakecolor": "white",
           "landcolor": "#E5ECF6",
           "showlakes": true,
           "showland": true,
           "subunitcolor": "white"
          },
          "hoverlabel": {
           "align": "left"
          },
          "hovermode": "closest",
          "mapbox": {
           "style": "light"
          },
          "paper_bgcolor": "white",
          "plot_bgcolor": "#E5ECF6",
          "polar": {
           "angularaxis": {
            "gridcolor": "white",
            "linecolor": "white",
            "ticks": ""
           },
           "bgcolor": "#E5ECF6",
           "radialaxis": {
            "gridcolor": "white",
            "linecolor": "white",
            "ticks": ""
           }
          },
          "scene": {
           "xaxis": {
            "backgroundcolor": "#E5ECF6",
            "gridcolor": "white",
            "gridwidth": 2,
            "linecolor": "white",
            "showbackground": true,
            "ticks": "",
            "zerolinecolor": "white"
           },
           "yaxis": {
            "backgroundcolor": "#E5ECF6",
            "gridcolor": "white",
            "gridwidth": 2,
            "linecolor": "white",
            "showbackground": true,
            "ticks": "",
            "zerolinecolor": "white"
           },
           "zaxis": {
            "backgroundcolor": "#E5ECF6",
            "gridcolor": "white",
            "gridwidth": 2,
            "linecolor": "white",
            "showbackground": true,
            "ticks": "",
            "zerolinecolor": "white"
           }
          },
          "shapedefaults": {
           "line": {
            "color": "#2a3f5f"
           }
          },
          "ternary": {
           "aaxis": {
            "gridcolor": "white",
            "linecolor": "white",
            "ticks": ""
           },
           "baxis": {
            "gridcolor": "white",
            "linecolor": "white",
            "ticks": ""
           },
           "bgcolor": "#E5ECF6",
           "caxis": {
            "gridcolor": "white",
            "linecolor": "white",
            "ticks": ""
           }
          },
          "title": {
           "x": 0.05
          },
          "xaxis": {
           "automargin": true,
           "gridcolor": "white",
           "linecolor": "white",
           "ticks": "",
           "title": {
            "standoff": 15
           },
           "zerolinecolor": "white",
           "zerolinewidth": 2
          },
          "yaxis": {
           "automargin": true,
           "gridcolor": "white",
           "linecolor": "white",
           "ticks": "",
           "title": {
            "standoff": 15
           },
           "zerolinecolor": "white",
           "zerolinewidth": 2
          }
         }
        }
       }
      }
     },
     "metadata": {},
     "output_type": "display_data"
    },
    {
     "data": {
      "application/vnd.plotly.v1+json": {
       "config": {
        "plotlyServerURL": "https://plot.ly"
       },
       "data": [
        {
         "histfunc": "avg",
         "name": "Suicide_Avg_rate",
         "opacity": 0.75,
         "type": "histogram",
         "x": [
          "Solomon Islands",
          "Solomon Islands",
          "Egypt",
          "Egypt",
          "Egypt",
          "Egypt",
          "Egypt",
          "Egypt",
          "Egypt",
          "Egypt",
          "Egypt",
          "Egypt",
          "Egypt",
          "Egypt",
          "Egypt",
          "Egypt",
          "Egypt",
          "Egypt",
          "Egypt",
          "Egypt",
          "Egypt",
          "Fiji",
          "Malaysia",
          "Malaysia",
          "Malaysia",
          "Malaysia",
          "Malaysia",
          "Malaysia",
          "Malaysia",
          "Tajikistan",
          "Malaysia",
          "Syrian Arab Republic",
          "Syrian Arab Republic",
          "Syrian Arab Republic",
          "Syrian Arab Republic",
          "Syrian Arab Republic",
          "Syrian Arab Republic",
          "Syrian Arab Republic",
          "Syrian Arab Republic",
          "Syrian Arab Republic",
          "Syrian Arab Republic",
          "Syrian Arab Republic",
          "Iceland",
          "Iceland",
          "Iceland",
          "Iceland",
          "Iceland",
          "Iceland",
          "Iceland",
          "Iceland",
          "Iceland",
          "Iceland",
          "Iceland",
          "Iceland",
          "Iceland",
          "Iceland",
          "Iceland",
          "Iceland",
          "Iceland",
          "Iceland",
          "Iceland",
          "Iceland",
          "Kyrgyzstan",
          "Kyrgyzstan",
          "Kyrgyzstan",
          "Kyrgyzstan",
          "Kyrgyzstan",
          "Kyrgyzstan",
          "Kyrgyzstan",
          "Kyrgyzstan",
          "Kyrgyzstan",
          "Kyrgyzstan",
          "Kyrgyzstan",
          "Kyrgyzstan",
          "Kyrgyzstan",
          "Kyrgyzstan",
          "Kyrgyzstan",
          "Kyrgyzstan",
          "Kyrgyzstan",
          "Kyrgyzstan",
          "Kyrgyzstan",
          "Kyrgyzstan",
          "Uzbekistan",
          "Uzbekistan",
          "Uzbekistan",
          "Uzbekistan",
          "Uzbekistan",
          "Uzbekistan",
          "Uzbekistan",
          "Uzbekistan",
          "Uzbekistan",
          "Uzbekistan",
          "Uzbekistan",
          "Uzbekistan",
          "Uzbekistan",
          "Japan",
          "Japan",
          "Japan",
          "Japan",
          "Japan",
          "Japan",
          "Japan",
          "Japan",
          "Japan",
          "Japan",
          "Japan",
          "Japan",
          "Japan",
          "Japan",
          "Japan",
          "Japan",
          "Japan",
          "Japan",
          "Japan",
          "Japan",
          "Mongolia",
          "Thailand",
          "Thailand",
          "Thailand",
          "Thailand",
          "Thailand",
          "Thailand",
          "Thailand",
          "Thailand",
          "Thailand",
          "Thailand",
          "Thailand",
          "Thailand",
          "Thailand",
          "Thailand",
          "Singapore",
          "Singapore",
          "Singapore",
          "Singapore",
          "Singapore",
          "Singapore",
          "Singapore",
          "Singapore",
          "Azerbaijan",
          "Azerbaijan",
          "Azerbaijan",
          "Azerbaijan",
          "Azerbaijan",
          "Canada",
          "Canada",
          "Canada",
          "Canada",
          "Canada",
          "Canada",
          "Lebanon",
          "Netherlands",
          "Netherlands",
          "Netherlands",
          "Netherlands",
          "Netherlands",
          "Netherlands",
          "Netherlands",
          "Netherlands",
          "Netherlands",
          "Netherlands",
          "Netherlands",
          "Netherlands",
          "Netherlands",
          "Netherlands",
          "Netherlands",
          "Netherlands",
          "Netherlands",
          "Netherlands",
          "Netherlands",
          "Netherlands",
          "Costa Rica",
          "France",
          "France",
          "France",
          "France",
          "France",
          "France",
          "France",
          "France",
          "France",
          "France",
          "France",
          "France",
          "France",
          "France",
          "France",
          "Tunisia",
          "Latvia",
          "Iran (Islamic Republic of)",
          "Latvia",
          "Latvia",
          "Latvia",
          "Latvia",
          "Latvia",
          "Latvia",
          "Latvia",
          "Latvia",
          "Latvia",
          "Latvia",
          "Latvia",
          "Latvia",
          "Latvia",
          "Latvia",
          "Latvia",
          "Latvia",
          "Latvia",
          "Latvia",
          "Latvia",
          "Sweden",
          "Sweden",
          "Sweden",
          "Sweden",
          "Sweden",
          "Sweden",
          "Sweden",
          "Sweden",
          "Sweden",
          "Sweden",
          "Sweden",
          "Sweden",
          "Sweden",
          "Sweden",
          "Sweden",
          "Sweden",
          "Sweden",
          "Sweden",
          "Sweden",
          "Georgia",
          "Georgia",
          "Georgia",
          "Georgia",
          "Georgia",
          "Georgia",
          "Georgia",
          "Georgia",
          "Georgia",
          "Georgia",
          "Georgia",
          "Georgia",
          "Georgia",
          "Georgia",
          "Georgia",
          "Georgia",
          "Georgia",
          "Armenia",
          "Armenia",
          "Armenia",
          "Armenia",
          "Armenia",
          "Armenia",
          "Armenia",
          "Armenia",
          "Armenia",
          "Armenia",
          "Armenia",
          "Armenia",
          "Cyprus",
          "Cyprus",
          "Cyprus",
          "Cyprus",
          "Cyprus",
          "Cyprus",
          "Cyprus",
          "Cyprus",
          "Cyprus",
          "Cyprus",
          "Cyprus",
          "Cyprus",
          "Cyprus",
          "Cyprus",
          "Cyprus",
          "Cyprus",
          "Malta",
          "Malta",
          "Malta",
          "Malta",
          "Malta",
          "Malta",
          "Malta",
          "Malta",
          "Malta",
          "Malta",
          "Malta",
          "Malta",
          "Malta",
          "Malta",
          "Malta",
          "Malta",
          "Malta",
          "Malta",
          "Poland",
          "Poland",
          "Poland",
          "Poland",
          "Poland",
          "Poland",
          "Poland",
          "Poland",
          "Poland",
          "Poland",
          "Poland",
          "Poland",
          "Poland",
          "Poland",
          "Poland",
          "Poland",
          "Poland",
          "Poland",
          "Poland",
          "Poland",
          "Slovenia",
          "Slovenia",
          "Slovenia",
          "Slovenia",
          "Slovenia",
          "Slovenia",
          "Slovenia",
          "Slovenia",
          "Slovenia",
          "Slovenia",
          "Slovenia",
          "Slovenia",
          "Slovenia",
          "Slovenia",
          "Slovenia",
          "Slovenia",
          "Slovenia",
          "Slovenia",
          "Slovenia",
          "Slovenia",
          "Hungary",
          "Hungary",
          "Hungary",
          "Hungary",
          "Hungary",
          "Hungary",
          "Hungary",
          "Hungary",
          "Hungary",
          "Hungary",
          "Hungary",
          "Hungary",
          "Hungary",
          "Hungary",
          "Hungary",
          "Hungary",
          "Hungary",
          "Hungary",
          "Hungary",
          "Hungary",
          "Italy",
          "Italy",
          "Italy",
          "Italy",
          "Italy",
          "Italy",
          "Italy",
          "Italy",
          "Italy",
          "Italy",
          "Italy",
          "Italy",
          "Italy",
          "Italy",
          "Italy",
          "Bulgaria",
          "Bulgaria",
          "Bulgaria",
          "Bulgaria",
          "Bulgaria",
          "Bulgaria",
          "Bulgaria",
          "Bulgaria",
          "Bulgaria",
          "Bulgaria",
          "Bulgaria",
          "Bulgaria",
          "Bulgaria",
          "Bulgaria",
          "Bulgaria",
          "Germany",
          "Germany",
          "Germany",
          "Germany",
          "Germany",
          "Germany",
          "Germany",
          "Germany",
          "Germany",
          "Germany",
          "Germany",
          "Germany",
          "Germany",
          "Germany",
          "Germany",
          "Germany",
          "Germany",
          "Germany",
          "Germany",
          "Germany",
          "Spain",
          "Spain",
          "Spain",
          "Spain",
          "Spain",
          "Spain",
          "Spain",
          "Spain",
          "Spain",
          "Spain",
          "Spain",
          "Spain",
          "Spain",
          "Spain",
          "Spain",
          "Spain",
          "Spain",
          "Spain",
          "Spain",
          "New Zealand",
          "New Zealand",
          "New Zealand",
          "New Zealand",
          "New Zealand",
          "New Zealand",
          "New Zealand",
          "New Zealand",
          "New Zealand",
          "New Zealand",
          "New Zealand",
          "New Zealand",
          "New Zealand",
          "New Zealand",
          "New Zealand",
          "New Zealand",
          "Republic of Moldova",
          "Republic of Moldova",
          "Republic of Moldova",
          "Republic of Moldova",
          "Republic of Moldova",
          "Republic of Moldova",
          "Republic of Moldova",
          "Republic of Moldova",
          "Republic of Moldova",
          "Republic of Moldova",
          "Republic of Moldova",
          "Republic of Moldova",
          "Republic of Moldova",
          "Republic of Moldova",
          "Republic of Moldova",
          "Republic of Moldova",
          "Republic of Moldova",
          "Republic of Moldova",
          "Republic of Moldova",
          "Finland",
          "Finland",
          "Finland",
          "Finland",
          "Finland",
          "Finland",
          "Finland",
          "Finland",
          "Finland",
          "Finland",
          "Finland",
          "Finland",
          "Finland",
          "Finland",
          "Finland",
          "Finland",
          "Finland",
          "Finland",
          "Portugal",
          "Portugal",
          "Portugal",
          "Portugal",
          "Portugal",
          "Portugal",
          "Portugal",
          "Portugal",
          "Portugal",
          "Portugal",
          "Portugal",
          "Portugal",
          "Portugal",
          "Portugal",
          "Portugal",
          "Portugal",
          "Greece",
          "Greece",
          "Greece",
          "Greece",
          "Greece",
          "Greece",
          "Brazil",
          "Estonia",
          "Estonia",
          "Estonia",
          "Estonia",
          "Estonia",
          "Estonia",
          "Estonia",
          "Estonia",
          "Estonia",
          "Estonia",
          "Estonia",
          "Estonia",
          "Estonia",
          "Estonia",
          "Estonia",
          "Estonia",
          "Estonia",
          "Australia",
          "Australia",
          "Australia",
          "Australia",
          "Australia",
          "Australia",
          "Australia",
          "Australia",
          "Australia",
          "Australia",
          "Australia",
          "Australia",
          "Australia",
          "Australia",
          "Australia",
          "Australia",
          "Australia",
          "Australia",
          "Australia"
         ],
         "y": [
          17.81,
          17.74,
          3.77,
          3.69,
          3.55,
          3.69,
          3.51,
          3.56,
          3.41,
          3.72,
          3.59,
          3.83,
          3.71,
          3.51,
          3.37,
          3.75,
          3.62,
          3.66,
          3.39,
          3.63,
          3.74,
          10.16,
          5.17,
          5.1,
          5.43,
          5.47,
          5.3,
          5.24,
          5.33,
          5.29,
          4.9,
          1.79,
          1.8,
          1.91,
          1.81,
          1.81,
          1.77,
          1.75,
          2.01,
          1.78,
          1.8,
          1.9,
          10.69,
          11.66,
          12.53,
          12.68,
          13.17,
          14.37,
          12.44,
          11.75,
          13.35,
          11.26,
          10.81,
          12.45,
          10.12,
          12.26,
          11.48,
          13.49,
          12.88,
          11.79,
          12.01,
          11.15,
          8.92,
          10.87,
          9.23,
          8.28,
          14.38,
          14.21,
          16.19,
          9.58,
          15.16,
          11.42,
          12.82,
          12.39,
          12.25,
          11.92,
          13.21,
          11.48,
          17.6,
          16.4,
          14.55,
          13.75,
          9.03,
          9.81,
          8.92,
          8.3,
          8.92,
          8.28,
          10.22,
          8.22,
          8.57,
          8.98,
          9.21,
          9.2,
          8.73,
          12.24,
          13.37,
          18.44,
          17.46,
          18.42,
          17.88,
          15.78,
          19.14,
          18.43,
          17.02,
          19.49,
          16.69,
          14.89,
          19.52,
          18.81,
          19.03,
          18.81,
          18.08,
          13.75,
          13.51,
          19.82,
          7.42,
          7.27,
          7.9,
          7.15,
          6.59,
          7.03,
          7.17,
          7.49,
          7.29,
          10.45,
          6.87,
          7.74,
          7.59,
          7.95,
          7.76,
          9.65,
          9.16,
          7.56,
          8.22,
          7.25,
          7.3,
          8.49,
          4.04,
          5,
          4.5,
          3.72,
          3.88,
          10.58,
          10.71,
          10.89,
          10.53,
          10.86,
          10.27,
          2.99,
          9.33,
          9.61,
          9.31,
          9.28,
          9.47,
          8.88,
          8.4,
          9.27,
          8.06,
          9.09,
          8.26,
          7.06,
          8.08,
          8.01,
          8.09,
          8.01,
          8.39,
          7.44,
          7.78,
          8.13,
          7.62,
          15.81,
          15.37,
          15.59,
          15.75,
          15.29,
          14.82,
          13.89,
          13.78,
          11.45,
          13.36,
          13.96,
          13.59,
          14.08,
          14.36,
          12.5,
          3.43,
          24.46,
          5.92,
          17.14,
          18.59,
          29.63,
          21.66,
          17,
          22.07,
          18.15,
          19.09,
          21.67,
          27.51,
          17.18,
          16.7,
          16.06,
          19.39,
          22.05,
          17.15,
          14.29,
          17.14,
          27.12,
          12.69,
          11.94,
          12.28,
          12.36,
          12.62,
          13.09,
          12.69,
          12.01,
          12.76,
          12.21,
          12.15,
          13.04,
          11.9,
          12.5,
          12.08,
          13.02,
          12.25,
          12,
          11.68,
          7.65,
          9.03,
          8.07,
          6.98,
          5.18,
          7.65,
          8.58,
          8.79,
          6.6,
          6.1,
          7.85,
          5.34,
          7.36,
          8.17,
          6.4,
          5.45,
          7.2,
          2.43,
          6.39,
          5.02,
          5.31,
          4.7,
          4.43,
          1.65,
          5.36,
          4.23,
          2.66,
          4.06,
          4.63,
          0.82,
          3.28,
          4.17,
          4.63,
          3.7,
          4.9,
          5.1,
          4.77,
          3.99,
          4.15,
          5.55,
          3.22,
          3.64,
          1.92,
          2.34,
          2.82,
          4.37,
          6.49,
          4.48,
          5.9,
          6.01,
          6.33,
          4.83,
          6.55,
          5.1,
          5.12,
          5.83,
          5.73,
          5.55,
          4.58,
          6.12,
          4.89,
          4.85,
          6.63,
          14.49,
          15.06,
          14.98,
          16.11,
          14.41,
          13.15,
          14.5,
          11.37,
          15.29,
          10.4,
          15.25,
          14.91,
          15.24,
          15.31,
          15.29,
          15.22,
          11.06,
          9.3,
          15.51,
          13.27,
          16.78,
          16.16,
          15.46,
          15.63,
          20.64,
          14.36,
          14.75,
          14.29,
          24.62,
          15.56,
          25.64,
          22.94,
          23.11,
          14.29,
          20.97,
          17.02,
          15.9,
          13.97,
          22.29,
          12.79,
          12.58,
          14.6,
          14.96,
          13.34,
          21.6,
          12.62,
          23.76,
          22.79,
          26.62,
          18.95,
          20.48,
          16.14,
          18.37,
          21.79,
          19.22,
          18.89,
          11.77,
          19.17,
          19.13,
          19.54,
          4.7,
          4.87,
          5.13,
          4.35,
          4.68,
          4.85,
          4.81,
          5.27,
          4.84,
          5.14,
          4.82,
          5.03,
          5.36,
          4.83,
          5.27,
          6.6,
          8.75,
          6.77,
          8.57,
          9.19,
          8.51,
          8.45,
          6.5,
          9.56,
          7.35,
          6.65,
          7.13,
          6.57,
          9.46,
          7.9,
          8.94,
          8.27,
          9.06,
          9.19,
          11.16,
          11.12,
          8.82,
          10.79,
          9.25,
          8.34,
          9.81,
          9.13,
          9.22,
          10.38,
          9.5,
          9,
          9.25,
          8.98,
          11,
          8.46,
          5.4,
          5.05,
          6.09,
          5.97,
          6.21,
          5.77,
          5.78,
          5.1,
          5.38,
          5.57,
          6.56,
          6.31,
          6.42,
          5.28,
          6.16,
          5.62,
          5.64,
          5.63,
          6.42,
          12.35,
          10.94,
          12.52,
          12.95,
          12.37,
          11.13,
          10.99,
          11.9,
          12.17,
          12.16,
          11.72,
          12.02,
          11.56,
          12.63,
          13.52,
          11.52,
          13.68,
          17.64,
          17.07,
          16.32,
          17.13,
          11.88,
          16.59,
          12.44,
          14.61,
          17.51,
          14.47,
          17.68,
          13.25,
          13.42,
          16.84,
          15.28,
          17.06,
          16.57,
          14.4,
          13.65,
          15.04,
          13.26,
          14.91,
          18.92,
          19.18,
          21.19,
          15.68,
          18.25,
          18.86,
          14.4,
          17.89,
          21.74,
          16.88,
          14.41,
          18.12,
          16.44,
          16.98,
          9.32,
          8.33,
          8.6,
          8.65,
          8.83,
          7.86,
          7.45,
          8.31,
          7.5,
          8.48,
          9.23,
          7.98,
          8.7,
          7.38,
          7.91,
          7.94,
          3.42,
          3.65,
          3.62,
          3.78,
          4.04,
          3.79,
          6.41,
          19.21,
          14.75,
          16.24,
          25.76,
          13.36,
          17.47,
          17.15,
          15.42,
          24.98,
          14.9,
          23.15,
          26.14,
          22.32,
          12.49,
          16.16,
          16.82,
          19.05,
          10.48,
          11.26,
          11.19,
          10.38,
          9.21,
          9.82,
          11.31,
          10.24,
          10.45,
          11.79,
          9.61,
          10.92,
          11.81,
          10.06,
          10.01,
          10.41,
          11.85,
          9.53,
          11.25
         ]
        },
        {
         "histfunc": "avg",
         "name": "HExp_Avg_Pctage",
         "opacity": 0.75,
         "type": "histogram",
         "x": [
          "Solomon Islands",
          "Solomon Islands",
          "Egypt",
          "Egypt",
          "Egypt",
          "Egypt",
          "Egypt",
          "Egypt",
          "Egypt",
          "Egypt",
          "Egypt",
          "Egypt",
          "Egypt",
          "Egypt",
          "Egypt",
          "Egypt",
          "Egypt",
          "Egypt",
          "Egypt",
          "Egypt",
          "Egypt",
          "Fiji",
          "Malaysia",
          "Malaysia",
          "Malaysia",
          "Malaysia",
          "Malaysia",
          "Malaysia",
          "Malaysia",
          "Tajikistan",
          "Malaysia",
          "Syrian Arab Republic",
          "Syrian Arab Republic",
          "Syrian Arab Republic",
          "Syrian Arab Republic",
          "Syrian Arab Republic",
          "Syrian Arab Republic",
          "Syrian Arab Republic",
          "Syrian Arab Republic",
          "Syrian Arab Republic",
          "Syrian Arab Republic",
          "Syrian Arab Republic",
          "Iceland",
          "Iceland",
          "Iceland",
          "Iceland",
          "Iceland",
          "Iceland",
          "Iceland",
          "Iceland",
          "Iceland",
          "Iceland",
          "Iceland",
          "Iceland",
          "Iceland",
          "Iceland",
          "Iceland",
          "Iceland",
          "Iceland",
          "Iceland",
          "Iceland",
          "Iceland",
          "Kyrgyzstan",
          "Kyrgyzstan",
          "Kyrgyzstan",
          "Kyrgyzstan",
          "Kyrgyzstan",
          "Kyrgyzstan",
          "Kyrgyzstan",
          "Kyrgyzstan",
          "Kyrgyzstan",
          "Kyrgyzstan",
          "Kyrgyzstan",
          "Kyrgyzstan",
          "Kyrgyzstan",
          "Kyrgyzstan",
          "Kyrgyzstan",
          "Kyrgyzstan",
          "Kyrgyzstan",
          "Kyrgyzstan",
          "Kyrgyzstan",
          "Kyrgyzstan",
          "Uzbekistan",
          "Uzbekistan",
          "Uzbekistan",
          "Uzbekistan",
          "Uzbekistan",
          "Uzbekistan",
          "Uzbekistan",
          "Uzbekistan",
          "Uzbekistan",
          "Uzbekistan",
          "Uzbekistan",
          "Uzbekistan",
          "Uzbekistan",
          "Japan",
          "Japan",
          "Japan",
          "Japan",
          "Japan",
          "Japan",
          "Japan",
          "Japan",
          "Japan",
          "Japan",
          "Japan",
          "Japan",
          "Japan",
          "Japan",
          "Japan",
          "Japan",
          "Japan",
          "Japan",
          "Japan",
          "Japan",
          "Mongolia",
          "Thailand",
          "Thailand",
          "Thailand",
          "Thailand",
          "Thailand",
          "Thailand",
          "Thailand",
          "Thailand",
          "Thailand",
          "Thailand",
          "Thailand",
          "Thailand",
          "Thailand",
          "Thailand",
          "Singapore",
          "Singapore",
          "Singapore",
          "Singapore",
          "Singapore",
          "Singapore",
          "Singapore",
          "Singapore",
          "Azerbaijan",
          "Azerbaijan",
          "Azerbaijan",
          "Azerbaijan",
          "Azerbaijan",
          "Canada",
          "Canada",
          "Canada",
          "Canada",
          "Canada",
          "Canada",
          "Lebanon",
          "Netherlands",
          "Netherlands",
          "Netherlands",
          "Netherlands",
          "Netherlands",
          "Netherlands",
          "Netherlands",
          "Netherlands",
          "Netherlands",
          "Netherlands",
          "Netherlands",
          "Netherlands",
          "Netherlands",
          "Netherlands",
          "Netherlands",
          "Netherlands",
          "Netherlands",
          "Netherlands",
          "Netherlands",
          "Netherlands",
          "Costa Rica",
          "France",
          "France",
          "France",
          "France",
          "France",
          "France",
          "France",
          "France",
          "France",
          "France",
          "France",
          "France",
          "France",
          "France",
          "France",
          "Tunisia",
          "Latvia",
          "Iran (Islamic Republic of)",
          "Latvia",
          "Latvia",
          "Latvia",
          "Latvia",
          "Latvia",
          "Latvia",
          "Latvia",
          "Latvia",
          "Latvia",
          "Latvia",
          "Latvia",
          "Latvia",
          "Latvia",
          "Latvia",
          "Latvia",
          "Latvia",
          "Latvia",
          "Latvia",
          "Latvia",
          "Sweden",
          "Sweden",
          "Sweden",
          "Sweden",
          "Sweden",
          "Sweden",
          "Sweden",
          "Sweden",
          "Sweden",
          "Sweden",
          "Sweden",
          "Sweden",
          "Sweden",
          "Sweden",
          "Sweden",
          "Sweden",
          "Sweden",
          "Sweden",
          "Sweden",
          "Georgia",
          "Georgia",
          "Georgia",
          "Georgia",
          "Georgia",
          "Georgia",
          "Georgia",
          "Georgia",
          "Georgia",
          "Georgia",
          "Georgia",
          "Georgia",
          "Georgia",
          "Georgia",
          "Georgia",
          "Georgia",
          "Georgia",
          "Armenia",
          "Armenia",
          "Armenia",
          "Armenia",
          "Armenia",
          "Armenia",
          "Armenia",
          "Armenia",
          "Armenia",
          "Armenia",
          "Armenia",
          "Armenia",
          "Cyprus",
          "Cyprus",
          "Cyprus",
          "Cyprus",
          "Cyprus",
          "Cyprus",
          "Cyprus",
          "Cyprus",
          "Cyprus",
          "Cyprus",
          "Cyprus",
          "Cyprus",
          "Cyprus",
          "Cyprus",
          "Cyprus",
          "Cyprus",
          "Malta",
          "Malta",
          "Malta",
          "Malta",
          "Malta",
          "Malta",
          "Malta",
          "Malta",
          "Malta",
          "Malta",
          "Malta",
          "Malta",
          "Malta",
          "Malta",
          "Malta",
          "Malta",
          "Malta",
          "Malta",
          "Poland",
          "Poland",
          "Poland",
          "Poland",
          "Poland",
          "Poland",
          "Poland",
          "Poland",
          "Poland",
          "Poland",
          "Poland",
          "Poland",
          "Poland",
          "Poland",
          "Poland",
          "Poland",
          "Poland",
          "Poland",
          "Poland",
          "Poland",
          "Slovenia",
          "Slovenia",
          "Slovenia",
          "Slovenia",
          "Slovenia",
          "Slovenia",
          "Slovenia",
          "Slovenia",
          "Slovenia",
          "Slovenia",
          "Slovenia",
          "Slovenia",
          "Slovenia",
          "Slovenia",
          "Slovenia",
          "Slovenia",
          "Slovenia",
          "Slovenia",
          "Slovenia",
          "Slovenia",
          "Hungary",
          "Hungary",
          "Hungary",
          "Hungary",
          "Hungary",
          "Hungary",
          "Hungary",
          "Hungary",
          "Hungary",
          "Hungary",
          "Hungary",
          "Hungary",
          "Hungary",
          "Hungary",
          "Hungary",
          "Hungary",
          "Hungary",
          "Hungary",
          "Hungary",
          "Hungary",
          "Italy",
          "Italy",
          "Italy",
          "Italy",
          "Italy",
          "Italy",
          "Italy",
          "Italy",
          "Italy",
          "Italy",
          "Italy",
          "Italy",
          "Italy",
          "Italy",
          "Italy",
          "Bulgaria",
          "Bulgaria",
          "Bulgaria",
          "Bulgaria",
          "Bulgaria",
          "Bulgaria",
          "Bulgaria",
          "Bulgaria",
          "Bulgaria",
          "Bulgaria",
          "Bulgaria",
          "Bulgaria",
          "Bulgaria",
          "Bulgaria",
          "Bulgaria",
          "Germany",
          "Germany",
          "Germany",
          "Germany",
          "Germany",
          "Germany",
          "Germany",
          "Germany",
          "Germany",
          "Germany",
          "Germany",
          "Germany",
          "Germany",
          "Germany",
          "Germany",
          "Germany",
          "Germany",
          "Germany",
          "Germany",
          "Germany",
          "Spain",
          "Spain",
          "Spain",
          "Spain",
          "Spain",
          "Spain",
          "Spain",
          "Spain",
          "Spain",
          "Spain",
          "Spain",
          "Spain",
          "Spain",
          "Spain",
          "Spain",
          "Spain",
          "Spain",
          "Spain",
          "Spain",
          "New Zealand",
          "New Zealand",
          "New Zealand",
          "New Zealand",
          "New Zealand",
          "New Zealand",
          "New Zealand",
          "New Zealand",
          "New Zealand",
          "New Zealand",
          "New Zealand",
          "New Zealand",
          "New Zealand",
          "New Zealand",
          "New Zealand",
          "New Zealand",
          "Republic of Moldova",
          "Republic of Moldova",
          "Republic of Moldova",
          "Republic of Moldova",
          "Republic of Moldova",
          "Republic of Moldova",
          "Republic of Moldova",
          "Republic of Moldova",
          "Republic of Moldova",
          "Republic of Moldova",
          "Republic of Moldova",
          "Republic of Moldova",
          "Republic of Moldova",
          "Republic of Moldova",
          "Republic of Moldova",
          "Republic of Moldova",
          "Republic of Moldova",
          "Republic of Moldova",
          "Republic of Moldova",
          "Finland",
          "Finland",
          "Finland",
          "Finland",
          "Finland",
          "Finland",
          "Finland",
          "Finland",
          "Finland",
          "Finland",
          "Finland",
          "Finland",
          "Finland",
          "Finland",
          "Finland",
          "Finland",
          "Finland",
          "Finland",
          "Portugal",
          "Portugal",
          "Portugal",
          "Portugal",
          "Portugal",
          "Portugal",
          "Portugal",
          "Portugal",
          "Portugal",
          "Portugal",
          "Portugal",
          "Portugal",
          "Portugal",
          "Portugal",
          "Portugal",
          "Portugal",
          "Greece",
          "Greece",
          "Greece",
          "Greece",
          "Greece",
          "Greece",
          "Brazil",
          "Estonia",
          "Estonia",
          "Estonia",
          "Estonia",
          "Estonia",
          "Estonia",
          "Estonia",
          "Estonia",
          "Estonia",
          "Estonia",
          "Estonia",
          "Estonia",
          "Estonia",
          "Estonia",
          "Estonia",
          "Estonia",
          "Estonia",
          "Australia",
          "Australia",
          "Australia",
          "Australia",
          "Australia",
          "Australia",
          "Australia",
          "Australia",
          "Australia",
          "Australia",
          "Australia",
          "Australia",
          "Australia",
          "Australia",
          "Australia",
          "Australia",
          "Australia",
          "Australia",
          "Australia"
         ],
         "y": [
          4.23,
          4,
          4.92,
          5.03,
          4.38,
          4.36,
          4.44,
          4.84,
          4.74,
          5.34,
          4.92,
          4.71,
          5.22,
          4.47,
          4.95,
          5.4,
          4.15,
          4.86,
          5.63,
          5.36,
          5.51,
          3.54,
          3.46,
          3.71,
          3.01,
          3.26,
          3.16,
          3.31,
          3.07,
          7.23,
          3.51,
          3.55,
          5.12,
          4.49,
          3.28,
          3.4,
          3.72,
          3.78,
          4.35,
          4.11,
          4.48,
          4.52,
          8.2,
          8.31,
          8.18,
          8.93,
          8.07,
          8.23,
          8.79,
          9.47,
          8.34,
          8.56,
          8.95,
          8.18,
          8.44,
          8.1,
          9.33,
          8.35,
          8.78,
          8.36,
          9.73,
          8.64,
          5.01,
          7.15,
          6.19,
          4.49,
          8.31,
          6.2,
          4.59,
          6.41,
          5.82,
          8.19,
          6.9,
          6.95,
          7.11,
          8.51,
          6.53,
          7.36,
          4.41,
          4.28,
          7.45,
          6.93,
          4.67,
          5.13,
          5.66,
          5.22,
          5.08,
          5.62,
          5.07,
          5.08,
          5.14,
          5.46,
          4.97,
          4.99,
          5.3,
          10.74,
          10.75,
          7.69,
          7.24,
          7.54,
          7.35,
          10.73,
          7.78,
          10.49,
          10.67,
          8.96,
          10.67,
          10.75,
          7.49,
          7.66,
          8.09,
          9.06,
          7.03,
          10.66,
          10.66,
          4.42,
          3.46,
          3.62,
          3.82,
          3.67,
          3.45,
          3.52,
          3.57,
          3.84,
          3.39,
          3.33,
          3.68,
          3.19,
          3.75,
          3.79,
          4.09,
          4.08,
          3.33,
          4.18,
          3.87,
          4.36,
          4.39,
          3.69,
          2.73,
          1.99,
          2.67,
          2.76,
          2.73,
          9.04,
          8.25,
          9.01,
          8.86,
          8.62,
          9.07,
          7.79,
          10.29,
          10.11,
          10.32,
          10.57,
          10.58,
          10.54,
          10.23,
          10.13,
          10.16,
          10.03,
          9.1,
          9.05,
          9.08,
          8.06,
          7.71,
          9.06,
          8.65,
          9.28,
          9.99,
          9.11,
          7.27,
          9.58,
          9.71,
          10.02,
          10.08,
          10.16,
          10.21,
          11.23,
          10.32,
          11.54,
          11.3,
          10.5,
          11.18,
          11.29,
          10.39,
          11.42,
          5.67,
          5.49,
          8.57,
          5.65,
          6.12,
          5.44,
          5.6,
          5.52,
          5.85,
          5.54,
          5.72,
          6.12,
          5.78,
          5.47,
          5.37,
          6.58,
          5.38,
          6.22,
          6.14,
          6.19,
          5.97,
          5.77,
          8.15,
          8.13,
          10.95,
          8.21,
          8.21,
          8.77,
          10.94,
          8.32,
          7.9,
          7.33,
          10.85,
          10.9,
          8,
          10.79,
          8.05,
          10.8,
          10.74,
          10.42,
          8.32,
          6.66,
          8,
          7.06,
          9.07,
          7.44,
          8.05,
          7.9,
          7.42,
          7.19,
          7.17,
          7.11,
          7.63,
          9.57,
          7.88,
          8.09,
          8.08,
          8.01,
          10.36,
          9.13,
          5.5,
          10.32,
          10.12,
          9.95,
          10.01,
          5.85,
          6.64,
          11.34,
          8.44,
          10.18,
          5.41,
          6.6,
          6.75,
          6.52,
          6.45,
          6.55,
          6.95,
          6.95,
          6.47,
          6.62,
          6.01,
          5.46,
          6.77,
          5.31,
          5.44,
          5.36,
          8.66,
          7,
          7.9,
          8.5,
          6.57,
          9.09,
          8.89,
          8.9,
          8.38,
          8.94,
          8.81,
          8.45,
          7.86,
          8.17,
          7.92,
          7.71,
          8.05,
          7.95,
          5.8,
          6.41,
          6.24,
          6.59,
          6.38,
          6.39,
          6.39,
          6.53,
          6.22,
          6.33,
          5.87,
          5.95,
          6.07,
          5.29,
          5.67,
          5.81,
          6.56,
          6.45,
          6.41,
          5.87,
          8.54,
          8.74,
          8.54,
          7.85,
          8,
          8.5,
          8.5,
          8.46,
          7.88,
          8.57,
          7.8,
          8.02,
          8.1,
          8.19,
          7.82,
          7.51,
          8.72,
          8.52,
          7.94,
          8.28,
          6.55,
          6.86,
          7.06,
          7,
          7.77,
          6.76,
          6.83,
          7.12,
          6.78,
          7.49,
          8,
          7.25,
          7.43,
          8.12,
          7.79,
          7.22,
          6.35,
          7.46,
          7.1,
          7.24,
          8.14,
          8.95,
          8.77,
          8.73,
          8.44,
          8.53,
          8.34,
          8.78,
          8.68,
          8.17,
          8.92,
          8.87,
          8.78,
          8.86,
          7.83,
          7.34,
          7.58,
          7.41,
          6.16,
          6.29,
          6.6,
          7.14,
          7.13,
          6.89,
          7.17,
          7.52,
          7.71,
          7.48,
          6.53,
          7.14,
          10.05,
          11.7,
          10.25,
          11.02,
          9.89,
          9.92,
          11.24,
          10.4,
          10.18,
          11.33,
          10.31,
          11.24,
          11,
          10.15,
          11.1,
          11.18,
          10.78,
          10.85,
          10.18,
          11.45,
          7.92,
          9.12,
          6.77,
          7.73,
          9.09,
          8.96,
          8.38,
          9.17,
          8.99,
          7.83,
          6.8,
          6.8,
          7.66,
          9.13,
          9.07,
          9.11,
          9.13,
          9.16,
          7.56,
          9.65,
          9.62,
          8.27,
          7.72,
          7.47,
          9.28,
          9.52,
          9.12,
          7.9,
          7.9,
          8.33,
          9.59,
          9.36,
          8.64,
          7.58,
          9.24,
          8.56,
          10.13,
          13.68,
          5.93,
          7.02,
          6.59,
          7.4,
          7.01,
          9.14,
          10.54,
          8.63,
          6.23,
          9.1,
          7.54,
          10.95,
          11.02,
          9.56,
          8.97,
          8.68,
          9.78,
          9.81,
          9.38,
          9.59,
          7.94,
          7.63,
          7.25,
          9.22,
          8.28,
          8.06,
          9.13,
          9.16,
          7.09,
          8.29,
          9.04,
          8.34,
          9.14,
          8.08,
          8.79,
          9.25,
          9.58,
          10.13,
          10.03,
          9.31,
          9.53,
          9.32,
          9.41,
          9.65,
          9.34,
          9.4,
          9.12,
          9.39,
          9.65,
          9.73,
          8.32,
          7.96,
          7.84,
          8.07,
          7.91,
          8.1,
          9.59,
          6.51,
          5.77,
          5.71,
          4.7,
          6.35,
          4.98,
          5.79,
          6.27,
          5.16,
          5.98,
          5.12,
          4.78,
          4.86,
          6.43,
          6.08,
          4.77,
          5.06,
          8.68,
          9.16,
          7.7,
          7.89,
          8.11,
          8.07,
          9.04,
          8.76,
          8.26,
          9.27,
          7.9,
          9.25,
          9.33,
          8.54,
          8.56,
          8.43,
          7.61,
          7.99,
          9.91
         ]
        }
       ],
       "layout": {
        "barmode": "overlay",
        "template": {
         "data": {
          "bar": [
           {
            "error_x": {
             "color": "#2a3f5f"
            },
            "error_y": {
             "color": "#2a3f5f"
            },
            "marker": {
             "line": {
              "color": "#E5ECF6",
              "width": 0.5
             },
             "pattern": {
              "fillmode": "overlay",
              "size": 10,
              "solidity": 0.2
             }
            },
            "type": "bar"
           }
          ],
          "barpolar": [
           {
            "marker": {
             "line": {
              "color": "#E5ECF6",
              "width": 0.5
             },
             "pattern": {
              "fillmode": "overlay",
              "size": 10,
              "solidity": 0.2
             }
            },
            "type": "barpolar"
           }
          ],
          "carpet": [
           {
            "aaxis": {
             "endlinecolor": "#2a3f5f",
             "gridcolor": "white",
             "linecolor": "white",
             "minorgridcolor": "white",
             "startlinecolor": "#2a3f5f"
            },
            "baxis": {
             "endlinecolor": "#2a3f5f",
             "gridcolor": "white",
             "linecolor": "white",
             "minorgridcolor": "white",
             "startlinecolor": "#2a3f5f"
            },
            "type": "carpet"
           }
          ],
          "choropleth": [
           {
            "colorbar": {
             "outlinewidth": 0,
             "ticks": ""
            },
            "type": "choropleth"
           }
          ],
          "contour": [
           {
            "colorbar": {
             "outlinewidth": 0,
             "ticks": ""
            },
            "colorscale": [
             [
              0,
              "#0d0887"
             ],
             [
              0.1111111111111111,
              "#46039f"
             ],
             [
              0.2222222222222222,
              "#7201a8"
             ],
             [
              0.3333333333333333,
              "#9c179e"
             ],
             [
              0.4444444444444444,
              "#bd3786"
             ],
             [
              0.5555555555555556,
              "#d8576b"
             ],
             [
              0.6666666666666666,
              "#ed7953"
             ],
             [
              0.7777777777777778,
              "#fb9f3a"
             ],
             [
              0.8888888888888888,
              "#fdca26"
             ],
             [
              1,
              "#f0f921"
             ]
            ],
            "type": "contour"
           }
          ],
          "contourcarpet": [
           {
            "colorbar": {
             "outlinewidth": 0,
             "ticks": ""
            },
            "type": "contourcarpet"
           }
          ],
          "heatmap": [
           {
            "colorbar": {
             "outlinewidth": 0,
             "ticks": ""
            },
            "colorscale": [
             [
              0,
              "#0d0887"
             ],
             [
              0.1111111111111111,
              "#46039f"
             ],
             [
              0.2222222222222222,
              "#7201a8"
             ],
             [
              0.3333333333333333,
              "#9c179e"
             ],
             [
              0.4444444444444444,
              "#bd3786"
             ],
             [
              0.5555555555555556,
              "#d8576b"
             ],
             [
              0.6666666666666666,
              "#ed7953"
             ],
             [
              0.7777777777777778,
              "#fb9f3a"
             ],
             [
              0.8888888888888888,
              "#fdca26"
             ],
             [
              1,
              "#f0f921"
             ]
            ],
            "type": "heatmap"
           }
          ],
          "heatmapgl": [
           {
            "colorbar": {
             "outlinewidth": 0,
             "ticks": ""
            },
            "colorscale": [
             [
              0,
              "#0d0887"
             ],
             [
              0.1111111111111111,
              "#46039f"
             ],
             [
              0.2222222222222222,
              "#7201a8"
             ],
             [
              0.3333333333333333,
              "#9c179e"
             ],
             [
              0.4444444444444444,
              "#bd3786"
             ],
             [
              0.5555555555555556,
              "#d8576b"
             ],
             [
              0.6666666666666666,
              "#ed7953"
             ],
             [
              0.7777777777777778,
              "#fb9f3a"
             ],
             [
              0.8888888888888888,
              "#fdca26"
             ],
             [
              1,
              "#f0f921"
             ]
            ],
            "type": "heatmapgl"
           }
          ],
          "histogram": [
           {
            "marker": {
             "pattern": {
              "fillmode": "overlay",
              "size": 10,
              "solidity": 0.2
             }
            },
            "type": "histogram"
           }
          ],
          "histogram2d": [
           {
            "colorbar": {
             "outlinewidth": 0,
             "ticks": ""
            },
            "colorscale": [
             [
              0,
              "#0d0887"
             ],
             [
              0.1111111111111111,
              "#46039f"
             ],
             [
              0.2222222222222222,
              "#7201a8"
             ],
             [
              0.3333333333333333,
              "#9c179e"
             ],
             [
              0.4444444444444444,
              "#bd3786"
             ],
             [
              0.5555555555555556,
              "#d8576b"
             ],
             [
              0.6666666666666666,
              "#ed7953"
             ],
             [
              0.7777777777777778,
              "#fb9f3a"
             ],
             [
              0.8888888888888888,
              "#fdca26"
             ],
             [
              1,
              "#f0f921"
             ]
            ],
            "type": "histogram2d"
           }
          ],
          "histogram2dcontour": [
           {
            "colorbar": {
             "outlinewidth": 0,
             "ticks": ""
            },
            "colorscale": [
             [
              0,
              "#0d0887"
             ],
             [
              0.1111111111111111,
              "#46039f"
             ],
             [
              0.2222222222222222,
              "#7201a8"
             ],
             [
              0.3333333333333333,
              "#9c179e"
             ],
             [
              0.4444444444444444,
              "#bd3786"
             ],
             [
              0.5555555555555556,
              "#d8576b"
             ],
             [
              0.6666666666666666,
              "#ed7953"
             ],
             [
              0.7777777777777778,
              "#fb9f3a"
             ],
             [
              0.8888888888888888,
              "#fdca26"
             ],
             [
              1,
              "#f0f921"
             ]
            ],
            "type": "histogram2dcontour"
           }
          ],
          "mesh3d": [
           {
            "colorbar": {
             "outlinewidth": 0,
             "ticks": ""
            },
            "type": "mesh3d"
           }
          ],
          "parcoords": [
           {
            "line": {
             "colorbar": {
              "outlinewidth": 0,
              "ticks": ""
             }
            },
            "type": "parcoords"
           }
          ],
          "pie": [
           {
            "automargin": true,
            "type": "pie"
           }
          ],
          "scatter": [
           {
            "marker": {
             "colorbar": {
              "outlinewidth": 0,
              "ticks": ""
             }
            },
            "type": "scatter"
           }
          ],
          "scatter3d": [
           {
            "line": {
             "colorbar": {
              "outlinewidth": 0,
              "ticks": ""
             }
            },
            "marker": {
             "colorbar": {
              "outlinewidth": 0,
              "ticks": ""
             }
            },
            "type": "scatter3d"
           }
          ],
          "scattercarpet": [
           {
            "marker": {
             "colorbar": {
              "outlinewidth": 0,
              "ticks": ""
             }
            },
            "type": "scattercarpet"
           }
          ],
          "scattergeo": [
           {
            "marker": {
             "colorbar": {
              "outlinewidth": 0,
              "ticks": ""
             }
            },
            "type": "scattergeo"
           }
          ],
          "scattergl": [
           {
            "marker": {
             "colorbar": {
              "outlinewidth": 0,
              "ticks": ""
             }
            },
            "type": "scattergl"
           }
          ],
          "scattermapbox": [
           {
            "marker": {
             "colorbar": {
              "outlinewidth": 0,
              "ticks": ""
             }
            },
            "type": "scattermapbox"
           }
          ],
          "scatterpolar": [
           {
            "marker": {
             "colorbar": {
              "outlinewidth": 0,
              "ticks": ""
             }
            },
            "type": "scatterpolar"
           }
          ],
          "scatterpolargl": [
           {
            "marker": {
             "colorbar": {
              "outlinewidth": 0,
              "ticks": ""
             }
            },
            "type": "scatterpolargl"
           }
          ],
          "scatterternary": [
           {
            "marker": {
             "colorbar": {
              "outlinewidth": 0,
              "ticks": ""
             }
            },
            "type": "scatterternary"
           }
          ],
          "surface": [
           {
            "colorbar": {
             "outlinewidth": 0,
             "ticks": ""
            },
            "colorscale": [
             [
              0,
              "#0d0887"
             ],
             [
              0.1111111111111111,
              "#46039f"
             ],
             [
              0.2222222222222222,
              "#7201a8"
             ],
             [
              0.3333333333333333,
              "#9c179e"
             ],
             [
              0.4444444444444444,
              "#bd3786"
             ],
             [
              0.5555555555555556,
              "#d8576b"
             ],
             [
              0.6666666666666666,
              "#ed7953"
             ],
             [
              0.7777777777777778,
              "#fb9f3a"
             ],
             [
              0.8888888888888888,
              "#fdca26"
             ],
             [
              1,
              "#f0f921"
             ]
            ],
            "type": "surface"
           }
          ],
          "table": [
           {
            "cells": {
             "fill": {
              "color": "#EBF0F8"
             },
             "line": {
              "color": "white"
             }
            },
            "header": {
             "fill": {
              "color": "#C8D4E3"
             },
             "line": {
              "color": "white"
             }
            },
            "type": "table"
           }
          ]
         },
         "layout": {
          "annotationdefaults": {
           "arrowcolor": "#2a3f5f",
           "arrowhead": 0,
           "arrowwidth": 1
          },
          "autotypenumbers": "strict",
          "coloraxis": {
           "colorbar": {
            "outlinewidth": 0,
            "ticks": ""
           }
          },
          "colorscale": {
           "diverging": [
            [
             0,
             "#8e0152"
            ],
            [
             0.1,
             "#c51b7d"
            ],
            [
             0.2,
             "#de77ae"
            ],
            [
             0.3,
             "#f1b6da"
            ],
            [
             0.4,
             "#fde0ef"
            ],
            [
             0.5,
             "#f7f7f7"
            ],
            [
             0.6,
             "#e6f5d0"
            ],
            [
             0.7,
             "#b8e186"
            ],
            [
             0.8,
             "#7fbc41"
            ],
            [
             0.9,
             "#4d9221"
            ],
            [
             1,
             "#276419"
            ]
           ],
           "sequential": [
            [
             0,
             "#0d0887"
            ],
            [
             0.1111111111111111,
             "#46039f"
            ],
            [
             0.2222222222222222,
             "#7201a8"
            ],
            [
             0.3333333333333333,
             "#9c179e"
            ],
            [
             0.4444444444444444,
             "#bd3786"
            ],
            [
             0.5555555555555556,
             "#d8576b"
            ],
            [
             0.6666666666666666,
             "#ed7953"
            ],
            [
             0.7777777777777778,
             "#fb9f3a"
            ],
            [
             0.8888888888888888,
             "#fdca26"
            ],
            [
             1,
             "#f0f921"
            ]
           ],
           "sequentialminus": [
            [
             0,
             "#0d0887"
            ],
            [
             0.1111111111111111,
             "#46039f"
            ],
            [
             0.2222222222222222,
             "#7201a8"
            ],
            [
             0.3333333333333333,
             "#9c179e"
            ],
            [
             0.4444444444444444,
             "#bd3786"
            ],
            [
             0.5555555555555556,
             "#d8576b"
            ],
            [
             0.6666666666666666,
             "#ed7953"
            ],
            [
             0.7777777777777778,
             "#fb9f3a"
            ],
            [
             0.8888888888888888,
             "#fdca26"
            ],
            [
             1,
             "#f0f921"
            ]
           ]
          },
          "colorway": [
           "#636efa",
           "#EF553B",
           "#00cc96",
           "#ab63fa",
           "#FFA15A",
           "#19d3f3",
           "#FF6692",
           "#B6E880",
           "#FF97FF",
           "#FECB52"
          ],
          "font": {
           "color": "#2a3f5f"
          },
          "geo": {
           "bgcolor": "white",
           "lakecolor": "white",
           "landcolor": "#E5ECF6",
           "showlakes": true,
           "showland": true,
           "subunitcolor": "white"
          },
          "hoverlabel": {
           "align": "left"
          },
          "hovermode": "closest",
          "mapbox": {
           "style": "light"
          },
          "paper_bgcolor": "white",
          "plot_bgcolor": "#E5ECF6",
          "polar": {
           "angularaxis": {
            "gridcolor": "white",
            "linecolor": "white",
            "ticks": ""
           },
           "bgcolor": "#E5ECF6",
           "radialaxis": {
            "gridcolor": "white",
            "linecolor": "white",
            "ticks": ""
           }
          },
          "scene": {
           "xaxis": {
            "backgroundcolor": "#E5ECF6",
            "gridcolor": "white",
            "gridwidth": 2,
            "linecolor": "white",
            "showbackground": true,
            "ticks": "",
            "zerolinecolor": "white"
           },
           "yaxis": {
            "backgroundcolor": "#E5ECF6",
            "gridcolor": "white",
            "gridwidth": 2,
            "linecolor": "white",
            "showbackground": true,
            "ticks": "",
            "zerolinecolor": "white"
           },
           "zaxis": {
            "backgroundcolor": "#E5ECF6",
            "gridcolor": "white",
            "gridwidth": 2,
            "linecolor": "white",
            "showbackground": true,
            "ticks": "",
            "zerolinecolor": "white"
           }
          },
          "shapedefaults": {
           "line": {
            "color": "#2a3f5f"
           }
          },
          "ternary": {
           "aaxis": {
            "gridcolor": "white",
            "linecolor": "white",
            "ticks": ""
           },
           "baxis": {
            "gridcolor": "white",
            "linecolor": "white",
            "ticks": ""
           },
           "bgcolor": "#E5ECF6",
           "caxis": {
            "gridcolor": "white",
            "linecolor": "white",
            "ticks": ""
           }
          },
          "title": {
           "x": 0.05
          },
          "xaxis": {
           "automargin": true,
           "gridcolor": "white",
           "linecolor": "white",
           "ticks": "",
           "title": {
            "standoff": 15
           },
           "zerolinecolor": "white",
           "zerolinewidth": 2
          },
          "yaxis": {
           "automargin": true,
           "gridcolor": "white",
           "linecolor": "white",
           "ticks": "",
           "title": {
            "standoff": 15
           },
           "zerolinecolor": "white",
           "zerolinewidth": 2
          }
         }
        }
       }
      }
     },
     "metadata": {},
     "output_type": "display_data"
    }
   ],
   "source": [
    "# let's see what is the mental health (MH) expenditure distribution according to the 2011 index, and the depression estimate in 2015\n",
    "df=df.sort_values('MHExp_Pctage_2011',ascending=True)\n",
    "fig=go.Figure()\n",
    "fig.add_trace(go.Histogram(x=df['Country_Name'],y=df['MHExp_Pctage_2011'],histfunc='avg',name='MHExp_2011'))\n",
    "fig.add_trace(go.Histogram(x=df['Country_Name'],y=df['Dep_Num_2015'],histfunc='avg',name='Dep_Prev_2015'))\n",
    "fig.update_layout(barmode='overlay')\n",
    "fig.update_traces(opacity=0.75)\n",
    "fig.show()\n",
    "\n",
    "#check relation between discrete and continuous variables: MHExp_2011 and HExp_Pctage | Dep_Num_2015 and suicide rates p100,000 population\n",
    "fig2=go.Figure()\n",
    "fig2.add_trace(go.Histogram(x=df['Country_Name'],y=df['MHExp_Pctage_2011'],histfunc='avg',name='MHExp_2011'))\n",
    "fig2.add_trace(go.Histogram(x=df['Country_Name'],y=df['HExp_Pctage_Y'],histfunc='avg',name='HExp_Avg_Pctage'))\n",
    "fig2.update_layout(barmode='overlay')\n",
    "fig2.update_traces(opacity=0.75)\n",
    "fig2.show()\n",
    "\n",
    "df=df.sort_values('Dep_Num_2015',ascending=True)\n",
    "fig3=go.Figure()\n",
    "fig3.add_trace(go.Histogram(x=df['Country_Name'],y=df['Dep_Num_2015'],histfunc='avg',name='Dep_Prev_2015'))\n",
    "fig3.add_trace(go.Histogram(x=df['Country_Name'],y=df['Suicide_p100'],histfunc='avg',name='Suicide_Avg_rate'))\n",
    "fig3.update_layout(barmode='overlay')\n",
    "fig3.update_traces(opacity=0.75)\n",
    "fig3.show()\n",
    "\n",
    "fig4=go.Figure()\n",
    "fig4.add_trace(go.Histogram(x=df['Country_Name'],y=df['Suicide_p100'],histfunc='avg',name='Suicide_Avg_rate'))\n",
    "fig4.add_trace(go.Histogram(x=df['Country_Name'],y=df['HExp_Pctage_Y'],histfunc='avg',name='HExp_Avg_Pctage'))\n",
    "fig4.update_layout(barmode='overlay')\n",
    "fig4.update_traces(opacity=0.75)\n",
    "fig4.show()\n",
    "\n",
    "##with no clear relation between both discrete index, 2015 prevalence depression looks stable no matter the MH expenditure in 2011\n",
    "#and also no relation between each discrete index and it's continuous comparison\n",
    "#but we do find a relation between Health Expenditure and Suicide rates"
   ]
  },
  {
   "cell_type": "code",
   "execution_count": 414,
   "metadata": {},
   "outputs": [
    {
     "data": {
      "application/vnd.plotly.v1+json": {
       "config": {
        "plotlyServerURL": "https://plot.ly"
       },
       "data": [
        {
         "coloraxis": "coloraxis",
         "hovertemplate": "HExp_Pctage_Y=%{x}<br>Suicide_p100=%{y}<br>count=%{z}<extra></extra>",
         "name": "",
         "type": "histogram2d",
         "x": [
          4.23,
          4,
          4.92,
          5.03,
          4.38,
          4.36,
          4.44,
          4.84,
          4.74,
          5.34,
          4.92,
          4.71,
          5.22,
          4.47,
          4.95,
          5.4,
          4.15,
          4.86,
          5.63,
          5.36,
          5.51,
          3.54,
          3.46,
          3.71,
          3.01,
          3.26,
          3.16,
          3.31,
          3.07,
          7.23,
          3.51,
          3.55,
          5.12,
          4.49,
          3.28,
          3.4,
          3.72,
          3.78,
          4.35,
          4.11,
          4.48,
          4.52,
          8.2,
          8.31,
          8.18,
          8.93,
          8.07,
          8.23,
          8.79,
          9.47,
          8.34,
          8.56,
          8.95,
          8.18,
          8.44,
          8.1,
          9.33,
          8.35,
          8.78,
          8.36,
          9.73,
          8.64,
          5.01,
          7.15,
          6.19,
          4.49,
          8.31,
          6.2,
          4.59,
          6.41,
          5.82,
          8.19,
          6.9,
          6.95,
          7.11,
          8.51,
          6.53,
          7.36,
          4.41,
          4.28,
          7.45,
          6.93,
          4.67,
          5.13,
          5.66,
          5.22,
          5.08,
          5.62,
          5.07,
          5.08,
          5.14,
          5.46,
          4.97,
          4.99,
          5.3,
          10.74,
          10.75,
          7.69,
          7.24,
          7.54,
          7.35,
          10.73,
          7.78,
          10.49,
          10.67,
          8.96,
          10.67,
          10.75,
          7.49,
          7.66,
          8.09,
          9.06,
          7.03,
          10.66,
          10.66,
          4.42,
          3.46,
          3.62,
          3.82,
          3.67,
          3.45,
          3.52,
          3.57,
          3.84,
          3.39,
          3.33,
          3.68,
          3.19,
          3.75,
          3.79,
          4.09,
          4.08,
          3.33,
          4.18,
          3.87,
          4.36,
          4.39,
          3.69,
          2.73,
          1.99,
          2.67,
          2.76,
          2.73,
          9.04,
          8.25,
          9.01,
          8.86,
          8.62,
          9.07,
          7.79,
          10.29,
          10.11,
          10.32,
          10.57,
          10.58,
          10.54,
          10.23,
          10.13,
          10.16,
          10.03,
          9.1,
          9.05,
          9.08,
          8.06,
          7.71,
          9.06,
          8.65,
          9.28,
          9.99,
          9.11,
          7.27,
          9.58,
          9.71,
          10.02,
          10.08,
          10.16,
          10.21,
          11.23,
          10.32,
          11.54,
          11.3,
          10.5,
          11.18,
          11.29,
          10.39,
          11.42,
          5.67,
          5.49,
          8.57,
          5.65,
          6.12,
          5.44,
          5.6,
          5.52,
          5.85,
          5.54,
          5.72,
          6.12,
          5.78,
          5.47,
          5.37,
          6.58,
          5.38,
          6.22,
          6.14,
          6.19,
          5.97,
          5.77,
          8.15,
          8.13,
          10.95,
          8.21,
          8.21,
          8.77,
          10.94,
          8.32,
          7.9,
          7.33,
          10.85,
          10.9,
          8,
          10.79,
          8.05,
          10.8,
          10.74,
          10.42,
          8.32,
          6.66,
          8,
          7.06,
          9.07,
          7.44,
          8.05,
          7.9,
          7.42,
          7.19,
          7.17,
          7.11,
          7.63,
          9.57,
          7.88,
          8.09,
          8.08,
          8.01,
          10.36,
          9.13,
          5.5,
          10.32,
          10.12,
          9.95,
          10.01,
          5.85,
          6.64,
          11.34,
          8.44,
          10.18,
          5.41,
          6.6,
          6.75,
          6.52,
          6.45,
          6.55,
          6.95,
          6.95,
          6.47,
          6.62,
          6.01,
          5.46,
          6.77,
          5.31,
          5.44,
          5.36,
          8.66,
          7,
          7.9,
          8.5,
          6.57,
          9.09,
          8.89,
          8.9,
          8.38,
          8.94,
          8.81,
          8.45,
          7.86,
          8.17,
          7.92,
          7.71,
          8.05,
          7.95,
          5.8,
          6.41,
          6.24,
          6.59,
          6.38,
          6.39,
          6.39,
          6.53,
          6.22,
          6.33,
          5.87,
          5.95,
          6.07,
          5.29,
          5.67,
          5.81,
          6.56,
          6.45,
          6.41,
          5.87,
          8.54,
          8.74,
          8.54,
          7.85,
          8,
          8.5,
          8.5,
          8.46,
          7.88,
          8.57,
          7.8,
          8.02,
          8.1,
          8.19,
          7.82,
          7.51,
          8.72,
          8.52,
          7.94,
          8.28,
          6.55,
          6.86,
          7.06,
          7,
          7.77,
          6.76,
          6.83,
          7.12,
          6.78,
          7.49,
          8,
          7.25,
          7.43,
          8.12,
          7.79,
          7.22,
          6.35,
          7.46,
          7.1,
          7.24,
          8.14,
          8.95,
          8.77,
          8.73,
          8.44,
          8.53,
          8.34,
          8.78,
          8.68,
          8.17,
          8.92,
          8.87,
          8.78,
          8.86,
          7.83,
          7.34,
          7.58,
          7.41,
          6.16,
          6.29,
          6.6,
          7.14,
          7.13,
          6.89,
          7.17,
          7.52,
          7.71,
          7.48,
          6.53,
          7.14,
          10.05,
          11.7,
          10.25,
          11.02,
          9.89,
          9.92,
          11.24,
          10.4,
          10.18,
          11.33,
          10.31,
          11.24,
          11,
          10.15,
          11.1,
          11.18,
          10.78,
          10.85,
          10.18,
          11.45,
          7.92,
          9.12,
          6.77,
          7.73,
          9.09,
          8.96,
          8.38,
          9.17,
          8.99,
          7.83,
          6.8,
          6.8,
          7.66,
          9.13,
          9.07,
          9.11,
          9.13,
          9.16,
          7.56,
          9.65,
          9.62,
          8.27,
          7.72,
          7.47,
          9.28,
          9.52,
          9.12,
          7.9,
          7.9,
          8.33,
          9.59,
          9.36,
          8.64,
          7.58,
          9.24,
          8.56,
          10.13,
          13.68,
          5.93,
          7.02,
          6.59,
          7.4,
          7.01,
          9.14,
          10.54,
          8.63,
          6.23,
          9.1,
          7.54,
          10.95,
          11.02,
          9.56,
          8.97,
          8.68,
          9.78,
          9.81,
          9.38,
          9.59,
          7.94,
          7.63,
          7.25,
          9.22,
          8.28,
          8.06,
          9.13,
          9.16,
          7.09,
          8.29,
          9.04,
          8.34,
          9.14,
          8.08,
          8.79,
          9.25,
          9.58,
          10.13,
          10.03,
          9.31,
          9.53,
          9.32,
          9.41,
          9.65,
          9.34,
          9.4,
          9.12,
          9.39,
          9.65,
          9.73,
          8.32,
          7.96,
          7.84,
          8.07,
          7.91,
          8.1,
          9.59,
          6.51,
          5.77,
          5.71,
          4.7,
          6.35,
          4.98,
          5.79,
          6.27,
          5.16,
          5.98,
          5.12,
          4.78,
          4.86,
          6.43,
          6.08,
          4.77,
          5.06,
          8.68,
          9.16,
          7.7,
          7.89,
          8.11,
          8.07,
          9.04,
          8.76,
          8.26,
          9.27,
          7.9,
          9.25,
          9.33,
          8.54,
          8.56,
          8.43,
          7.61,
          7.99,
          9.91
         ],
         "xaxis": "x",
         "xbingroup": "x",
         "y": [
          17.81,
          17.74,
          3.77,
          3.69,
          3.55,
          3.69,
          3.51,
          3.56,
          3.41,
          3.72,
          3.59,
          3.83,
          3.71,
          3.51,
          3.37,
          3.75,
          3.62,
          3.66,
          3.39,
          3.63,
          3.74,
          10.16,
          5.17,
          5.1,
          5.43,
          5.47,
          5.3,
          5.24,
          5.33,
          5.29,
          4.9,
          1.79,
          1.8,
          1.91,
          1.81,
          1.81,
          1.77,
          1.75,
          2.01,
          1.78,
          1.8,
          1.9,
          10.69,
          11.66,
          12.53,
          12.68,
          13.17,
          14.37,
          12.44,
          11.75,
          13.35,
          11.26,
          10.81,
          12.45,
          10.12,
          12.26,
          11.48,
          13.49,
          12.88,
          11.79,
          12.01,
          11.15,
          8.92,
          10.87,
          9.23,
          8.28,
          14.38,
          14.21,
          16.19,
          9.58,
          15.16,
          11.42,
          12.82,
          12.39,
          12.25,
          11.92,
          13.21,
          11.48,
          17.6,
          16.4,
          14.55,
          13.75,
          9.03,
          9.81,
          8.92,
          8.3,
          8.92,
          8.28,
          10.22,
          8.22,
          8.57,
          8.98,
          9.21,
          9.2,
          8.73,
          12.24,
          13.37,
          18.44,
          17.46,
          18.42,
          17.88,
          15.78,
          19.14,
          18.43,
          17.02,
          19.49,
          16.69,
          14.89,
          19.52,
          18.81,
          19.03,
          18.81,
          18.08,
          13.75,
          13.51,
          19.82,
          7.42,
          7.27,
          7.9,
          7.15,
          6.59,
          7.03,
          7.17,
          7.49,
          7.29,
          10.45,
          6.87,
          7.74,
          7.59,
          7.95,
          7.76,
          9.65,
          9.16,
          7.56,
          8.22,
          7.25,
          7.3,
          8.49,
          4.04,
          5,
          4.5,
          3.72,
          3.88,
          10.58,
          10.71,
          10.89,
          10.53,
          10.86,
          10.27,
          2.99,
          9.33,
          9.61,
          9.31,
          9.28,
          9.47,
          8.88,
          8.4,
          9.27,
          8.06,
          9.09,
          8.26,
          7.06,
          8.08,
          8.01,
          8.09,
          8.01,
          8.39,
          7.44,
          7.78,
          8.13,
          7.62,
          15.81,
          15.37,
          15.59,
          15.75,
          15.29,
          14.82,
          13.89,
          13.78,
          11.45,
          13.36,
          13.96,
          13.59,
          14.08,
          14.36,
          12.5,
          3.43,
          24.46,
          5.92,
          17.14,
          18.59,
          29.63,
          21.66,
          17,
          22.07,
          18.15,
          19.09,
          21.67,
          27.51,
          17.18,
          16.7,
          16.06,
          19.39,
          22.05,
          17.15,
          14.29,
          17.14,
          27.12,
          12.69,
          11.94,
          12.28,
          12.36,
          12.62,
          13.09,
          12.69,
          12.01,
          12.76,
          12.21,
          12.15,
          13.04,
          11.9,
          12.5,
          12.08,
          13.02,
          12.25,
          12,
          11.68,
          7.65,
          9.03,
          8.07,
          6.98,
          5.18,
          7.65,
          8.58,
          8.79,
          6.6,
          6.1,
          7.85,
          5.34,
          7.36,
          8.17,
          6.4,
          5.45,
          7.2,
          2.43,
          6.39,
          5.02,
          5.31,
          4.7,
          4.43,
          1.65,
          5.36,
          4.23,
          2.66,
          4.06,
          4.63,
          0.82,
          3.28,
          4.17,
          4.63,
          3.7,
          4.9,
          5.1,
          4.77,
          3.99,
          4.15,
          5.55,
          3.22,
          3.64,
          1.92,
          2.34,
          2.82,
          4.37,
          6.49,
          4.48,
          5.9,
          6.01,
          6.33,
          4.83,
          6.55,
          5.1,
          5.12,
          5.83,
          5.73,
          5.55,
          4.58,
          6.12,
          4.89,
          4.85,
          6.63,
          14.49,
          15.06,
          14.98,
          16.11,
          14.41,
          13.15,
          14.5,
          11.37,
          15.29,
          10.4,
          15.25,
          14.91,
          15.24,
          15.31,
          15.29,
          15.22,
          11.06,
          9.3,
          15.51,
          13.27,
          16.78,
          16.16,
          15.46,
          15.63,
          20.64,
          14.36,
          14.75,
          14.29,
          24.62,
          15.56,
          25.64,
          22.94,
          23.11,
          14.29,
          20.97,
          17.02,
          15.9,
          13.97,
          22.29,
          12.79,
          12.58,
          14.6,
          14.96,
          13.34,
          21.6,
          12.62,
          23.76,
          22.79,
          26.62,
          18.95,
          20.48,
          16.14,
          18.37,
          21.79,
          19.22,
          18.89,
          11.77,
          19.17,
          19.13,
          19.54,
          4.7,
          4.87,
          5.13,
          4.35,
          4.68,
          4.85,
          4.81,
          5.27,
          4.84,
          5.14,
          4.82,
          5.03,
          5.36,
          4.83,
          5.27,
          6.6,
          8.75,
          6.77,
          8.57,
          9.19,
          8.51,
          8.45,
          6.5,
          9.56,
          7.35,
          6.65,
          7.13,
          6.57,
          9.46,
          7.9,
          8.94,
          8.27,
          9.06,
          9.19,
          11.16,
          11.12,
          8.82,
          10.79,
          9.25,
          8.34,
          9.81,
          9.13,
          9.22,
          10.38,
          9.5,
          9,
          9.25,
          8.98,
          11,
          8.46,
          5.4,
          5.05,
          6.09,
          5.97,
          6.21,
          5.77,
          5.78,
          5.1,
          5.38,
          5.57,
          6.56,
          6.31,
          6.42,
          5.28,
          6.16,
          5.62,
          5.64,
          5.63,
          6.42,
          12.35,
          10.94,
          12.52,
          12.95,
          12.37,
          11.13,
          10.99,
          11.9,
          12.17,
          12.16,
          11.72,
          12.02,
          11.56,
          12.63,
          13.52,
          11.52,
          13.68,
          17.64,
          17.07,
          16.32,
          17.13,
          11.88,
          16.59,
          12.44,
          14.61,
          17.51,
          14.47,
          17.68,
          13.25,
          13.42,
          16.84,
          15.28,
          17.06,
          16.57,
          14.4,
          13.65,
          15.04,
          13.26,
          14.91,
          18.92,
          19.18,
          21.19,
          15.68,
          18.25,
          18.86,
          14.4,
          17.89,
          21.74,
          16.88,
          14.41,
          18.12,
          16.44,
          16.98,
          9.32,
          8.33,
          8.6,
          8.65,
          8.83,
          7.86,
          7.45,
          8.31,
          7.5,
          8.48,
          9.23,
          7.98,
          8.7,
          7.38,
          7.91,
          7.94,
          3.42,
          3.65,
          3.62,
          3.78,
          4.04,
          3.79,
          6.41,
          19.21,
          14.75,
          16.24,
          25.76,
          13.36,
          17.47,
          17.15,
          15.42,
          24.98,
          14.9,
          23.15,
          26.14,
          22.32,
          12.49,
          16.16,
          16.82,
          19.05,
          10.48,
          11.26,
          11.19,
          10.38,
          9.21,
          9.82,
          11.31,
          10.24,
          10.45,
          11.79,
          9.61,
          10.92,
          11.81,
          10.06,
          10.01,
          10.41,
          11.85,
          9.53,
          11.25
         ],
         "yaxis": "y",
         "ybingroup": "y"
        }
       ],
       "layout": {
        "coloraxis": {
         "colorbar": {
          "title": {
           "text": "count"
          }
         },
         "colorscale": [
          [
           0,
           "#0d0887"
          ],
          [
           0.1111111111111111,
           "#46039f"
          ],
          [
           0.2222222222222222,
           "#7201a8"
          ],
          [
           0.3333333333333333,
           "#9c179e"
          ],
          [
           0.4444444444444444,
           "#bd3786"
          ],
          [
           0.5555555555555556,
           "#d8576b"
          ],
          [
           0.6666666666666666,
           "#ed7953"
          ],
          [
           0.7777777777777778,
           "#fb9f3a"
          ],
          [
           0.8888888888888888,
           "#fdca26"
          ],
          [
           1,
           "#f0f921"
          ]
         ]
        },
        "legend": {
         "tracegroupgap": 0
        },
        "margin": {
         "t": 60
        },
        "template": {
         "data": {
          "bar": [
           {
            "error_x": {
             "color": "#2a3f5f"
            },
            "error_y": {
             "color": "#2a3f5f"
            },
            "marker": {
             "line": {
              "color": "#E5ECF6",
              "width": 0.5
             },
             "pattern": {
              "fillmode": "overlay",
              "size": 10,
              "solidity": 0.2
             }
            },
            "type": "bar"
           }
          ],
          "barpolar": [
           {
            "marker": {
             "line": {
              "color": "#E5ECF6",
              "width": 0.5
             },
             "pattern": {
              "fillmode": "overlay",
              "size": 10,
              "solidity": 0.2
             }
            },
            "type": "barpolar"
           }
          ],
          "carpet": [
           {
            "aaxis": {
             "endlinecolor": "#2a3f5f",
             "gridcolor": "white",
             "linecolor": "white",
             "minorgridcolor": "white",
             "startlinecolor": "#2a3f5f"
            },
            "baxis": {
             "endlinecolor": "#2a3f5f",
             "gridcolor": "white",
             "linecolor": "white",
             "minorgridcolor": "white",
             "startlinecolor": "#2a3f5f"
            },
            "type": "carpet"
           }
          ],
          "choropleth": [
           {
            "colorbar": {
             "outlinewidth": 0,
             "ticks": ""
            },
            "type": "choropleth"
           }
          ],
          "contour": [
           {
            "colorbar": {
             "outlinewidth": 0,
             "ticks": ""
            },
            "colorscale": [
             [
              0,
              "#0d0887"
             ],
             [
              0.1111111111111111,
              "#46039f"
             ],
             [
              0.2222222222222222,
              "#7201a8"
             ],
             [
              0.3333333333333333,
              "#9c179e"
             ],
             [
              0.4444444444444444,
              "#bd3786"
             ],
             [
              0.5555555555555556,
              "#d8576b"
             ],
             [
              0.6666666666666666,
              "#ed7953"
             ],
             [
              0.7777777777777778,
              "#fb9f3a"
             ],
             [
              0.8888888888888888,
              "#fdca26"
             ],
             [
              1,
              "#f0f921"
             ]
            ],
            "type": "contour"
           }
          ],
          "contourcarpet": [
           {
            "colorbar": {
             "outlinewidth": 0,
             "ticks": ""
            },
            "type": "contourcarpet"
           }
          ],
          "heatmap": [
           {
            "colorbar": {
             "outlinewidth": 0,
             "ticks": ""
            },
            "colorscale": [
             [
              0,
              "#0d0887"
             ],
             [
              0.1111111111111111,
              "#46039f"
             ],
             [
              0.2222222222222222,
              "#7201a8"
             ],
             [
              0.3333333333333333,
              "#9c179e"
             ],
             [
              0.4444444444444444,
              "#bd3786"
             ],
             [
              0.5555555555555556,
              "#d8576b"
             ],
             [
              0.6666666666666666,
              "#ed7953"
             ],
             [
              0.7777777777777778,
              "#fb9f3a"
             ],
             [
              0.8888888888888888,
              "#fdca26"
             ],
             [
              1,
              "#f0f921"
             ]
            ],
            "type": "heatmap"
           }
          ],
          "heatmapgl": [
           {
            "colorbar": {
             "outlinewidth": 0,
             "ticks": ""
            },
            "colorscale": [
             [
              0,
              "#0d0887"
             ],
             [
              0.1111111111111111,
              "#46039f"
             ],
             [
              0.2222222222222222,
              "#7201a8"
             ],
             [
              0.3333333333333333,
              "#9c179e"
             ],
             [
              0.4444444444444444,
              "#bd3786"
             ],
             [
              0.5555555555555556,
              "#d8576b"
             ],
             [
              0.6666666666666666,
              "#ed7953"
             ],
             [
              0.7777777777777778,
              "#fb9f3a"
             ],
             [
              0.8888888888888888,
              "#fdca26"
             ],
             [
              1,
              "#f0f921"
             ]
            ],
            "type": "heatmapgl"
           }
          ],
          "histogram": [
           {
            "marker": {
             "pattern": {
              "fillmode": "overlay",
              "size": 10,
              "solidity": 0.2
             }
            },
            "type": "histogram"
           }
          ],
          "histogram2d": [
           {
            "colorbar": {
             "outlinewidth": 0,
             "ticks": ""
            },
            "colorscale": [
             [
              0,
              "#0d0887"
             ],
             [
              0.1111111111111111,
              "#46039f"
             ],
             [
              0.2222222222222222,
              "#7201a8"
             ],
             [
              0.3333333333333333,
              "#9c179e"
             ],
             [
              0.4444444444444444,
              "#bd3786"
             ],
             [
              0.5555555555555556,
              "#d8576b"
             ],
             [
              0.6666666666666666,
              "#ed7953"
             ],
             [
              0.7777777777777778,
              "#fb9f3a"
             ],
             [
              0.8888888888888888,
              "#fdca26"
             ],
             [
              1,
              "#f0f921"
             ]
            ],
            "type": "histogram2d"
           }
          ],
          "histogram2dcontour": [
           {
            "colorbar": {
             "outlinewidth": 0,
             "ticks": ""
            },
            "colorscale": [
             [
              0,
              "#0d0887"
             ],
             [
              0.1111111111111111,
              "#46039f"
             ],
             [
              0.2222222222222222,
              "#7201a8"
             ],
             [
              0.3333333333333333,
              "#9c179e"
             ],
             [
              0.4444444444444444,
              "#bd3786"
             ],
             [
              0.5555555555555556,
              "#d8576b"
             ],
             [
              0.6666666666666666,
              "#ed7953"
             ],
             [
              0.7777777777777778,
              "#fb9f3a"
             ],
             [
              0.8888888888888888,
              "#fdca26"
             ],
             [
              1,
              "#f0f921"
             ]
            ],
            "type": "histogram2dcontour"
           }
          ],
          "mesh3d": [
           {
            "colorbar": {
             "outlinewidth": 0,
             "ticks": ""
            },
            "type": "mesh3d"
           }
          ],
          "parcoords": [
           {
            "line": {
             "colorbar": {
              "outlinewidth": 0,
              "ticks": ""
             }
            },
            "type": "parcoords"
           }
          ],
          "pie": [
           {
            "automargin": true,
            "type": "pie"
           }
          ],
          "scatter": [
           {
            "marker": {
             "colorbar": {
              "outlinewidth": 0,
              "ticks": ""
             }
            },
            "type": "scatter"
           }
          ],
          "scatter3d": [
           {
            "line": {
             "colorbar": {
              "outlinewidth": 0,
              "ticks": ""
             }
            },
            "marker": {
             "colorbar": {
              "outlinewidth": 0,
              "ticks": ""
             }
            },
            "type": "scatter3d"
           }
          ],
          "scattercarpet": [
           {
            "marker": {
             "colorbar": {
              "outlinewidth": 0,
              "ticks": ""
             }
            },
            "type": "scattercarpet"
           }
          ],
          "scattergeo": [
           {
            "marker": {
             "colorbar": {
              "outlinewidth": 0,
              "ticks": ""
             }
            },
            "type": "scattergeo"
           }
          ],
          "scattergl": [
           {
            "marker": {
             "colorbar": {
              "outlinewidth": 0,
              "ticks": ""
             }
            },
            "type": "scattergl"
           }
          ],
          "scattermapbox": [
           {
            "marker": {
             "colorbar": {
              "outlinewidth": 0,
              "ticks": ""
             }
            },
            "type": "scattermapbox"
           }
          ],
          "scatterpolar": [
           {
            "marker": {
             "colorbar": {
              "outlinewidth": 0,
              "ticks": ""
             }
            },
            "type": "scatterpolar"
           }
          ],
          "scatterpolargl": [
           {
            "marker": {
             "colorbar": {
              "outlinewidth": 0,
              "ticks": ""
             }
            },
            "type": "scatterpolargl"
           }
          ],
          "scatterternary": [
           {
            "marker": {
             "colorbar": {
              "outlinewidth": 0,
              "ticks": ""
             }
            },
            "type": "scatterternary"
           }
          ],
          "surface": [
           {
            "colorbar": {
             "outlinewidth": 0,
             "ticks": ""
            },
            "colorscale": [
             [
              0,
              "#0d0887"
             ],
             [
              0.1111111111111111,
              "#46039f"
             ],
             [
              0.2222222222222222,
              "#7201a8"
             ],
             [
              0.3333333333333333,
              "#9c179e"
             ],
             [
              0.4444444444444444,
              "#bd3786"
             ],
             [
              0.5555555555555556,
              "#d8576b"
             ],
             [
              0.6666666666666666,
              "#ed7953"
             ],
             [
              0.7777777777777778,
              "#fb9f3a"
             ],
             [
              0.8888888888888888,
              "#fdca26"
             ],
             [
              1,
              "#f0f921"
             ]
            ],
            "type": "surface"
           }
          ],
          "table": [
           {
            "cells": {
             "fill": {
              "color": "#EBF0F8"
             },
             "line": {
              "color": "white"
             }
            },
            "header": {
             "fill": {
              "color": "#C8D4E3"
             },
             "line": {
              "color": "white"
             }
            },
            "type": "table"
           }
          ]
         },
         "layout": {
          "annotationdefaults": {
           "arrowcolor": "#2a3f5f",
           "arrowhead": 0,
           "arrowwidth": 1
          },
          "autotypenumbers": "strict",
          "coloraxis": {
           "colorbar": {
            "outlinewidth": 0,
            "ticks": ""
           }
          },
          "colorscale": {
           "diverging": [
            [
             0,
             "#8e0152"
            ],
            [
             0.1,
             "#c51b7d"
            ],
            [
             0.2,
             "#de77ae"
            ],
            [
             0.3,
             "#f1b6da"
            ],
            [
             0.4,
             "#fde0ef"
            ],
            [
             0.5,
             "#f7f7f7"
            ],
            [
             0.6,
             "#e6f5d0"
            ],
            [
             0.7,
             "#b8e186"
            ],
            [
             0.8,
             "#7fbc41"
            ],
            [
             0.9,
             "#4d9221"
            ],
            [
             1,
             "#276419"
            ]
           ],
           "sequential": [
            [
             0,
             "#0d0887"
            ],
            [
             0.1111111111111111,
             "#46039f"
            ],
            [
             0.2222222222222222,
             "#7201a8"
            ],
            [
             0.3333333333333333,
             "#9c179e"
            ],
            [
             0.4444444444444444,
             "#bd3786"
            ],
            [
             0.5555555555555556,
             "#d8576b"
            ],
            [
             0.6666666666666666,
             "#ed7953"
            ],
            [
             0.7777777777777778,
             "#fb9f3a"
            ],
            [
             0.8888888888888888,
             "#fdca26"
            ],
            [
             1,
             "#f0f921"
            ]
           ],
           "sequentialminus": [
            [
             0,
             "#0d0887"
            ],
            [
             0.1111111111111111,
             "#46039f"
            ],
            [
             0.2222222222222222,
             "#7201a8"
            ],
            [
             0.3333333333333333,
             "#9c179e"
            ],
            [
             0.4444444444444444,
             "#bd3786"
            ],
            [
             0.5555555555555556,
             "#d8576b"
            ],
            [
             0.6666666666666666,
             "#ed7953"
            ],
            [
             0.7777777777777778,
             "#fb9f3a"
            ],
            [
             0.8888888888888888,
             "#fdca26"
            ],
            [
             1,
             "#f0f921"
            ]
           ]
          },
          "colorway": [
           "#636efa",
           "#EF553B",
           "#00cc96",
           "#ab63fa",
           "#FFA15A",
           "#19d3f3",
           "#FF6692",
           "#B6E880",
           "#FF97FF",
           "#FECB52"
          ],
          "font": {
           "color": "#2a3f5f"
          },
          "geo": {
           "bgcolor": "white",
           "lakecolor": "white",
           "landcolor": "#E5ECF6",
           "showlakes": true,
           "showland": true,
           "subunitcolor": "white"
          },
          "hoverlabel": {
           "align": "left"
          },
          "hovermode": "closest",
          "mapbox": {
           "style": "light"
          },
          "paper_bgcolor": "white",
          "plot_bgcolor": "#E5ECF6",
          "polar": {
           "angularaxis": {
            "gridcolor": "white",
            "linecolor": "white",
            "ticks": ""
           },
           "bgcolor": "#E5ECF6",
           "radialaxis": {
            "gridcolor": "white",
            "linecolor": "white",
            "ticks": ""
           }
          },
          "scene": {
           "xaxis": {
            "backgroundcolor": "#E5ECF6",
            "gridcolor": "white",
            "gridwidth": 2,
            "linecolor": "white",
            "showbackground": true,
            "ticks": "",
            "zerolinecolor": "white"
           },
           "yaxis": {
            "backgroundcolor": "#E5ECF6",
            "gridcolor": "white",
            "gridwidth": 2,
            "linecolor": "white",
            "showbackground": true,
            "ticks": "",
            "zerolinecolor": "white"
           },
           "zaxis": {
            "backgroundcolor": "#E5ECF6",
            "gridcolor": "white",
            "gridwidth": 2,
            "linecolor": "white",
            "showbackground": true,
            "ticks": "",
            "zerolinecolor": "white"
           }
          },
          "shapedefaults": {
           "line": {
            "color": "#2a3f5f"
           }
          },
          "ternary": {
           "aaxis": {
            "gridcolor": "white",
            "linecolor": "white",
            "ticks": ""
           },
           "baxis": {
            "gridcolor": "white",
            "linecolor": "white",
            "ticks": ""
           },
           "bgcolor": "#E5ECF6",
           "caxis": {
            "gridcolor": "white",
            "linecolor": "white",
            "ticks": ""
           }
          },
          "title": {
           "x": 0.05
          },
          "xaxis": {
           "automargin": true,
           "gridcolor": "white",
           "linecolor": "white",
           "ticks": "",
           "title": {
            "standoff": 15
           },
           "zerolinecolor": "white",
           "zerolinewidth": 2
          },
          "yaxis": {
           "automargin": true,
           "gridcolor": "white",
           "linecolor": "white",
           "ticks": "",
           "title": {
            "standoff": 15
           },
           "zerolinecolor": "white",
           "zerolinewidth": 2
          }
         }
        },
        "xaxis": {
         "anchor": "y",
         "domain": [
          0,
          1
         ],
         "title": {
          "text": "HExp_Pctage_Y"
         }
        },
        "yaxis": {
         "anchor": "x",
         "domain": [
          0,
          1
         ],
         "title": {
          "text": "Suicide_p100"
         }
        }
       }
      }
     },
     "metadata": {},
     "output_type": "display_data"
    }
   ],
   "source": [
    "#now we want so see a heatmap of continuous index: suicide rates (standarized by 100,000 population) and Health Expenditure percentages\n",
    "fig5 = px.density_heatmap(df,x='HExp_Pctage_Y',y='Suicide_p100')\n",
    "fig5.show()"
   ]
  },
  {
   "cell_type": "code",
   "execution_count": 520,
   "metadata": {},
   "outputs": [
    {
     "data": {
      "application/vnd.plotly.v1+json": {
       "config": {
        "plotlyServerURL": "https://plot.ly"
       },
       "data": [
        {
         "coloraxis": "coloraxis",
         "hovertemplate": "Deaths_Suicides_p100=%{x}<br>Suicide_p100=%{y}<br>count=%{z}<extra></extra>",
         "name": "",
         "type": "histogram2d",
         "x": [
          2.0469581450257124,
          8.463591666183406,
          9.901004515149264,
          11.536686663590217,
          12.091368425507346,
          13.439813308775129,
          15.134480671106115,
          11.924671847936585,
          14.463544008476894,
          6.821063065604874,
          4.836766664401003,
          6.447736368394162,
          5.1256187985570545,
          7.462511224255996,
          6.902838233862084,
          4.666179029939213,
          5.041882195126027,
          5.589759315529882,
          6.1630025853040165,
          7.746194113030631,
          7.642434027055686,
          6.912225867509379,
          16.12564527034003,
          5.9765221077057875,
          5.967779443478644,
          6.466504789265682,
          6.1295577114803415,
          6.200755247321052,
          6.034496096438259,
          5.904080774732192,
          6.084182828893458,
          5.968203110854367,
          6.354065413649889,
          1.5666557365103655,
          1.3001866008547522,
          3.9081763487523427,
          1.1258022870918203,
          26.399120612074974,
          3.6596227998629236,
          32.523072374395475,
          20.5878677013623,
          25.192078431337517,
          21.953184271061872,
          30.293046718895074,
          24.877138749037833,
          29.002156981316983,
          2.964941267003146,
          2.2797478598866965,
          2.6123241517304003,
          2.2170901915599015,
          2.462900071490667,
          2.422935883835756,
          1.948033274882028,
          1.728611852928399,
          1.924455818641938,
          1.008952289528949,
          21.886713002519176,
          21.659801254325888,
          21.193707563863704,
          20.005893893249922,
          25.13599924841863,
          18.820123756865343,
          20.454883651943188,
          17.972707644117136,
          29.166154209137893,
          20.202404671732882,
          29.73858870166278,
          27.05793103033595,
          28.145412623267642,
          19.891963888583707,
          26.337853420137055,
          21.49146828324765,
          21.398051415627,
          19.073885029238514,
          25.638406332686365,
          17.08291553587122,
          11.935578536106767,
          11.775819724994138,
          12.317346798899965,
          11.443441121847467,
          11.401208528103979,
          12.687502422511919,
          12.689926769900584,
          10.288501446727812,
          14.946730292846011,
          17.16085310475815,
          16.091361395416364,
          17.767443962123266,
          17.128087805958042,
          17.55124281435152,
          16.731664883898063,
          14.336690493098843,
          16.308228834419445,
          14.303125260165388,
          16.10647711264061,
          20.58310221303837,
          21.01680979441022,
          23.188090689143117,
          16.85141358862359,
          20.147094678812397,
          20.332154336161857,
          14.905014121184664,
          19.329931302885132,
          22.46818086363978,
          18.8902376166963,
          14.667688026071861,
          19.422595592764633,
          17.731448541882017,
          18.775809647703035,
          18.09900605045285,
          26.896726719106827,
          14.833319133916726,
          18.871020676074828,
          26.98668919136569,
          16.540250091616294,
          23.705552089831567,
          28.88809644734046,
          24.950391035368273,
          13.907999721840005,
          18.33963216786332,
          20.15094757432046
         ],
         "xaxis": "x",
         "xbingroup": "x",
         "y": [
          5.29,
          10.69,
          11.66,
          12.53,
          13.17,
          14.37,
          12.45,
          12.26,
          11.79,
          9.03,
          9.81,
          8.92,
          8.3,
          8.92,
          8.28,
          10.22,
          8.22,
          8.57,
          8.98,
          9.21,
          9.2,
          8.73,
          13.37,
          7.42,
          7.27,
          7.15,
          6.59,
          7.03,
          7.17,
          7.29,
          6.87,
          7.74,
          7.59,
          4.04,
          4.5,
          3.72,
          3.88,
          24.46,
          5.92,
          29.63,
          17,
          22.07,
          19.09,
          27.51,
          22.05,
          27.12,
          6.6,
          6.1,
          6.39,
          5.31,
          4.7,
          5.36,
          4.23,
          4.06,
          4.63,
          1.92,
          16.78,
          16.16,
          15.46,
          15.63,
          20.64,
          14.36,
          14.75,
          14.29,
          24.62,
          15.56,
          25.64,
          22.94,
          23.11,
          14.29,
          20.97,
          17.02,
          15.9,
          13.97,
          22.29,
          12.79,
          8.75,
          8.57,
          9.19,
          8.51,
          8.45,
          9.56,
          9.46,
          7.9,
          16.32,
          17.13,
          16.59,
          17.51,
          17.68,
          17.06,
          16.57,
          13.65,
          15.04,
          13.26,
          14.91,
          18.92,
          19.18,
          21.19,
          15.68,
          18.25,
          18.86,
          14.4,
          17.89,
          21.74,
          16.88,
          14.41,
          18.12,
          16.44,
          16.98,
          16.24,
          25.76,
          13.36,
          17.47,
          24.98,
          14.9,
          23.15,
          26.14,
          22.32,
          12.49,
          16.82,
          19.05
         ],
         "yaxis": "y",
         "ybingroup": "y"
        }
       ],
       "layout": {
        "coloraxis": {
         "colorbar": {
          "title": {
           "text": "count"
          }
         },
         "colorscale": [
          [
           0,
           "#0d0887"
          ],
          [
           0.1111111111111111,
           "#46039f"
          ],
          [
           0.2222222222222222,
           "#7201a8"
          ],
          [
           0.3333333333333333,
           "#9c179e"
          ],
          [
           0.4444444444444444,
           "#bd3786"
          ],
          [
           0.5555555555555556,
           "#d8576b"
          ],
          [
           0.6666666666666666,
           "#ed7953"
          ],
          [
           0.7777777777777778,
           "#fb9f3a"
          ],
          [
           0.8888888888888888,
           "#fdca26"
          ],
          [
           1,
           "#f0f921"
          ]
         ]
        },
        "legend": {
         "tracegroupgap": 0
        },
        "margin": {
         "t": 60
        },
        "template": {
         "data": {
          "bar": [
           {
            "error_x": {
             "color": "#2a3f5f"
            },
            "error_y": {
             "color": "#2a3f5f"
            },
            "marker": {
             "line": {
              "color": "#E5ECF6",
              "width": 0.5
             },
             "pattern": {
              "fillmode": "overlay",
              "size": 10,
              "solidity": 0.2
             }
            },
            "type": "bar"
           }
          ],
          "barpolar": [
           {
            "marker": {
             "line": {
              "color": "#E5ECF6",
              "width": 0.5
             },
             "pattern": {
              "fillmode": "overlay",
              "size": 10,
              "solidity": 0.2
             }
            },
            "type": "barpolar"
           }
          ],
          "carpet": [
           {
            "aaxis": {
             "endlinecolor": "#2a3f5f",
             "gridcolor": "white",
             "linecolor": "white",
             "minorgridcolor": "white",
             "startlinecolor": "#2a3f5f"
            },
            "baxis": {
             "endlinecolor": "#2a3f5f",
             "gridcolor": "white",
             "linecolor": "white",
             "minorgridcolor": "white",
             "startlinecolor": "#2a3f5f"
            },
            "type": "carpet"
           }
          ],
          "choropleth": [
           {
            "colorbar": {
             "outlinewidth": 0,
             "ticks": ""
            },
            "type": "choropleth"
           }
          ],
          "contour": [
           {
            "colorbar": {
             "outlinewidth": 0,
             "ticks": ""
            },
            "colorscale": [
             [
              0,
              "#0d0887"
             ],
             [
              0.1111111111111111,
              "#46039f"
             ],
             [
              0.2222222222222222,
              "#7201a8"
             ],
             [
              0.3333333333333333,
              "#9c179e"
             ],
             [
              0.4444444444444444,
              "#bd3786"
             ],
             [
              0.5555555555555556,
              "#d8576b"
             ],
             [
              0.6666666666666666,
              "#ed7953"
             ],
             [
              0.7777777777777778,
              "#fb9f3a"
             ],
             [
              0.8888888888888888,
              "#fdca26"
             ],
             [
              1,
              "#f0f921"
             ]
            ],
            "type": "contour"
           }
          ],
          "contourcarpet": [
           {
            "colorbar": {
             "outlinewidth": 0,
             "ticks": ""
            },
            "type": "contourcarpet"
           }
          ],
          "heatmap": [
           {
            "colorbar": {
             "outlinewidth": 0,
             "ticks": ""
            },
            "colorscale": [
             [
              0,
              "#0d0887"
             ],
             [
              0.1111111111111111,
              "#46039f"
             ],
             [
              0.2222222222222222,
              "#7201a8"
             ],
             [
              0.3333333333333333,
              "#9c179e"
             ],
             [
              0.4444444444444444,
              "#bd3786"
             ],
             [
              0.5555555555555556,
              "#d8576b"
             ],
             [
              0.6666666666666666,
              "#ed7953"
             ],
             [
              0.7777777777777778,
              "#fb9f3a"
             ],
             [
              0.8888888888888888,
              "#fdca26"
             ],
             [
              1,
              "#f0f921"
             ]
            ],
            "type": "heatmap"
           }
          ],
          "heatmapgl": [
           {
            "colorbar": {
             "outlinewidth": 0,
             "ticks": ""
            },
            "colorscale": [
             [
              0,
              "#0d0887"
             ],
             [
              0.1111111111111111,
              "#46039f"
             ],
             [
              0.2222222222222222,
              "#7201a8"
             ],
             [
              0.3333333333333333,
              "#9c179e"
             ],
             [
              0.4444444444444444,
              "#bd3786"
             ],
             [
              0.5555555555555556,
              "#d8576b"
             ],
             [
              0.6666666666666666,
              "#ed7953"
             ],
             [
              0.7777777777777778,
              "#fb9f3a"
             ],
             [
              0.8888888888888888,
              "#fdca26"
             ],
             [
              1,
              "#f0f921"
             ]
            ],
            "type": "heatmapgl"
           }
          ],
          "histogram": [
           {
            "marker": {
             "pattern": {
              "fillmode": "overlay",
              "size": 10,
              "solidity": 0.2
             }
            },
            "type": "histogram"
           }
          ],
          "histogram2d": [
           {
            "colorbar": {
             "outlinewidth": 0,
             "ticks": ""
            },
            "colorscale": [
             [
              0,
              "#0d0887"
             ],
             [
              0.1111111111111111,
              "#46039f"
             ],
             [
              0.2222222222222222,
              "#7201a8"
             ],
             [
              0.3333333333333333,
              "#9c179e"
             ],
             [
              0.4444444444444444,
              "#bd3786"
             ],
             [
              0.5555555555555556,
              "#d8576b"
             ],
             [
              0.6666666666666666,
              "#ed7953"
             ],
             [
              0.7777777777777778,
              "#fb9f3a"
             ],
             [
              0.8888888888888888,
              "#fdca26"
             ],
             [
              1,
              "#f0f921"
             ]
            ],
            "type": "histogram2d"
           }
          ],
          "histogram2dcontour": [
           {
            "colorbar": {
             "outlinewidth": 0,
             "ticks": ""
            },
            "colorscale": [
             [
              0,
              "#0d0887"
             ],
             [
              0.1111111111111111,
              "#46039f"
             ],
             [
              0.2222222222222222,
              "#7201a8"
             ],
             [
              0.3333333333333333,
              "#9c179e"
             ],
             [
              0.4444444444444444,
              "#bd3786"
             ],
             [
              0.5555555555555556,
              "#d8576b"
             ],
             [
              0.6666666666666666,
              "#ed7953"
             ],
             [
              0.7777777777777778,
              "#fb9f3a"
             ],
             [
              0.8888888888888888,
              "#fdca26"
             ],
             [
              1,
              "#f0f921"
             ]
            ],
            "type": "histogram2dcontour"
           }
          ],
          "mesh3d": [
           {
            "colorbar": {
             "outlinewidth": 0,
             "ticks": ""
            },
            "type": "mesh3d"
           }
          ],
          "parcoords": [
           {
            "line": {
             "colorbar": {
              "outlinewidth": 0,
              "ticks": ""
             }
            },
            "type": "parcoords"
           }
          ],
          "pie": [
           {
            "automargin": true,
            "type": "pie"
           }
          ],
          "scatter": [
           {
            "marker": {
             "colorbar": {
              "outlinewidth": 0,
              "ticks": ""
             }
            },
            "type": "scatter"
           }
          ],
          "scatter3d": [
           {
            "line": {
             "colorbar": {
              "outlinewidth": 0,
              "ticks": ""
             }
            },
            "marker": {
             "colorbar": {
              "outlinewidth": 0,
              "ticks": ""
             }
            },
            "type": "scatter3d"
           }
          ],
          "scattercarpet": [
           {
            "marker": {
             "colorbar": {
              "outlinewidth": 0,
              "ticks": ""
             }
            },
            "type": "scattercarpet"
           }
          ],
          "scattergeo": [
           {
            "marker": {
             "colorbar": {
              "outlinewidth": 0,
              "ticks": ""
             }
            },
            "type": "scattergeo"
           }
          ],
          "scattergl": [
           {
            "marker": {
             "colorbar": {
              "outlinewidth": 0,
              "ticks": ""
             }
            },
            "type": "scattergl"
           }
          ],
          "scattermapbox": [
           {
            "marker": {
             "colorbar": {
              "outlinewidth": 0,
              "ticks": ""
             }
            },
            "type": "scattermapbox"
           }
          ],
          "scatterpolar": [
           {
            "marker": {
             "colorbar": {
              "outlinewidth": 0,
              "ticks": ""
             }
            },
            "type": "scatterpolar"
           }
          ],
          "scatterpolargl": [
           {
            "marker": {
             "colorbar": {
              "outlinewidth": 0,
              "ticks": ""
             }
            },
            "type": "scatterpolargl"
           }
          ],
          "scatterternary": [
           {
            "marker": {
             "colorbar": {
              "outlinewidth": 0,
              "ticks": ""
             }
            },
            "type": "scatterternary"
           }
          ],
          "surface": [
           {
            "colorbar": {
             "outlinewidth": 0,
             "ticks": ""
            },
            "colorscale": [
             [
              0,
              "#0d0887"
             ],
             [
              0.1111111111111111,
              "#46039f"
             ],
             [
              0.2222222222222222,
              "#7201a8"
             ],
             [
              0.3333333333333333,
              "#9c179e"
             ],
             [
              0.4444444444444444,
              "#bd3786"
             ],
             [
              0.5555555555555556,
              "#d8576b"
             ],
             [
              0.6666666666666666,
              "#ed7953"
             ],
             [
              0.7777777777777778,
              "#fb9f3a"
             ],
             [
              0.8888888888888888,
              "#fdca26"
             ],
             [
              1,
              "#f0f921"
             ]
            ],
            "type": "surface"
           }
          ],
          "table": [
           {
            "cells": {
             "fill": {
              "color": "#EBF0F8"
             },
             "line": {
              "color": "white"
             }
            },
            "header": {
             "fill": {
              "color": "#C8D4E3"
             },
             "line": {
              "color": "white"
             }
            },
            "type": "table"
           }
          ]
         },
         "layout": {
          "annotationdefaults": {
           "arrowcolor": "#2a3f5f",
           "arrowhead": 0,
           "arrowwidth": 1
          },
          "autotypenumbers": "strict",
          "coloraxis": {
           "colorbar": {
            "outlinewidth": 0,
            "ticks": ""
           }
          },
          "colorscale": {
           "diverging": [
            [
             0,
             "#8e0152"
            ],
            [
             0.1,
             "#c51b7d"
            ],
            [
             0.2,
             "#de77ae"
            ],
            [
             0.3,
             "#f1b6da"
            ],
            [
             0.4,
             "#fde0ef"
            ],
            [
             0.5,
             "#f7f7f7"
            ],
            [
             0.6,
             "#e6f5d0"
            ],
            [
             0.7,
             "#b8e186"
            ],
            [
             0.8,
             "#7fbc41"
            ],
            [
             0.9,
             "#4d9221"
            ],
            [
             1,
             "#276419"
            ]
           ],
           "sequential": [
            [
             0,
             "#0d0887"
            ],
            [
             0.1111111111111111,
             "#46039f"
            ],
            [
             0.2222222222222222,
             "#7201a8"
            ],
            [
             0.3333333333333333,
             "#9c179e"
            ],
            [
             0.4444444444444444,
             "#bd3786"
            ],
            [
             0.5555555555555556,
             "#d8576b"
            ],
            [
             0.6666666666666666,
             "#ed7953"
            ],
            [
             0.7777777777777778,
             "#fb9f3a"
            ],
            [
             0.8888888888888888,
             "#fdca26"
            ],
            [
             1,
             "#f0f921"
            ]
           ],
           "sequentialminus": [
            [
             0,
             "#0d0887"
            ],
            [
             0.1111111111111111,
             "#46039f"
            ],
            [
             0.2222222222222222,
             "#7201a8"
            ],
            [
             0.3333333333333333,
             "#9c179e"
            ],
            [
             0.4444444444444444,
             "#bd3786"
            ],
            [
             0.5555555555555556,
             "#d8576b"
            ],
            [
             0.6666666666666666,
             "#ed7953"
            ],
            [
             0.7777777777777778,
             "#fb9f3a"
            ],
            [
             0.8888888888888888,
             "#fdca26"
            ],
            [
             1,
             "#f0f921"
            ]
           ]
          },
          "colorway": [
           "#636efa",
           "#EF553B",
           "#00cc96",
           "#ab63fa",
           "#FFA15A",
           "#19d3f3",
           "#FF6692",
           "#B6E880",
           "#FF97FF",
           "#FECB52"
          ],
          "font": {
           "color": "#2a3f5f"
          },
          "geo": {
           "bgcolor": "white",
           "lakecolor": "white",
           "landcolor": "#E5ECF6",
           "showlakes": true,
           "showland": true,
           "subunitcolor": "white"
          },
          "hoverlabel": {
           "align": "left"
          },
          "hovermode": "closest",
          "mapbox": {
           "style": "light"
          },
          "paper_bgcolor": "white",
          "plot_bgcolor": "#E5ECF6",
          "polar": {
           "angularaxis": {
            "gridcolor": "white",
            "linecolor": "white",
            "ticks": ""
           },
           "bgcolor": "#E5ECF6",
           "radialaxis": {
            "gridcolor": "white",
            "linecolor": "white",
            "ticks": ""
           }
          },
          "scene": {
           "xaxis": {
            "backgroundcolor": "#E5ECF6",
            "gridcolor": "white",
            "gridwidth": 2,
            "linecolor": "white",
            "showbackground": true,
            "ticks": "",
            "zerolinecolor": "white"
           },
           "yaxis": {
            "backgroundcolor": "#E5ECF6",
            "gridcolor": "white",
            "gridwidth": 2,
            "linecolor": "white",
            "showbackground": true,
            "ticks": "",
            "zerolinecolor": "white"
           },
           "zaxis": {
            "backgroundcolor": "#E5ECF6",
            "gridcolor": "white",
            "gridwidth": 2,
            "linecolor": "white",
            "showbackground": true,
            "ticks": "",
            "zerolinecolor": "white"
           }
          },
          "shapedefaults": {
           "line": {
            "color": "#2a3f5f"
           }
          },
          "ternary": {
           "aaxis": {
            "gridcolor": "white",
            "linecolor": "white",
            "ticks": ""
           },
           "baxis": {
            "gridcolor": "white",
            "linecolor": "white",
            "ticks": ""
           },
           "bgcolor": "#E5ECF6",
           "caxis": {
            "gridcolor": "white",
            "linecolor": "white",
            "ticks": ""
           }
          },
          "title": {
           "x": 0.05
          },
          "xaxis": {
           "automargin": true,
           "gridcolor": "white",
           "linecolor": "white",
           "ticks": "",
           "title": {
            "standoff": 15
           },
           "zerolinecolor": "white",
           "zerolinewidth": 2
          },
          "yaxis": {
           "automargin": true,
           "gridcolor": "white",
           "linecolor": "white",
           "ticks": "",
           "title": {
            "standoff": 15
           },
           "zerolinecolor": "white",
           "zerolinewidth": 2
          }
         }
        },
        "xaxis": {
         "anchor": "y",
         "domain": [
          0,
          1
         ],
         "title": {
          "text": "Deaths_Suicides_p100"
         }
        },
        "yaxis": {
         "anchor": "x",
         "domain": [
          0,
          1
         ],
         "title": {
          "text": "Suicide_p100"
         }
        }
       }
      }
     },
     "metadata": {},
     "output_type": "display_data"
    },
    {
     "data": {
      "text/plain": [
       "array([[1.        , 0.96612906],\n",
       "       [0.96612906, 1.        ]])"
      ]
     },
     "execution_count": 520,
     "metadata": {},
     "output_type": "execute_result"
    }
   ],
   "source": [
    "#Then, we have to check our MHExp index with deaths by ICD codes (it considers a broad definition of deaths by self harm)\n",
    "#Before that, we have to check if deaths by ICD codes are similar than the Suicide Rate in WHO\n",
    "\n",
    "#So,we introduce our ICD_10 calculation with death codes by intentional self-harm\n",
    "\n",
    "##First, we standarize our ICD_10 calculation, to be of 100,000 population\n",
    "df['Deaths_Suicides_p100']=df.apply(lambda row: row.Deaths_Suicides*100000 / row.Population, axis=1)\n",
    "\n",
    "#Then, we compare it with the suicide ratings of WHO, without 0 values of ICD\n",
    "df2=df.loc[df['Deaths_Suicides_p100']>=1]\n",
    "\n",
    "\n",
    "fig6 = px.density_heatmap(df2,x='Deaths_Suicides_p100',y='Suicide_p100')\n",
    "fig6.show()\n",
    "\n",
    "r=np.corrcoef(df2['Deaths_Suicides_p100'],df2['Suicide_p100'])\n",
    "r\n"
   ]
  },
  {
   "cell_type": "code",
   "execution_count": 476,
   "metadata": {},
   "outputs": [
    {
     "data": {
      "application/vnd.plotly.v1+json": {
       "config": {
        "plotlyServerURL": "https://plot.ly"
       },
       "data": [
        {
         "coloraxis": "coloraxis",
         "hovertemplate": "HExp_Pctage_Y=%{x}<br>Deaths_Suicides_p100=%{y}<br>count=%{z}<extra></extra>",
         "name": "",
         "type": "histogram2d",
         "x": [
          7.23,
          8.2,
          8.31,
          8.18,
          8.07,
          8.23,
          8.18,
          8.1,
          8.36,
          4.67,
          5.13,
          5.66,
          5.22,
          5.08,
          5.62,
          5.07,
          5.08,
          5.14,
          5.46,
          4.97,
          4.99,
          5.3,
          10.75,
          3.46,
          3.62,
          3.67,
          3.45,
          3.52,
          3.57,
          3.39,
          3.68,
          3.19,
          3.75,
          2.73,
          2.67,
          2.76,
          2.73,
          5.49,
          8.57,
          5.44,
          5.52,
          5.85,
          5.72,
          5.78,
          6.22,
          5.77,
          7.19,
          7.17,
          9.13,
          10.32,
          10.12,
          5.85,
          6.64,
          8.44,
          10.18,
          5.31,
          8.54,
          8.74,
          8.54,
          7.85,
          8,
          8.5,
          8.5,
          8.46,
          7.88,
          8.57,
          7.8,
          8.02,
          8.1,
          8.19,
          7.82,
          7.51,
          8.72,
          8.52,
          7.94,
          8.28,
          7.58,
          6.16,
          6.29,
          6.6,
          7.14,
          6.89,
          6.53,
          7.14,
          5.93,
          7.02,
          7.4,
          10.54,
          6.23,
          9.56,
          8.97,
          9.78,
          9.81,
          9.38,
          9.59,
          7.94,
          7.63,
          7.25,
          9.22,
          8.28,
          8.06,
          9.13,
          9.16,
          7.09,
          8.29,
          9.04,
          8.34,
          9.14,
          8.08,
          5.71,
          4.7,
          6.35,
          4.98,
          5.16,
          5.98,
          5.12,
          4.78,
          4.86,
          6.43,
          4.77,
          5.06
         ],
         "xaxis": "x",
         "xbingroup": "x",
         "y": [
          2.0469581450257124,
          8.463591666183406,
          9.901004515149264,
          11.536686663590217,
          12.091368425507346,
          13.439813308775129,
          15.134480671106115,
          11.924671847936585,
          14.463544008476894,
          6.821063065604874,
          4.836766664401003,
          6.447736368394162,
          5.1256187985570545,
          7.462511224255996,
          6.902838233862084,
          4.666179029939213,
          5.041882195126027,
          5.589759315529882,
          6.1630025853040165,
          7.746194113030631,
          7.642434027055686,
          6.912225867509379,
          16.12564527034003,
          5.9765221077057875,
          5.967779443478644,
          6.466504789265682,
          6.1295577114803415,
          6.200755247321052,
          6.034496096438259,
          5.904080774732192,
          6.084182828893458,
          5.968203110854367,
          6.354065413649889,
          1.5666557365103655,
          1.3001866008547522,
          3.9081763487523427,
          1.1258022870918203,
          26.399120612074974,
          3.6596227998629236,
          32.523072374395475,
          20.5878677013623,
          25.192078431337517,
          21.953184271061872,
          30.293046718895074,
          24.877138749037833,
          29.002156981316983,
          2.964941267003146,
          2.2797478598866965,
          2.6123241517304003,
          2.2170901915599015,
          2.462900071490667,
          2.422935883835756,
          1.948033274882028,
          1.728611852928399,
          1.924455818641938,
          1.008952289528949,
          21.886713002519176,
          21.659801254325888,
          21.193707563863704,
          20.005893893249922,
          25.13599924841863,
          18.820123756865343,
          20.454883651943188,
          17.972707644117136,
          29.166154209137893,
          20.202404671732882,
          29.73858870166278,
          27.05793103033595,
          28.145412623267642,
          19.891963888583707,
          26.337853420137055,
          21.49146828324765,
          21.398051415627,
          19.073885029238514,
          25.638406332686365,
          17.08291553587122,
          11.935578536106767,
          11.775819724994138,
          12.317346798899965,
          11.443441121847467,
          11.401208528103979,
          12.687502422511919,
          12.689926769900584,
          10.288501446727812,
          14.946730292846011,
          17.16085310475815,
          16.091361395416364,
          17.767443962123266,
          17.128087805958042,
          17.55124281435152,
          16.731664883898063,
          14.336690493098843,
          16.308228834419445,
          14.303125260165388,
          16.10647711264061,
          20.58310221303837,
          21.01680979441022,
          23.188090689143117,
          16.85141358862359,
          20.147094678812397,
          20.332154336161857,
          14.905014121184664,
          19.329931302885132,
          22.46818086363978,
          18.8902376166963,
          14.667688026071861,
          19.422595592764633,
          17.731448541882017,
          18.775809647703035,
          18.09900605045285,
          26.896726719106827,
          14.833319133916726,
          18.871020676074828,
          26.98668919136569,
          16.540250091616294,
          23.705552089831567,
          28.88809644734046,
          24.950391035368273,
          13.907999721840005,
          18.33963216786332,
          20.15094757432046
         ],
         "yaxis": "y",
         "ybingroup": "y"
        }
       ],
       "layout": {
        "coloraxis": {
         "colorbar": {
          "title": {
           "text": "count"
          }
         },
         "colorscale": [
          [
           0,
           "#0d0887"
          ],
          [
           0.1111111111111111,
           "#46039f"
          ],
          [
           0.2222222222222222,
           "#7201a8"
          ],
          [
           0.3333333333333333,
           "#9c179e"
          ],
          [
           0.4444444444444444,
           "#bd3786"
          ],
          [
           0.5555555555555556,
           "#d8576b"
          ],
          [
           0.6666666666666666,
           "#ed7953"
          ],
          [
           0.7777777777777778,
           "#fb9f3a"
          ],
          [
           0.8888888888888888,
           "#fdca26"
          ],
          [
           1,
           "#f0f921"
          ]
         ]
        },
        "legend": {
         "tracegroupgap": 0
        },
        "margin": {
         "t": 60
        },
        "template": {
         "data": {
          "bar": [
           {
            "error_x": {
             "color": "#2a3f5f"
            },
            "error_y": {
             "color": "#2a3f5f"
            },
            "marker": {
             "line": {
              "color": "#E5ECF6",
              "width": 0.5
             },
             "pattern": {
              "fillmode": "overlay",
              "size": 10,
              "solidity": 0.2
             }
            },
            "type": "bar"
           }
          ],
          "barpolar": [
           {
            "marker": {
             "line": {
              "color": "#E5ECF6",
              "width": 0.5
             },
             "pattern": {
              "fillmode": "overlay",
              "size": 10,
              "solidity": 0.2
             }
            },
            "type": "barpolar"
           }
          ],
          "carpet": [
           {
            "aaxis": {
             "endlinecolor": "#2a3f5f",
             "gridcolor": "white",
             "linecolor": "white",
             "minorgridcolor": "white",
             "startlinecolor": "#2a3f5f"
            },
            "baxis": {
             "endlinecolor": "#2a3f5f",
             "gridcolor": "white",
             "linecolor": "white",
             "minorgridcolor": "white",
             "startlinecolor": "#2a3f5f"
            },
            "type": "carpet"
           }
          ],
          "choropleth": [
           {
            "colorbar": {
             "outlinewidth": 0,
             "ticks": ""
            },
            "type": "choropleth"
           }
          ],
          "contour": [
           {
            "colorbar": {
             "outlinewidth": 0,
             "ticks": ""
            },
            "colorscale": [
             [
              0,
              "#0d0887"
             ],
             [
              0.1111111111111111,
              "#46039f"
             ],
             [
              0.2222222222222222,
              "#7201a8"
             ],
             [
              0.3333333333333333,
              "#9c179e"
             ],
             [
              0.4444444444444444,
              "#bd3786"
             ],
             [
              0.5555555555555556,
              "#d8576b"
             ],
             [
              0.6666666666666666,
              "#ed7953"
             ],
             [
              0.7777777777777778,
              "#fb9f3a"
             ],
             [
              0.8888888888888888,
              "#fdca26"
             ],
             [
              1,
              "#f0f921"
             ]
            ],
            "type": "contour"
           }
          ],
          "contourcarpet": [
           {
            "colorbar": {
             "outlinewidth": 0,
             "ticks": ""
            },
            "type": "contourcarpet"
           }
          ],
          "heatmap": [
           {
            "colorbar": {
             "outlinewidth": 0,
             "ticks": ""
            },
            "colorscale": [
             [
              0,
              "#0d0887"
             ],
             [
              0.1111111111111111,
              "#46039f"
             ],
             [
              0.2222222222222222,
              "#7201a8"
             ],
             [
              0.3333333333333333,
              "#9c179e"
             ],
             [
              0.4444444444444444,
              "#bd3786"
             ],
             [
              0.5555555555555556,
              "#d8576b"
             ],
             [
              0.6666666666666666,
              "#ed7953"
             ],
             [
              0.7777777777777778,
              "#fb9f3a"
             ],
             [
              0.8888888888888888,
              "#fdca26"
             ],
             [
              1,
              "#f0f921"
             ]
            ],
            "type": "heatmap"
           }
          ],
          "heatmapgl": [
           {
            "colorbar": {
             "outlinewidth": 0,
             "ticks": ""
            },
            "colorscale": [
             [
              0,
              "#0d0887"
             ],
             [
              0.1111111111111111,
              "#46039f"
             ],
             [
              0.2222222222222222,
              "#7201a8"
             ],
             [
              0.3333333333333333,
              "#9c179e"
             ],
             [
              0.4444444444444444,
              "#bd3786"
             ],
             [
              0.5555555555555556,
              "#d8576b"
             ],
             [
              0.6666666666666666,
              "#ed7953"
             ],
             [
              0.7777777777777778,
              "#fb9f3a"
             ],
             [
              0.8888888888888888,
              "#fdca26"
             ],
             [
              1,
              "#f0f921"
             ]
            ],
            "type": "heatmapgl"
           }
          ],
          "histogram": [
           {
            "marker": {
             "pattern": {
              "fillmode": "overlay",
              "size": 10,
              "solidity": 0.2
             }
            },
            "type": "histogram"
           }
          ],
          "histogram2d": [
           {
            "colorbar": {
             "outlinewidth": 0,
             "ticks": ""
            },
            "colorscale": [
             [
              0,
              "#0d0887"
             ],
             [
              0.1111111111111111,
              "#46039f"
             ],
             [
              0.2222222222222222,
              "#7201a8"
             ],
             [
              0.3333333333333333,
              "#9c179e"
             ],
             [
              0.4444444444444444,
              "#bd3786"
             ],
             [
              0.5555555555555556,
              "#d8576b"
             ],
             [
              0.6666666666666666,
              "#ed7953"
             ],
             [
              0.7777777777777778,
              "#fb9f3a"
             ],
             [
              0.8888888888888888,
              "#fdca26"
             ],
             [
              1,
              "#f0f921"
             ]
            ],
            "type": "histogram2d"
           }
          ],
          "histogram2dcontour": [
           {
            "colorbar": {
             "outlinewidth": 0,
             "ticks": ""
            },
            "colorscale": [
             [
              0,
              "#0d0887"
             ],
             [
              0.1111111111111111,
              "#46039f"
             ],
             [
              0.2222222222222222,
              "#7201a8"
             ],
             [
              0.3333333333333333,
              "#9c179e"
             ],
             [
              0.4444444444444444,
              "#bd3786"
             ],
             [
              0.5555555555555556,
              "#d8576b"
             ],
             [
              0.6666666666666666,
              "#ed7953"
             ],
             [
              0.7777777777777778,
              "#fb9f3a"
             ],
             [
              0.8888888888888888,
              "#fdca26"
             ],
             [
              1,
              "#f0f921"
             ]
            ],
            "type": "histogram2dcontour"
           }
          ],
          "mesh3d": [
           {
            "colorbar": {
             "outlinewidth": 0,
             "ticks": ""
            },
            "type": "mesh3d"
           }
          ],
          "parcoords": [
           {
            "line": {
             "colorbar": {
              "outlinewidth": 0,
              "ticks": ""
             }
            },
            "type": "parcoords"
           }
          ],
          "pie": [
           {
            "automargin": true,
            "type": "pie"
           }
          ],
          "scatter": [
           {
            "marker": {
             "colorbar": {
              "outlinewidth": 0,
              "ticks": ""
             }
            },
            "type": "scatter"
           }
          ],
          "scatter3d": [
           {
            "line": {
             "colorbar": {
              "outlinewidth": 0,
              "ticks": ""
             }
            },
            "marker": {
             "colorbar": {
              "outlinewidth": 0,
              "ticks": ""
             }
            },
            "type": "scatter3d"
           }
          ],
          "scattercarpet": [
           {
            "marker": {
             "colorbar": {
              "outlinewidth": 0,
              "ticks": ""
             }
            },
            "type": "scattercarpet"
           }
          ],
          "scattergeo": [
           {
            "marker": {
             "colorbar": {
              "outlinewidth": 0,
              "ticks": ""
             }
            },
            "type": "scattergeo"
           }
          ],
          "scattergl": [
           {
            "marker": {
             "colorbar": {
              "outlinewidth": 0,
              "ticks": ""
             }
            },
            "type": "scattergl"
           }
          ],
          "scattermapbox": [
           {
            "marker": {
             "colorbar": {
              "outlinewidth": 0,
              "ticks": ""
             }
            },
            "type": "scattermapbox"
           }
          ],
          "scatterpolar": [
           {
            "marker": {
             "colorbar": {
              "outlinewidth": 0,
              "ticks": ""
             }
            },
            "type": "scatterpolar"
           }
          ],
          "scatterpolargl": [
           {
            "marker": {
             "colorbar": {
              "outlinewidth": 0,
              "ticks": ""
             }
            },
            "type": "scatterpolargl"
           }
          ],
          "scatterternary": [
           {
            "marker": {
             "colorbar": {
              "outlinewidth": 0,
              "ticks": ""
             }
            },
            "type": "scatterternary"
           }
          ],
          "surface": [
           {
            "colorbar": {
             "outlinewidth": 0,
             "ticks": ""
            },
            "colorscale": [
             [
              0,
              "#0d0887"
             ],
             [
              0.1111111111111111,
              "#46039f"
             ],
             [
              0.2222222222222222,
              "#7201a8"
             ],
             [
              0.3333333333333333,
              "#9c179e"
             ],
             [
              0.4444444444444444,
              "#bd3786"
             ],
             [
              0.5555555555555556,
              "#d8576b"
             ],
             [
              0.6666666666666666,
              "#ed7953"
             ],
             [
              0.7777777777777778,
              "#fb9f3a"
             ],
             [
              0.8888888888888888,
              "#fdca26"
             ],
             [
              1,
              "#f0f921"
             ]
            ],
            "type": "surface"
           }
          ],
          "table": [
           {
            "cells": {
             "fill": {
              "color": "#EBF0F8"
             },
             "line": {
              "color": "white"
             }
            },
            "header": {
             "fill": {
              "color": "#C8D4E3"
             },
             "line": {
              "color": "white"
             }
            },
            "type": "table"
           }
          ]
         },
         "layout": {
          "annotationdefaults": {
           "arrowcolor": "#2a3f5f",
           "arrowhead": 0,
           "arrowwidth": 1
          },
          "autotypenumbers": "strict",
          "coloraxis": {
           "colorbar": {
            "outlinewidth": 0,
            "ticks": ""
           }
          },
          "colorscale": {
           "diverging": [
            [
             0,
             "#8e0152"
            ],
            [
             0.1,
             "#c51b7d"
            ],
            [
             0.2,
             "#de77ae"
            ],
            [
             0.3,
             "#f1b6da"
            ],
            [
             0.4,
             "#fde0ef"
            ],
            [
             0.5,
             "#f7f7f7"
            ],
            [
             0.6,
             "#e6f5d0"
            ],
            [
             0.7,
             "#b8e186"
            ],
            [
             0.8,
             "#7fbc41"
            ],
            [
             0.9,
             "#4d9221"
            ],
            [
             1,
             "#276419"
            ]
           ],
           "sequential": [
            [
             0,
             "#0d0887"
            ],
            [
             0.1111111111111111,
             "#46039f"
            ],
            [
             0.2222222222222222,
             "#7201a8"
            ],
            [
             0.3333333333333333,
             "#9c179e"
            ],
            [
             0.4444444444444444,
             "#bd3786"
            ],
            [
             0.5555555555555556,
             "#d8576b"
            ],
            [
             0.6666666666666666,
             "#ed7953"
            ],
            [
             0.7777777777777778,
             "#fb9f3a"
            ],
            [
             0.8888888888888888,
             "#fdca26"
            ],
            [
             1,
             "#f0f921"
            ]
           ],
           "sequentialminus": [
            [
             0,
             "#0d0887"
            ],
            [
             0.1111111111111111,
             "#46039f"
            ],
            [
             0.2222222222222222,
             "#7201a8"
            ],
            [
             0.3333333333333333,
             "#9c179e"
            ],
            [
             0.4444444444444444,
             "#bd3786"
            ],
            [
             0.5555555555555556,
             "#d8576b"
            ],
            [
             0.6666666666666666,
             "#ed7953"
            ],
            [
             0.7777777777777778,
             "#fb9f3a"
            ],
            [
             0.8888888888888888,
             "#fdca26"
            ],
            [
             1,
             "#f0f921"
            ]
           ]
          },
          "colorway": [
           "#636efa",
           "#EF553B",
           "#00cc96",
           "#ab63fa",
           "#FFA15A",
           "#19d3f3",
           "#FF6692",
           "#B6E880",
           "#FF97FF",
           "#FECB52"
          ],
          "font": {
           "color": "#2a3f5f"
          },
          "geo": {
           "bgcolor": "white",
           "lakecolor": "white",
           "landcolor": "#E5ECF6",
           "showlakes": true,
           "showland": true,
           "subunitcolor": "white"
          },
          "hoverlabel": {
           "align": "left"
          },
          "hovermode": "closest",
          "mapbox": {
           "style": "light"
          },
          "paper_bgcolor": "white",
          "plot_bgcolor": "#E5ECF6",
          "polar": {
           "angularaxis": {
            "gridcolor": "white",
            "linecolor": "white",
            "ticks": ""
           },
           "bgcolor": "#E5ECF6",
           "radialaxis": {
            "gridcolor": "white",
            "linecolor": "white",
            "ticks": ""
           }
          },
          "scene": {
           "xaxis": {
            "backgroundcolor": "#E5ECF6",
            "gridcolor": "white",
            "gridwidth": 2,
            "linecolor": "white",
            "showbackground": true,
            "ticks": "",
            "zerolinecolor": "white"
           },
           "yaxis": {
            "backgroundcolor": "#E5ECF6",
            "gridcolor": "white",
            "gridwidth": 2,
            "linecolor": "white",
            "showbackground": true,
            "ticks": "",
            "zerolinecolor": "white"
           },
           "zaxis": {
            "backgroundcolor": "#E5ECF6",
            "gridcolor": "white",
            "gridwidth": 2,
            "linecolor": "white",
            "showbackground": true,
            "ticks": "",
            "zerolinecolor": "white"
           }
          },
          "shapedefaults": {
           "line": {
            "color": "#2a3f5f"
           }
          },
          "ternary": {
           "aaxis": {
            "gridcolor": "white",
            "linecolor": "white",
            "ticks": ""
           },
           "baxis": {
            "gridcolor": "white",
            "linecolor": "white",
            "ticks": ""
           },
           "bgcolor": "#E5ECF6",
           "caxis": {
            "gridcolor": "white",
            "linecolor": "white",
            "ticks": ""
           }
          },
          "title": {
           "x": 0.05
          },
          "xaxis": {
           "automargin": true,
           "gridcolor": "white",
           "linecolor": "white",
           "ticks": "",
           "title": {
            "standoff": 15
           },
           "zerolinecolor": "white",
           "zerolinewidth": 2
          },
          "yaxis": {
           "automargin": true,
           "gridcolor": "white",
           "linecolor": "white",
           "ticks": "",
           "title": {
            "standoff": 15
           },
           "zerolinecolor": "white",
           "zerolinewidth": 2
          }
         }
        },
        "xaxis": {
         "anchor": "y",
         "domain": [
          0,
          1
         ],
         "title": {
          "text": "HExp_Pctage_Y"
         }
        },
        "yaxis": {
         "anchor": "x",
         "domain": [
          0,
          1
         ],
         "title": {
          "text": "Deaths_Suicides_p100"
         }
        }
       }
      }
     },
     "metadata": {},
     "output_type": "display_data"
    }
   ],
   "source": [
    "#we see a correlation between our self-constructed index based on ICD_10 and the Suicide Rate in WHO\n",
    "\n",
    "# #Then, comparing the ICD_10 deaths by self harm (average by country and 100,000 Population) with Health Expenditure\n",
    "fig7 = px.density_heatmap(df2,x='HExp_Pctage_Y',y='Deaths_Suicides_p100')\n",
    "fig7.show()"
   ]
  },
  {
   "cell_type": "code",
   "execution_count": 480,
   "metadata": {},
   "outputs": [
    {
     "data": {
      "text/plain": [
       "(array([[ 1.       , -0.0935651],\n",
       "        [-0.0935651,  1.       ]]),\n",
       " array([[ 1.       , -0.0407515],\n",
       "        [-0.0407515,  1.       ]]))"
      ]
     },
     "execution_count": 480,
     "metadata": {},
     "output_type": "execute_result"
    }
   ],
   "source": [
    "#Let's put this in a concise number, studying the correlation between both index, with the original dataframe\n",
    "r=np.corrcoef(df['Deaths_Suicides_p100'],df['HExp_Pctage_Y'])\n",
    "r2=np.corrcoef(df['Deaths_Suicides_p100'],df['MHExp_Pctage_2011'])\n",
    "r,r2"
   ]
  },
  {
   "cell_type": "code",
   "execution_count": 419,
   "metadata": {},
   "outputs": [],
   "source": [
    "#Not a strong correlation, but shows the negative relationship of less Health Expenditure & Mental Health Expenditure, on higher Deaths by suicide rates (decreasen respectively)"
   ]
  },
  {
   "cell_type": "code",
   "execution_count": 481,
   "metadata": {},
   "outputs": [
    {
     "data": {
      "application/vnd.plotly.v1+json": {
       "config": {
        "plotlyServerURL": "https://plot.ly"
       },
       "data": [
        {
         "mode": "markers",
         "type": "scattergl",
         "x": [
          0,
          0.003342682873040609,
          0.01423480047151353,
          0.0016466168560676727,
          0.003359101843349125,
          0.0032900613497739892,
          0.0033066931801734776,
          0.0017335430897358005,
          0.004955670781508787,
          0.009961160108581958,
          0.0032988331466358716,
          0.012140959944423543,
          0.0067363358731677295,
          0.006645324321564719,
          0.009961957277548499,
          0.00992913575809448,
          0.010080277820520955,
          0.010189501288105805,
          17.08291553587122,
          25.638406332686365,
          11.935578536106767,
          0.02786294939628651,
          11.775819724994138,
          12.317346798899965,
          0.017000881945037873,
          0.01335927834732902,
          0.00973382680266153,
          0.009878677492050751,
          0.009741867781032428,
          0.012034713601857159,
          0.008509330395685565,
          10.288501446727812,
          12.689926769900584,
          0.014029531040477723,
          0.02768573233087911,
          0.02826476795261468,
          0.013764407032786129,
          12.687502422511919,
          0.043006063639942915,
          11.401208528103979,
          11.443441121847467,
          19.073885029238514,
          21.398051415627,
          21.49146828324765,
          0.002615589367744306,
          0.002619155260092725,
          0.015811051608853557,
          0.007882470473447978,
          0.0026345754996755654,
          0.002631152839090217,
          0.00789856390417378,
          0.0026235764179204017,
          0.007862997439100364,
          0.0026280496150538047,
          0.007888170562861988,
          0.24240661285239862,
          0.24759890957440223,
          1.008952289528949,
          1.924455818641938,
          1.728611852928399,
          1.948033274882028,
          2.422935883835756,
          0.0052362632067394265,
          0.005240909818799998,
          26.337853420137055,
          0.002634191094442652,
          19.891963888583707,
          28.145412623267642,
          27.05793103033595,
          29.73858870166278,
          20.202404671732882,
          29.166154209137893,
          17.972707644117136,
          20.454883651943188,
          18.820123756865343,
          25.13599924841863,
          20.005893893249922,
          21.193707563863704,
          21.659801254325888,
          21.886713002519176,
          0.005247144851395217,
          0.03942968586921283,
          0.013175876340711297,
          0.006059124255866832,
          0.008468731923416096,
          0.17606261854907598,
          18.775809647703035,
          26.98668919136569,
          18.871020676074828,
          14.833319133916726,
          26.896726719106827,
          18.09900605045285,
          0.0014275712789313677,
          0.009561306235061654,
          0.009462307230328738,
          17.731448541882017,
          0.01212645310074861,
          19.422595592764633,
          14.667688026071861,
          18.8902376166963,
          22.46818086363978,
          19.329931302885132,
          14.905014121184664,
          20.332154336161857,
          20.147094678812397,
          16.540250091616294,
          23.705552089831567,
          28.88809644734046,
          24.950391035368273,
          0.020884042398782877,
          0.008969609393692526,
          0.009110896741833994,
          0.004476270929699986,
          0.016535138595671506,
          0.00503204253726454,
          0.016261796713881168,
          0.0046514786585507666,
          0.008651509539176047,
          0.012763709947584549,
          0.009491064447554562,
          0.004967029849266539,
          0.01545337099834958,
          0.016004885331198496,
          20.15094757432046,
          18.33963216786332,
          13.907999721840005,
          16.85141358862359,
          23.188090689143117,
          21.01680979441022,
          0.006438702819439285,
          0.002342372886040678,
          0.0024204858888214192,
          0.0024892028337881603,
          0.002269207731535661,
          0.004280014284975677,
          0.002149018532491119,
          0.002152614930963379,
          0.0022284834187574166,
          0.015680450369553237,
          0.015760955479556228,
          0.007324455775540295,
          0.011005242041345228,
          0.012241908285312509,
          0.01100816829326827,
          0.009696819954562156,
          0.018599897663363056,
          0.00977101981477322,
          0.0042458013270676625,
          0.004309402424431019,
          20.58310221303837,
          0.049891486017911046,
          16.10647711264061,
          14.303125260165388,
          16.308228834419445,
          14.336690493098843,
          16.731664883898063,
          17.55124281435152,
          17.128087805958042,
          17.767443962123266,
          16.091361395416364,
          17.16085310475815,
          14.946730292846011,
          0.021309648369492257,
          0.025770539119678384,
          0.07169315330385947,
          0.02289712778429074,
          0.023651005759019902,
          0.04893409311668579,
          2.462900071490667,
          2.2170901915599015,
          2.6123241517304003,
          7.462511224255996,
          6.912225867509379,
          7.642434027055686,
          7.746194113030631,
          6.1630025853040165,
          5.589759315529882,
          5.041882195126027,
          4.666179029939213,
          6.902838233862084,
          5.1256187985570545,
          0.02230450104831155,
          6.447736368394162,
          4.836766664401003,
          6.821063065604874,
          14.463544008476894,
          11.924671847936585,
          15.134480671106115,
          0.6955094432794662,
          13.439813308775129,
          0.008082037464834246,
          16.12564527034003,
          0.001585363920287902,
          0.007148076373224894,
          5.9765221077057875,
          0.011231585825068002,
          0.008798574490155402,
          0.00398049135710737,
          0.007912536217260773,
          0.0055578933996045955,
          0.0031694489965215455,
          0.007134929443475504,
          0.00638369354428004,
          0.0135238337682174,
          0.005563503417580671,
          0.007939154321281698,
          0.007132667617689016,
          0.0015862315104889558,
          0.009566936666879265,
          0.0031744016252936323,
          0.0063403499873193,
          12.091368425507346,
          11.536686663590217,
          9.901004515149264,
          0.09827169901804886,
          0.06701573956927753,
          0.07037627948802874,
          0.07788788480347221,
          0.06096915889069613,
          0.0749008732799817,
          0.08852530106631401,
          0.0545958369395992,
          0.061786383816839735,
          0.2555429754130598,
          0.07358338297027787,
          0.05508227701544843,
          0.07279938529816818,
          0.05971345429668299,
          0.04357557175235349,
          0.22012182885124873,
          0.06768797053553056,
          0.10136941789717621,
          0.05399864139418252,
          0.06838491471766132,
          8.463591666183406,
          0.21401935605565955,
          0.17513134851138354,
          0.16129032258064516,
          0.12680560149961406,
          0.1409313725490196,
          0.14425388684083987,
          0.15126225745879407,
          0.17308083893300755,
          0.15519666327173967,
          0.06578947368421052,
          0.14814814814814814,
          0.10434782608695652,
          0.07281473706730836,
          2.0469581450257124,
          0.22913402122815835,
          0.11699111514416953,
          0.1364178362193343,
          0.14244254855786356,
          5.967779443478644,
          0.0015289042404464889,
          6.466504789265682,
          0.021508810815490432,
          29.002156981316983,
          24.877138749037833,
          0.04968581176927698,
          30.293046718895074,
          21.953184271061872,
          25.192078431337517,
          20.5878677013623,
          32.523072374395475,
          0.09534910884339147,
          0.050568209688161024,
          3.6596227998629236,
          26.399120612074974,
          0.017246305996080433,
          0.012987510138780961,
          0.011179269341800874,
          0.01265333369079001,
          0.00963007047285572,
          0.011119103275454324,
          0.03931121445265006,
          0.00935607091427712,
          0.031989333476645544,
          0.11142806204314494,
          2.2797478598866965,
          2.964941267003146,
          0.16106189179003114,
          0.16098738932116985,
          0.06680472977486807,
          0.026827596475390375,
          0.04465168282704093,
          0.021165783859460042,
          0.0315146740200906,
          0.030940244641420356,
          0.011012603980318494,
          0.009942633490418656,
          0.031248767952221885,
          0.010077511177219585,
          0.01127104219044139,
          0.01124084671902728,
          0.0330609338041861,
          0.008069295755117918,
          6.1295577114803415,
          0.011901622143491669,
          0.011743764677503892,
          0.012894386496534262,
          0.0063749922822749685,
          0.0031576471108318346,
          0.003247719759718103,
          0.006192047083335294,
          1.1258022870918203,
          3.9081763487523427,
          1.3001866008547522,
          0.6409285306422103,
          1.5666557365103655,
          6.354065413649889,
          5.968203110854367,
          6.084182828893458,
          5.904080774732192,
          6.034496096438259,
          6.200755247321052,
          0.011806428411367136,
          0.01790514356284425,
          0.009534048410799264,
          0.01797152519661747,
          0.009836724956858174,
          0.009893919619966633,
          0.024935644841012072,
          0.01843217494989339,
          0.015204604048712374,
          0.020375001218255282,
          0.030247323898265423,
          0.024322624041430183,
          0.01857708334713714,
          0.012326426199868193,
          0.0062792325747999455,
          0.006232012852903308,
          0.006117614066890726,
          0.006104374052601147,
          0.01225489445165781,
          0.0057748700408808825,
          0.024074060476688065,
          0.003942548085386287
         ],
         "y": [
          4.23,
          4,
          4.92,
          5.03,
          4.38,
          4.36,
          4.44,
          4.84,
          4.74,
          5.34,
          4.92,
          4.71,
          5.22,
          4.47,
          4.95,
          5.4,
          4.15,
          4.86,
          5.63,
          5.36,
          5.51,
          3.54,
          3.46,
          3.71,
          3.01,
          3.26,
          3.16,
          3.31,
          3.07,
          7.23,
          3.51,
          3.55,
          5.12,
          4.49,
          3.28,
          3.4,
          3.72,
          3.78,
          4.35,
          4.11,
          4.48,
          4.52,
          8.2,
          8.31,
          8.18,
          8.93,
          8.07,
          8.23,
          8.79,
          9.47,
          8.34,
          8.56,
          8.95,
          8.18,
          8.44,
          8.1,
          9.33,
          8.35,
          8.78,
          8.36,
          9.73,
          8.64,
          5.01,
          7.15,
          6.19,
          4.49,
          8.31,
          6.2,
          4.59,
          6.41,
          5.82,
          8.19,
          6.9,
          6.95,
          7.11,
          8.51,
          6.53,
          7.36,
          4.41,
          4.28,
          7.45,
          6.93,
          4.67,
          5.13,
          5.66,
          5.22,
          5.08,
          5.62,
          5.07,
          5.08,
          5.14,
          5.46,
          4.97,
          4.99,
          5.3,
          10.74,
          10.75,
          7.69,
          7.24,
          7.54,
          7.35,
          10.73,
          7.78,
          10.49,
          10.67,
          8.96,
          10.67,
          10.75,
          7.49,
          7.66,
          8.09,
          9.06,
          7.03,
          10.66,
          10.66,
          4.42,
          3.46,
          3.62,
          3.82,
          3.67,
          3.45,
          3.52,
          3.57,
          3.84,
          3.39,
          3.33,
          3.68,
          3.19,
          3.75,
          3.79,
          4.09,
          4.08,
          3.33,
          4.18,
          3.87,
          4.36,
          4.39,
          3.69,
          2.73,
          1.99,
          2.67,
          2.76,
          2.73,
          9.04,
          8.25,
          9.01,
          8.86,
          8.62,
          9.07,
          7.79,
          10.29,
          10.11,
          10.32,
          10.57,
          10.58,
          10.54,
          10.23,
          10.13,
          10.16,
          10.03,
          9.1,
          9.05,
          9.08,
          8.06,
          7.71,
          9.06,
          8.65,
          9.28,
          9.99,
          9.11,
          7.27,
          9.58,
          9.71,
          10.02,
          10.08,
          10.16,
          10.21,
          11.23,
          10.32,
          11.54,
          11.3,
          10.5,
          11.18,
          11.29,
          10.39,
          11.42,
          5.67,
          5.49,
          8.57,
          5.65,
          6.12,
          5.44,
          5.6,
          5.52,
          5.85,
          5.54,
          5.72,
          6.12,
          5.78,
          5.47,
          5.37,
          6.58,
          5.38,
          6.22,
          6.14,
          6.19,
          5.97,
          5.77,
          8.15,
          8.13,
          10.95,
          8.21,
          8.21,
          8.77,
          10.94,
          8.32,
          7.9,
          7.33,
          10.85,
          10.9,
          8,
          10.79,
          8.05,
          10.8,
          10.74,
          10.42,
          8.32,
          6.66,
          8,
          7.06,
          9.07,
          7.44,
          8.05,
          7.9,
          7.42,
          7.19,
          7.17,
          7.11,
          7.63,
          9.57,
          7.88,
          8.09,
          8.08,
          8.01,
          10.36,
          9.13,
          5.5,
          10.32,
          10.12,
          9.95,
          10.01,
          5.85,
          6.64,
          11.34,
          8.44,
          10.18,
          5.41,
          6.6,
          6.75,
          6.52,
          6.45,
          6.55,
          6.95,
          6.95,
          6.47,
          6.62,
          6.01,
          5.46,
          6.77,
          5.31,
          5.44,
          5.36,
          8.66,
          7,
          7.9,
          8.5,
          6.57,
          9.09,
          8.89,
          8.9,
          8.38,
          8.94,
          8.81,
          8.45,
          7.86,
          8.17,
          7.92,
          7.71,
          8.05,
          7.95,
          5.8,
          6.41,
          6.24,
          6.59,
          6.38,
          6.39,
          6.39,
          6.53,
          6.22,
          6.33,
          5.87,
          5.95,
          6.07,
          5.29,
          5.67,
          5.81,
          6.56,
          6.45,
          6.41,
          5.87,
          8.54,
          8.74,
          8.54,
          7.85,
          8,
          8.5,
          8.5,
          8.46,
          7.88,
          8.57,
          7.8,
          8.02,
          8.1,
          8.19,
          7.82,
          7.51,
          8.72,
          8.52,
          7.94,
          8.28,
          6.55,
          6.86,
          7.06,
          7,
          7.77,
          6.76,
          6.83,
          7.12,
          6.78,
          7.49,
          8,
          7.25,
          7.43,
          8.12,
          7.79,
          7.22,
          6.35,
          7.46,
          7.1,
          7.24,
          8.14,
          8.95,
          8.77,
          8.73,
          8.44,
          8.53,
          8.34,
          8.78,
          8.68,
          8.17,
          8.92,
          8.87,
          8.78,
          8.86,
          7.83,
          7.34,
          7.58,
          7.41,
          6.16,
          6.29,
          6.6,
          7.14,
          7.13,
          6.89,
          7.17,
          7.52,
          7.71,
          7.48,
          6.53,
          7.14,
          10.05,
          11.7,
          10.25,
          11.02,
          9.89,
          9.92,
          11.24,
          10.4,
          10.18,
          11.33,
          10.31,
          11.24,
          11,
          10.15,
          11.1,
          11.18,
          10.78,
          10.85,
          10.18,
          11.45,
          7.92,
          9.12,
          6.77,
          7.73,
          9.09,
          8.96,
          8.38,
          9.17,
          8.99,
          7.83,
          6.8,
          6.8,
          7.66,
          9.13,
          9.07,
          9.11,
          9.13,
          9.16,
          7.56,
          9.65,
          9.62,
          8.27,
          7.72,
          7.47,
          9.28,
          9.52,
          9.12,
          7.9,
          7.9,
          8.33,
          9.59,
          9.36,
          8.64,
          7.58,
          9.24,
          8.56,
          10.13,
          13.68,
          5.93,
          7.02,
          6.59,
          7.4,
          7.01,
          9.14,
          10.54,
          8.63,
          6.23,
          9.1,
          7.54,
          10.95,
          11.02,
          9.56,
          8.97,
          8.68,
          9.78,
          9.81,
          9.38,
          9.59,
          7.94,
          7.63,
          7.25,
          9.22,
          8.28,
          8.06,
          9.13,
          9.16,
          7.09,
          8.29,
          9.04,
          8.34,
          9.14,
          8.08,
          8.79,
          9.25,
          9.58,
          10.13,
          10.03,
          9.31,
          9.53,
          9.32,
          9.41,
          9.65,
          9.34,
          9.4,
          9.12,
          9.39,
          9.65,
          9.73,
          8.32,
          7.96,
          7.84,
          8.07,
          7.91,
          8.1,
          9.59,
          6.51,
          5.77,
          5.71,
          4.7,
          6.35,
          4.98,
          5.79,
          6.27,
          5.16,
          5.98,
          5.12,
          4.78,
          4.86,
          6.43,
          6.08,
          4.77,
          5.06,
          8.68,
          9.16,
          7.7,
          7.89,
          8.11,
          8.07,
          9.04,
          8.76,
          8.26,
          9.27,
          7.9,
          9.25,
          9.33,
          8.54,
          8.56,
          8.43,
          7.61,
          7.99,
          9.91
         ]
        }
       ],
       "layout": {
        "template": {
         "data": {
          "bar": [
           {
            "error_x": {
             "color": "#2a3f5f"
            },
            "error_y": {
             "color": "#2a3f5f"
            },
            "marker": {
             "line": {
              "color": "#E5ECF6",
              "width": 0.5
             },
             "pattern": {
              "fillmode": "overlay",
              "size": 10,
              "solidity": 0.2
             }
            },
            "type": "bar"
           }
          ],
          "barpolar": [
           {
            "marker": {
             "line": {
              "color": "#E5ECF6",
              "width": 0.5
             },
             "pattern": {
              "fillmode": "overlay",
              "size": 10,
              "solidity": 0.2
             }
            },
            "type": "barpolar"
           }
          ],
          "carpet": [
           {
            "aaxis": {
             "endlinecolor": "#2a3f5f",
             "gridcolor": "white",
             "linecolor": "white",
             "minorgridcolor": "white",
             "startlinecolor": "#2a3f5f"
            },
            "baxis": {
             "endlinecolor": "#2a3f5f",
             "gridcolor": "white",
             "linecolor": "white",
             "minorgridcolor": "white",
             "startlinecolor": "#2a3f5f"
            },
            "type": "carpet"
           }
          ],
          "choropleth": [
           {
            "colorbar": {
             "outlinewidth": 0,
             "ticks": ""
            },
            "type": "choropleth"
           }
          ],
          "contour": [
           {
            "colorbar": {
             "outlinewidth": 0,
             "ticks": ""
            },
            "colorscale": [
             [
              0,
              "#0d0887"
             ],
             [
              0.1111111111111111,
              "#46039f"
             ],
             [
              0.2222222222222222,
              "#7201a8"
             ],
             [
              0.3333333333333333,
              "#9c179e"
             ],
             [
              0.4444444444444444,
              "#bd3786"
             ],
             [
              0.5555555555555556,
              "#d8576b"
             ],
             [
              0.6666666666666666,
              "#ed7953"
             ],
             [
              0.7777777777777778,
              "#fb9f3a"
             ],
             [
              0.8888888888888888,
              "#fdca26"
             ],
             [
              1,
              "#f0f921"
             ]
            ],
            "type": "contour"
           }
          ],
          "contourcarpet": [
           {
            "colorbar": {
             "outlinewidth": 0,
             "ticks": ""
            },
            "type": "contourcarpet"
           }
          ],
          "heatmap": [
           {
            "colorbar": {
             "outlinewidth": 0,
             "ticks": ""
            },
            "colorscale": [
             [
              0,
              "#0d0887"
             ],
             [
              0.1111111111111111,
              "#46039f"
             ],
             [
              0.2222222222222222,
              "#7201a8"
             ],
             [
              0.3333333333333333,
              "#9c179e"
             ],
             [
              0.4444444444444444,
              "#bd3786"
             ],
             [
              0.5555555555555556,
              "#d8576b"
             ],
             [
              0.6666666666666666,
              "#ed7953"
             ],
             [
              0.7777777777777778,
              "#fb9f3a"
             ],
             [
              0.8888888888888888,
              "#fdca26"
             ],
             [
              1,
              "#f0f921"
             ]
            ],
            "type": "heatmap"
           }
          ],
          "heatmapgl": [
           {
            "colorbar": {
             "outlinewidth": 0,
             "ticks": ""
            },
            "colorscale": [
             [
              0,
              "#0d0887"
             ],
             [
              0.1111111111111111,
              "#46039f"
             ],
             [
              0.2222222222222222,
              "#7201a8"
             ],
             [
              0.3333333333333333,
              "#9c179e"
             ],
             [
              0.4444444444444444,
              "#bd3786"
             ],
             [
              0.5555555555555556,
              "#d8576b"
             ],
             [
              0.6666666666666666,
              "#ed7953"
             ],
             [
              0.7777777777777778,
              "#fb9f3a"
             ],
             [
              0.8888888888888888,
              "#fdca26"
             ],
             [
              1,
              "#f0f921"
             ]
            ],
            "type": "heatmapgl"
           }
          ],
          "histogram": [
           {
            "marker": {
             "pattern": {
              "fillmode": "overlay",
              "size": 10,
              "solidity": 0.2
             }
            },
            "type": "histogram"
           }
          ],
          "histogram2d": [
           {
            "colorbar": {
             "outlinewidth": 0,
             "ticks": ""
            },
            "colorscale": [
             [
              0,
              "#0d0887"
             ],
             [
              0.1111111111111111,
              "#46039f"
             ],
             [
              0.2222222222222222,
              "#7201a8"
             ],
             [
              0.3333333333333333,
              "#9c179e"
             ],
             [
              0.4444444444444444,
              "#bd3786"
             ],
             [
              0.5555555555555556,
              "#d8576b"
             ],
             [
              0.6666666666666666,
              "#ed7953"
             ],
             [
              0.7777777777777778,
              "#fb9f3a"
             ],
             [
              0.8888888888888888,
              "#fdca26"
             ],
             [
              1,
              "#f0f921"
             ]
            ],
            "type": "histogram2d"
           }
          ],
          "histogram2dcontour": [
           {
            "colorbar": {
             "outlinewidth": 0,
             "ticks": ""
            },
            "colorscale": [
             [
              0,
              "#0d0887"
             ],
             [
              0.1111111111111111,
              "#46039f"
             ],
             [
              0.2222222222222222,
              "#7201a8"
             ],
             [
              0.3333333333333333,
              "#9c179e"
             ],
             [
              0.4444444444444444,
              "#bd3786"
             ],
             [
              0.5555555555555556,
              "#d8576b"
             ],
             [
              0.6666666666666666,
              "#ed7953"
             ],
             [
              0.7777777777777778,
              "#fb9f3a"
             ],
             [
              0.8888888888888888,
              "#fdca26"
             ],
             [
              1,
              "#f0f921"
             ]
            ],
            "type": "histogram2dcontour"
           }
          ],
          "mesh3d": [
           {
            "colorbar": {
             "outlinewidth": 0,
             "ticks": ""
            },
            "type": "mesh3d"
           }
          ],
          "parcoords": [
           {
            "line": {
             "colorbar": {
              "outlinewidth": 0,
              "ticks": ""
             }
            },
            "type": "parcoords"
           }
          ],
          "pie": [
           {
            "automargin": true,
            "type": "pie"
           }
          ],
          "scatter": [
           {
            "marker": {
             "colorbar": {
              "outlinewidth": 0,
              "ticks": ""
             }
            },
            "type": "scatter"
           }
          ],
          "scatter3d": [
           {
            "line": {
             "colorbar": {
              "outlinewidth": 0,
              "ticks": ""
             }
            },
            "marker": {
             "colorbar": {
              "outlinewidth": 0,
              "ticks": ""
             }
            },
            "type": "scatter3d"
           }
          ],
          "scattercarpet": [
           {
            "marker": {
             "colorbar": {
              "outlinewidth": 0,
              "ticks": ""
             }
            },
            "type": "scattercarpet"
           }
          ],
          "scattergeo": [
           {
            "marker": {
             "colorbar": {
              "outlinewidth": 0,
              "ticks": ""
             }
            },
            "type": "scattergeo"
           }
          ],
          "scattergl": [
           {
            "marker": {
             "colorbar": {
              "outlinewidth": 0,
              "ticks": ""
             }
            },
            "type": "scattergl"
           }
          ],
          "scattermapbox": [
           {
            "marker": {
             "colorbar": {
              "outlinewidth": 0,
              "ticks": ""
             }
            },
            "type": "scattermapbox"
           }
          ],
          "scatterpolar": [
           {
            "marker": {
             "colorbar": {
              "outlinewidth": 0,
              "ticks": ""
             }
            },
            "type": "scatterpolar"
           }
          ],
          "scatterpolargl": [
           {
            "marker": {
             "colorbar": {
              "outlinewidth": 0,
              "ticks": ""
             }
            },
            "type": "scatterpolargl"
           }
          ],
          "scatterternary": [
           {
            "marker": {
             "colorbar": {
              "outlinewidth": 0,
              "ticks": ""
             }
            },
            "type": "scatterternary"
           }
          ],
          "surface": [
           {
            "colorbar": {
             "outlinewidth": 0,
             "ticks": ""
            },
            "colorscale": [
             [
              0,
              "#0d0887"
             ],
             [
              0.1111111111111111,
              "#46039f"
             ],
             [
              0.2222222222222222,
              "#7201a8"
             ],
             [
              0.3333333333333333,
              "#9c179e"
             ],
             [
              0.4444444444444444,
              "#bd3786"
             ],
             [
              0.5555555555555556,
              "#d8576b"
             ],
             [
              0.6666666666666666,
              "#ed7953"
             ],
             [
              0.7777777777777778,
              "#fb9f3a"
             ],
             [
              0.8888888888888888,
              "#fdca26"
             ],
             [
              1,
              "#f0f921"
             ]
            ],
            "type": "surface"
           }
          ],
          "table": [
           {
            "cells": {
             "fill": {
              "color": "#EBF0F8"
             },
             "line": {
              "color": "white"
             }
            },
            "header": {
             "fill": {
              "color": "#C8D4E3"
             },
             "line": {
              "color": "white"
             }
            },
            "type": "table"
           }
          ]
         },
         "layout": {
          "annotationdefaults": {
           "arrowcolor": "#2a3f5f",
           "arrowhead": 0,
           "arrowwidth": 1
          },
          "autotypenumbers": "strict",
          "coloraxis": {
           "colorbar": {
            "outlinewidth": 0,
            "ticks": ""
           }
          },
          "colorscale": {
           "diverging": [
            [
             0,
             "#8e0152"
            ],
            [
             0.1,
             "#c51b7d"
            ],
            [
             0.2,
             "#de77ae"
            ],
            [
             0.3,
             "#f1b6da"
            ],
            [
             0.4,
             "#fde0ef"
            ],
            [
             0.5,
             "#f7f7f7"
            ],
            [
             0.6,
             "#e6f5d0"
            ],
            [
             0.7,
             "#b8e186"
            ],
            [
             0.8,
             "#7fbc41"
            ],
            [
             0.9,
             "#4d9221"
            ],
            [
             1,
             "#276419"
            ]
           ],
           "sequential": [
            [
             0,
             "#0d0887"
            ],
            [
             0.1111111111111111,
             "#46039f"
            ],
            [
             0.2222222222222222,
             "#7201a8"
            ],
            [
             0.3333333333333333,
             "#9c179e"
            ],
            [
             0.4444444444444444,
             "#bd3786"
            ],
            [
             0.5555555555555556,
             "#d8576b"
            ],
            [
             0.6666666666666666,
             "#ed7953"
            ],
            [
             0.7777777777777778,
             "#fb9f3a"
            ],
            [
             0.8888888888888888,
             "#fdca26"
            ],
            [
             1,
             "#f0f921"
            ]
           ],
           "sequentialminus": [
            [
             0,
             "#0d0887"
            ],
            [
             0.1111111111111111,
             "#46039f"
            ],
            [
             0.2222222222222222,
             "#7201a8"
            ],
            [
             0.3333333333333333,
             "#9c179e"
            ],
            [
             0.4444444444444444,
             "#bd3786"
            ],
            [
             0.5555555555555556,
             "#d8576b"
            ],
            [
             0.6666666666666666,
             "#ed7953"
            ],
            [
             0.7777777777777778,
             "#fb9f3a"
            ],
            [
             0.8888888888888888,
             "#fdca26"
            ],
            [
             1,
             "#f0f921"
            ]
           ]
          },
          "colorway": [
           "#636efa",
           "#EF553B",
           "#00cc96",
           "#ab63fa",
           "#FFA15A",
           "#19d3f3",
           "#FF6692",
           "#B6E880",
           "#FF97FF",
           "#FECB52"
          ],
          "font": {
           "color": "#2a3f5f"
          },
          "geo": {
           "bgcolor": "white",
           "lakecolor": "white",
           "landcolor": "#E5ECF6",
           "showlakes": true,
           "showland": true,
           "subunitcolor": "white"
          },
          "hoverlabel": {
           "align": "left"
          },
          "hovermode": "closest",
          "mapbox": {
           "style": "light"
          },
          "paper_bgcolor": "white",
          "plot_bgcolor": "#E5ECF6",
          "polar": {
           "angularaxis": {
            "gridcolor": "white",
            "linecolor": "white",
            "ticks": ""
           },
           "bgcolor": "#E5ECF6",
           "radialaxis": {
            "gridcolor": "white",
            "linecolor": "white",
            "ticks": ""
           }
          },
          "scene": {
           "xaxis": {
            "backgroundcolor": "#E5ECF6",
            "gridcolor": "white",
            "gridwidth": 2,
            "linecolor": "white",
            "showbackground": true,
            "ticks": "",
            "zerolinecolor": "white"
           },
           "yaxis": {
            "backgroundcolor": "#E5ECF6",
            "gridcolor": "white",
            "gridwidth": 2,
            "linecolor": "white",
            "showbackground": true,
            "ticks": "",
            "zerolinecolor": "white"
           },
           "zaxis": {
            "backgroundcolor": "#E5ECF6",
            "gridcolor": "white",
            "gridwidth": 2,
            "linecolor": "white",
            "showbackground": true,
            "ticks": "",
            "zerolinecolor": "white"
           }
          },
          "shapedefaults": {
           "line": {
            "color": "#2a3f5f"
           }
          },
          "ternary": {
           "aaxis": {
            "gridcolor": "white",
            "linecolor": "white",
            "ticks": ""
           },
           "baxis": {
            "gridcolor": "white",
            "linecolor": "white",
            "ticks": ""
           },
           "bgcolor": "#E5ECF6",
           "caxis": {
            "gridcolor": "white",
            "linecolor": "white",
            "ticks": ""
           }
          },
          "title": {
           "x": 0.05
          },
          "xaxis": {
           "automargin": true,
           "gridcolor": "white",
           "linecolor": "white",
           "ticks": "",
           "title": {
            "standoff": 15
           },
           "zerolinecolor": "white",
           "zerolinewidth": 2
          },
          "yaxis": {
           "automargin": true,
           "gridcolor": "white",
           "linecolor": "white",
           "ticks": "",
           "title": {
            "standoff": 15
           },
           "zerolinecolor": "white",
           "zerolinewidth": 2
          }
         }
        },
        "title": {
         "text": "Level of deaths by suicide in comparison to Health Expenditure"
        }
       }
      }
     },
     "metadata": {},
     "output_type": "display_data"
    }
   ],
   "source": [
    "#Let see the relation in a graph\n",
    "figr=go.Figure(go.Scattergl(x=df['Deaths_Suicides_p100'].value_counts().index,y=df['HExp_Pctage_Y'].values,mode='markers'))\n",
    "figr.update_layout(title=\"Level of deaths by suicide in comparison to Health Expenditure\")\n",
    "figr.show()"
   ]
  },
  {
   "cell_type": "code",
   "execution_count": 599,
   "metadata": {},
   "outputs": [
    {
     "data": {
      "text/html": [
       "<table class=\"simpletable\">\n",
       "<caption>OLS Regression Results</caption>\n",
       "<tr>\n",
       "  <th>Dep. Variable:</th>    <td>Deaths_Suicides_p100</td> <th>  R-squared:         </th> <td>   0.009</td>\n",
       "</tr>\n",
       "<tr>\n",
       "  <th>Model:</th>                     <td>OLS</td>         <th>  Adj. R-squared:    </th> <td>   0.007</td>\n",
       "</tr>\n",
       "<tr>\n",
       "  <th>Method:</th>               <td>Least Squares</td>    <th>  F-statistic:       </th> <td>   4.672</td>\n",
       "</tr>\n",
       "<tr>\n",
       "  <th>Date:</th>               <td>Fri, 02 Sep 2022</td>   <th>  Prob (F-statistic):</th>  <td>0.0311</td> \n",
       "</tr>\n",
       "<tr>\n",
       "  <th>Time:</th>                   <td>18:01:05</td>       <th>  Log-Likelihood:    </th> <td> -1800.8</td>\n",
       "</tr>\n",
       "<tr>\n",
       "  <th>No. Observations:</th>        <td>   531</td>        <th>  AIC:               </th> <td>   3606.</td>\n",
       "</tr>\n",
       "<tr>\n",
       "  <th>Df Residuals:</th>            <td>   529</td>        <th>  BIC:               </th> <td>   3614.</td>\n",
       "</tr>\n",
       "<tr>\n",
       "  <th>Df Model:</th>                <td>     1</td>        <th>                     </th>     <td> </td>   \n",
       "</tr>\n",
       "<tr>\n",
       "  <th>Covariance Type:</th>        <td>nonrobust</td>      <th>                     </th>     <td> </td>   \n",
       "</tr>\n",
       "</table>\n",
       "<table class=\"simpletable\">\n",
       "<tr>\n",
       "        <td></td>           <th>coef</th>     <th>std err</th>      <th>t</th>      <th>P>|t|</th>  <th>[0.025</th>    <th>0.975]</th>  \n",
       "</tr>\n",
       "<tr>\n",
       "  <th>const</th>         <td>    5.7358</td> <td>    1.166</td> <td>    4.919</td> <td> 0.000</td> <td>    3.445</td> <td>    8.027</td>\n",
       "</tr>\n",
       "<tr>\n",
       "  <th>HExp_Pctage_Y</th> <td>   -0.3214</td> <td>    0.149</td> <td>   -2.161</td> <td> 0.031</td> <td>   -0.613</td> <td>   -0.029</td>\n",
       "</tr>\n",
       "</table>\n",
       "<table class=\"simpletable\">\n",
       "<tr>\n",
       "  <th>Omnibus:</th>       <td>225.203</td> <th>  Durbin-Watson:     </th> <td>   0.789</td> \n",
       "</tr>\n",
       "<tr>\n",
       "  <th>Prob(Omnibus):</th> <td> 0.000</td>  <th>  Jarque-Bera (JB):  </th> <td> 664.067</td> \n",
       "</tr>\n",
       "<tr>\n",
       "  <th>Skew:</th>          <td> 2.148</td>  <th>  Prob(JB):          </th> <td>6.31e-145</td>\n",
       "</tr>\n",
       "<tr>\n",
       "  <th>Kurtosis:</th>      <td> 6.400</td>  <th>  Cond. No.          </th> <td>    29.7</td> \n",
       "</tr>\n",
       "</table><br/><br/>Notes:<br/>[1] Standard Errors assume that the covariance matrix of the errors is correctly specified."
      ],
      "text/plain": [
       "<class 'statsmodels.iolib.summary.Summary'>\n",
       "\"\"\"\n",
       "                             OLS Regression Results                             \n",
       "================================================================================\n",
       "Dep. Variable:     Deaths_Suicides_p100   R-squared:                       0.009\n",
       "Model:                              OLS   Adj. R-squared:                  0.007\n",
       "Method:                   Least Squares   F-statistic:                     4.672\n",
       "Date:                  Fri, 02 Sep 2022   Prob (F-statistic):             0.0311\n",
       "Time:                          18:01:05   Log-Likelihood:                -1800.8\n",
       "No. Observations:                   531   AIC:                             3606.\n",
       "Df Residuals:                       529   BIC:                             3614.\n",
       "Df Model:                             1                                         \n",
       "Covariance Type:              nonrobust                                         \n",
       "=================================================================================\n",
       "                    coef    std err          t      P>|t|      [0.025      0.975]\n",
       "---------------------------------------------------------------------------------\n",
       "const             5.7358      1.166      4.919      0.000       3.445       8.027\n",
       "HExp_Pctage_Y    -0.3214      0.149     -2.161      0.031      -0.613      -0.029\n",
       "==============================================================================\n",
       "Omnibus:                      225.203   Durbin-Watson:                   0.789\n",
       "Prob(Omnibus):                  0.000   Jarque-Bera (JB):              664.067\n",
       "Skew:                           2.148   Prob(JB):                    6.31e-145\n",
       "Kurtosis:                       6.400   Cond. No.                         29.7\n",
       "==============================================================================\n",
       "\n",
       "Notes:\n",
       "[1] Standard Errors assume that the covariance matrix of the errors is correctly specified.\n",
       "\"\"\""
      ]
     },
     "execution_count": 599,
     "metadata": {},
     "output_type": "execute_result"
    }
   ],
   "source": [
    "#Simple linear regression with both indexes\n",
    "import statsmodels.api as sm\n",
    "model_dummies=pd.get_dummies(df,columns=['Country_Name','Year'])\n",
    "#model_dummies.shape\n",
    "\n",
    "#we define our set of variables\n",
    "Y= model_dummies.Deaths_Suicides_p100\n",
    "\n",
    "def inums(indexes, dataframe):\n",
    "    i_out = [] \n",
    "    for i in indexes:\n",
    "        for j in dataframe.columns:\n",
    "            if i == j:\n",
    "                i_out.append(j)\n",
    "    return dataframe.loc[:,i_out]\n",
    "        \n",
    "#create data for questions 2,4,5\n",
    "questions =  inums(['HExp_Pctage_Y'], model_dummies) ##Population and Death all types have multicollinearity with Deaths by suicides\n",
    "questions\n",
    "\n",
    "\n",
    "X =sm.add_constant(questions) #intercept\n",
    "\n",
    "#fit model with data, and create summary\n",
    "model = sm.OLS(Y,X)\n",
    "results=model.fit()\n",
    "results.summary()"
   ]
  }
 ],
 "metadata": {
  "kernelspec": {
   "display_name": "Python 3.7.6 ('PythonData')",
   "language": "python",
   "name": "python3"
  },
  "language_info": {
   "codemirror_mode": {
    "name": "ipython",
    "version": 3
   },
   "file_extension": ".py",
   "mimetype": "text/x-python",
   "name": "python",
   "nbconvert_exporter": "python",
   "pygments_lexer": "ipython3",
   "version": "3.7.6"
  },
  "orig_nbformat": 4,
  "vscode": {
   "interpreter": {
    "hash": "fcbd1d899e2589b09a17554031c32842e524957600f5946fe1e3ecf77021f783"
   }
  }
 },
 "nbformat": 4,
 "nbformat_minor": 2
}
